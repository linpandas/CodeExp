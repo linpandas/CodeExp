{
 "cells": [
  {
   "cell_type": "code",
   "execution_count": 1,
   "metadata": {},
   "outputs": [
    {
     "data": {
      "text/plain": [
       "[1, 0]"
      ]
     },
     "execution_count": 1,
     "metadata": {},
     "output_type": "execute_result"
    }
   ],
   "source": [
    "nums, target = [2,7,11,15], 9\n",
    "\n",
    "def TwoSum(nums, target):\n",
    "    hashmap = dict()\n",
    "\n",
    "    for i, item in enumerate(nums):\n",
    "        if target - item in hashmap:\n",
    "            return [i, hashmap[target - item]]\n",
    "        hashmap[item] = i\n",
    "\n",
    "TwoSum(nums, target)"
   ]
  },
  {
   "cell_type": "code",
   "execution_count": 3,
   "metadata": {},
   "outputs": [
    {
     "data": {
      "text/plain": [
       "[1, 0]"
      ]
     },
     "execution_count": 3,
     "metadata": {},
     "output_type": "execute_result"
    }
   ],
   "source": [
    "nums, target = [2,7,11,15], 9\n",
    "\n",
    "def TwoSum(nums, target):\n",
    "    hashmap = {}\n",
    "    for i, item in enumerate(nums):\n",
    "        if target - item in hashmap:\n",
    "            return [i, hashmap[target - item]]\n",
    "        hashmap[item] = i\n",
    "\n",
    "TwoSum(nums, target)"
   ]
  },
  {
   "cell_type": "code",
   "execution_count": null,
   "metadata": {},
   "outputs": [],
   "source": []
  }
 ],
 "metadata": {
  "kernelspec": {
   "display_name": "Python 3.10.6 64-bit",
   "language": "python",
   "name": "python3"
  },
  "language_info": {
   "codemirror_mode": {
    "name": "ipython",
    "version": 3
   },
   "file_extension": ".py",
   "mimetype": "text/x-python",
   "name": "python",
   "nbconvert_exporter": "python",
   "pygments_lexer": "ipython3",
   "version": "3.10.6"
  },
  "orig_nbformat": 4,
  "vscode": {
   "interpreter": {
    "hash": "43e4d72c8ad61331984bc36f87d846bb73452d1c2c0cb0d0679bd7cf00b5eb21"
   }
  }
 },
 "nbformat": 4,
 "nbformat_minor": 2
}
