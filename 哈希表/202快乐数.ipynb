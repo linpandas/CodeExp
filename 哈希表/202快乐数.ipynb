{
 "cells": [
  {
   "cell_type": "code",
   "execution_count": 13,
   "metadata": {},
   "outputs": [
    {
     "data": {
      "text/plain": [
       "False"
      ]
     },
     "execution_count": 13,
     "metadata": {},
     "output_type": "execute_result"
    }
   ],
   "source": [
    "n = 2\n",
    "\n",
    "def get_sum(n):\n",
    "    new_sum = 0\n",
    "    while n:\n",
    "        n, r = divmod(n, 10)\n",
    "        new_sum += r ** 2\n",
    "\n",
    "    return new_sum\n",
    "\n",
    "record = set()\n",
    "\n",
    "def isHappy(n):\n",
    "    while True:\n",
    "        n = get_sum(n)\n",
    "\n",
    "        if n == 1:\n",
    "            return True\n",
    "        \n",
    "        if n in record:\n",
    "            return False\n",
    "        else:\n",
    "            record.add(n)\n",
    "\n",
    "isHappy(n)\n",
    "        "
   ]
  },
  {
   "cell_type": "code",
   "execution_count": 6,
   "metadata": {},
   "outputs": [
    {
     "data": {
      "text/plain": [
       "True"
      ]
     },
     "execution_count": 6,
     "metadata": {},
     "output_type": "execute_result"
    }
   ],
   "source": [
    "n = 19\n",
    "\n",
    "class Solution:\n",
    "    def isHappy(self, n: int) -> bool:\n",
    "        record = set()\n",
    "        while True:\n",
    "            new_n = 0\n",
    "            for i in str(n):\n",
    "                new_n += int(i) ** 2\n",
    "            \n",
    "            if new_n == 1:\n",
    "                return True\n",
    "\n",
    "            if new_n in record:\n",
    "                return False\n",
    "            else:\n",
    "                record.add(new_n)\n",
    "                n = new_n\n",
    "\n",
    "Solution().isHappy(n)"
   ]
  },
  {
   "cell_type": "code",
   "execution_count": 2,
   "metadata": {},
   "outputs": [
    {
     "data": {
      "text/plain": [
       "'12'"
      ]
     },
     "execution_count": 2,
     "metadata": {},
     "output_type": "execute_result"
    }
   ],
   "source": [
    "str(12)"
   ]
  }
 ],
 "metadata": {
  "kernelspec": {
   "display_name": "Python 3.10.6 64-bit",
   "language": "python",
   "name": "python3"
  },
  "language_info": {
   "codemirror_mode": {
    "name": "ipython",
    "version": 3
   },
   "file_extension": ".py",
   "mimetype": "text/x-python",
   "name": "python",
   "nbconvert_exporter": "python",
   "pygments_lexer": "ipython3",
   "version": "3.10.6"
  },
  "orig_nbformat": 4,
  "vscode": {
   "interpreter": {
    "hash": "43e4d72c8ad61331984bc36f87d846bb73452d1c2c0cb0d0679bd7cf00b5eb21"
   }
  }
 },
 "nbformat": 4,
 "nbformat_minor": 2
}
