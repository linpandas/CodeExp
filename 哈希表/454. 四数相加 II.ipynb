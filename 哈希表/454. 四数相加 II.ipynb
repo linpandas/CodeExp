{
 "cells": [
  {
   "cell_type": "code",
   "execution_count": 4,
   "metadata": {},
   "outputs": [
    {
     "data": {
      "text/plain": [
       "2"
      ]
     },
     "execution_count": 4,
     "metadata": {},
     "output_type": "execute_result"
    }
   ],
   "source": [
    "nums1, nums2, nums3, nums4 = [1,2], [-2,-1], [-1,2], [0,2]\n",
    "class Solution:\n",
    "    def fourSumCount(self, nums1, nums2, nums3, nums4):\n",
    "        hashmap = dict()\n",
    "        result = 0\n",
    "\n",
    "        for i in nums1:\n",
    "            for j in nums2:\n",
    "                hashmap[i+j] = hashmap.get(i+j, 0) + 1\n",
    "\n",
    "        for i in nums3:\n",
    "            for j in nums4:\n",
    "                key = -i-j\n",
    "                if key in hashmap:\n",
    "                    result += hashmap[key]\n",
    "\n",
    "        return result\n",
    "\n",
    "Solution().fourSumCount(nums1, nums2, nums3, nums4)"
   ]
  }
 ],
 "metadata": {
  "kernelspec": {
   "display_name": "Python 3.10.6 64-bit",
   "language": "python",
   "name": "python3"
  },
  "language_info": {
   "codemirror_mode": {
    "name": "ipython",
    "version": 3
   },
   "file_extension": ".py",
   "mimetype": "text/x-python",
   "name": "python",
   "nbconvert_exporter": "python",
   "pygments_lexer": "ipython3",
   "version": "3.10.6"
  },
  "orig_nbformat": 4,
  "vscode": {
   "interpreter": {
    "hash": "43e4d72c8ad61331984bc36f87d846bb73452d1c2c0cb0d0679bd7cf00b5eb21"
   }
  }
 },
 "nbformat": 4,
 "nbformat_minor": 2
}
