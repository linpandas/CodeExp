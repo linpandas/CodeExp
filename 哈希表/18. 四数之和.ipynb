{
 "cells": [
  {
   "cell_type": "code",
   "execution_count": 3,
   "metadata": {},
   "outputs": [
    {
     "data": {
      "text/plain": [
       "[[-2, -1, 1, 2], [-2, 0, 0, 2], [-1, 0, 0, 1]]"
      ]
     },
     "execution_count": 3,
     "metadata": {},
     "output_type": "execute_result"
    }
   ],
   "source": [
    "nums, target = [1,0,-1,0,-2,2], 0\n",
    "class Solution:\n",
    "    def fourSum(self, nums, target: int):\n",
    "        result = []\n",
    "        nums.sort()\n",
    "        for i in range(len(nums)):\n",
    "            if i > 0 and nums[i] == nums[i-1]:\n",
    "                continue\n",
    "            for j in range(i+1, len(nums)):\n",
    "                if j > i+1 and nums[j] == nums[j-1]:\n",
    "                    continue\n",
    "\n",
    "                l, r = j+1, len(nums)-1\n",
    "                while l < r:\n",
    "                    sum_ = nums[i] + nums[j] + nums[l] + nums[r]\n",
    "                    if sum_ < target:\n",
    "                        l += 1\n",
    "                    elif sum_ > target:\n",
    "                        r -= 1\n",
    "                    else:\n",
    "                        result.append([nums[i], nums[j], nums[l], nums[r]])\n",
    "\n",
    "                        while l < r and nums[l] == nums[l+1]:\n",
    "                            l += 1\n",
    "                        while l < r and nums[r] == nums[r-1]:\n",
    "                            r -= 1\n",
    "                        l += 1\n",
    "                        r -= 1\n",
    "\n",
    "        return result\n",
    "\n",
    "Solution().fourSum(nums, target)"
   ]
  },
  {
   "cell_type": "code",
   "execution_count": null,
   "metadata": {},
   "outputs": [],
   "source": []
  }
 ],
 "metadata": {
  "kernelspec": {
   "display_name": "Python 3.10.6 64-bit",
   "language": "python",
   "name": "python3"
  },
  "language_info": {
   "codemirror_mode": {
    "name": "ipython",
    "version": 3
   },
   "file_extension": ".py",
   "mimetype": "text/x-python",
   "name": "python",
   "nbconvert_exporter": "python",
   "pygments_lexer": "ipython3",
   "version": "3.10.6"
  },
  "orig_nbformat": 4,
  "vscode": {
   "interpreter": {
    "hash": "43e4d72c8ad61331984bc36f87d846bb73452d1c2c0cb0d0679bd7cf00b5eb21"
   }
  }
 },
 "nbformat": 4,
 "nbformat_minor": 2
}
