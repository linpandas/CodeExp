{
 "cells": [
  {
   "cell_type": "markdown",
   "metadata": {},
   "source": [
    "## LeetCode Hot100"
   ]
  },
  {
   "cell_type": "markdown",
   "metadata": {},
   "source": [
    "### 哈希\n",
    "\n",
    "* [1. 两数之和](../LeetCode/)\n",
    "* [49. 字母异位词分组](../LeetCode/)\n",
    "* [128. 最长连续序列](../LeetCode/)"
   ]
  },
  {
   "cell_type": "markdown",
   "metadata": {},
   "source": [
    "### 双指针\n",
    "\n",
    "* [283. 移动零](../LeetCode/)\n",
    "* [11. 盛最多水的容器](../LeetCode/)\n",
    "* [15. 三数之和](../LeetCode/)\n",
    "* [42. 接雨水](../LeetCode/)"
   ]
  },
  {
   "cell_type": "markdown",
   "metadata": {},
   "source": [
    "### 滑动窗口\n",
    "\n",
    "* [3. 无重复字符的最长子串](../LeetCode/)\n",
    "* [438. 找到字符串中所有字母异位词](../LeetCode/)"
   ]
  },
  {
   "cell_type": "markdown",
   "metadata": {},
   "source": [
    "### 子串\n",
    "\n",
    "* [560. 和为 K 的子数组](../LeetCode/)\n",
    "* [239. 滑动窗口最大值](../LeetCode/)\n",
    "* [76. 最小覆盖子串](../LeetCode/)"
   ]
  },
  {
   "cell_type": "markdown",
   "metadata": {},
   "source": [
    "### 普通数组\n",
    "\n",
    "* [53. 最大子数组和](../LeetCode/)\n",
    "* [56. 合并区间](../LeetCode/)\n",
    "* [189. 轮转数组](../LeetCode/)\n",
    "* [238. 除自身以外数组的乘积](../LeetCode/)\n",
    "* [41. 缺失的第一个正数](../LeetCode/)"
   ]
  },
  {
   "cell_type": "markdown",
   "metadata": {},
   "source": [
    "### 矩阵\n",
    "\n",
    "* [73. 矩阵置零](../LeetCode/)\n",
    "* [54. 螺旋矩阵](../LeetCode/)\n",
    "* [48. 旋转图像](../LeetCode/)\n",
    "* [240. 搜索二维矩阵 II](../LeetCode/)"
   ]
  },
  {
   "cell_type": "markdown",
   "metadata": {},
   "source": [
    "### 链表\n",
    "\n",
    "* [160. 相交链表](../LeetCode/)\n",
    "* [206. 反转链表](../LeetCode/)\n",
    "* [234. 回文链表](../LeetCode/)\n",
    "* [141. 环形链表](../LeetCode/)\n",
    "* [142. 环形链表 II](../LeetCode/)\n",
    "* [21. 合并两个有序链表](../LeetCode/)\n",
    "* [2. 两数相加](../LeetCode/)\n",
    "* [19. 删除链表的倒数第 N 个结点](../LeetCode/)\n",
    "* [24. 两两交换链表中的节点](../LeetCode/)\n",
    "* [25. K 个一组翻转链表](../LeetCode/)\n",
    "* [138. 随机链表的复制](../LeetCode/)\n",
    "* [148. 排序链表](../LeetCode/)\n",
    "* [23. 合并 K 个升序链表](../LeetCode/)\n",
    "* [146. LRU 缓存](../LeetCode/)"
   ]
  },
  {
   "cell_type": "markdown",
   "metadata": {},
   "source": [
    "### 二叉树"
   ]
  },
  {
   "cell_type": "code",
   "execution_count": 1,
   "metadata": {},
   "outputs": [],
   "source": [
    "class TreeNode:\n",
    "    def __init__(self, val=0, left=None, right=None):\n",
    "        self.val = val\n",
    "        self.left = left\n",
    "        self.right = right"
   ]
  },
  {
   "cell_type": "markdown",
   "metadata": {},
   "source": [
    "### 图论\n",
    "* [200. 岛屿数量](../LeetCode/200.岛屿数量.py)\n",
    "* [994. 腐烂的橘子](../LeetCode/994.腐烂的橘子.py)\n",
    "* [207. 课程表](../LeetCode/)\n",
    "* [208. 实现 Trie (前缀树)](../LeetCode/)"
   ]
  },
  {
   "cell_type": "markdown",
   "metadata": {},
   "source": [
    "### 回溯\n",
    "* [46. 全排列](../LeetCode/46.全排列.py)\n",
    "* [78. 子集](../LeetCode/78.子集.py)\n",
    "* [17. 电话号码的字母组合](../LeetCode/17.电话号码的字母组合.py)\n",
    "* [39. 组合总和](../LeetCode/39.组合总和.py)\n",
    "* [22. 括号生成](../LeetCode/22.括号生成.py)\n",
    "* [79. 单词搜索](../LeetCode/79.单词搜索.py)\n",
    "* [131. 分割回文串](../LeetCode/131.分割回文串.py)\n",
    "* [51. N 皇后](../LeetCode/51.n-皇后.py)"
   ]
  },
  {
   "cell_type": "markdown",
   "metadata": {},
   "source": [
    "### 二分查找"
   ]
  },
  {
   "cell_type": "markdown",
   "metadata": {},
   "source": [
    "### 栈"
   ]
  },
  {
   "cell_type": "markdown",
   "metadata": {},
   "source": [
    "### 堆"
   ]
  },
  {
   "cell_type": "markdown",
   "metadata": {},
   "source": [
    "### 贪心算法"
   ]
  },
  {
   "cell_type": "markdown",
   "metadata": {},
   "source": [
    "### 动态规划"
   ]
  },
  {
   "cell_type": "markdown",
   "metadata": {},
   "source": [
    "### 多维动态规划"
   ]
  },
  {
   "cell_type": "markdown",
   "metadata": {},
   "source": [
    "### 技巧"
   ]
  },
  {
   "cell_type": "markdown",
   "metadata": {},
   "source": []
  }
 ],
 "metadata": {
  "kernelspec": {
   "display_name": "Analysis",
   "language": "python",
   "name": "python3"
  },
  "language_info": {
   "codemirror_mode": {
    "name": "ipython",
    "version": 3
   },
   "file_extension": ".py",
   "mimetype": "text/x-python",
   "name": "python",
   "nbconvert_exporter": "python",
   "pygments_lexer": "ipython3",
   "version": "3.12.3"
  }
 },
 "nbformat": 4,
 "nbformat_minor": 2
}
