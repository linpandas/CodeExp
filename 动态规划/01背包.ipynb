{
 "cells": [
  {
   "cell_type": "code",
   "execution_count": 15,
   "metadata": {},
   "outputs": [
    {
     "data": {
      "text/plain": [
       "[[0, 15, 15, 15, 15], [0, 15, 15, 20, 35], [0, 15, 15, 20, 35]]"
      ]
     },
     "execution_count": 15,
     "metadata": {},
     "output_type": "execute_result"
    }
   ],
   "source": [
    "weight = [1, 3, 4]\n",
    "value = [15, 20, 30]\n",
    "bagWeight = 4\n",
    "\n",
    "dp = [[0]*(bagWeight+1) for _ in range(len(weight))] # 从下标[0-i]的物品里任意取，放进容量为j的背包，价值总和最大是多少\n",
    "dp[0][1], dp[0][2], dp[0][3] = 15, 15, 15\n",
    "for j in range(weight[0], bagWeight+1):\n",
    "    dp[0][j] = value[0]\n",
    "\n",
    "for i in range(1, len(weight)):\n",
    "    for j in range(1, bagWeight+1):\n",
    "        if j < weight[i]:\n",
    "            dp[i][j] = dp[i-1][j]\n",
    "        else:\n",
    "            dp[i][j] = max(dp[i-1][j], dp[i-1][j-weight[i]]+value[i])\n",
    "dp"
   ]
  },
  {
   "cell_type": "code",
   "execution_count": 2,
   "metadata": {},
   "outputs": [
    {
     "data": {
      "text/plain": [
       "35"
      ]
     },
     "execution_count": 2,
     "metadata": {},
     "output_type": "execute_result"
    }
   ],
   "source": [
    "weight = [1, 3, 4]\n",
    "value = [15, 20, 30]\n",
    "bagWeight = 4\n",
    "def zero_one_bag(weight, value, bagWeight):\n",
    "    dp = [0] * (bagWeight+1)\n",
    "    for i in range(len(weight)):\n",
    "        for j in range(bagWeight, weight[i]-1, -1):\n",
    "            dp[j] = max(dp[j], dp[j-weight[i]]+value[i])\n",
    "    \n",
    "    return dp[bagWeight]\n",
    "\n",
    "zero_one_bag(weight, value, bagWeight)"
   ]
  }
 ],
 "metadata": {
  "kernelspec": {
   "display_name": "Python 3.10.6 64-bit",
   "language": "python",
   "name": "python3"
  },
  "language_info": {
   "codemirror_mode": {
    "name": "ipython",
    "version": 3
   },
   "file_extension": ".py",
   "mimetype": "text/x-python",
   "name": "python",
   "nbconvert_exporter": "python",
   "pygments_lexer": "ipython3",
   "version": "3.10.6"
  },
  "orig_nbformat": 4,
  "vscode": {
   "interpreter": {
    "hash": "43e4d72c8ad61331984bc36f87d846bb73452d1c2c0cb0d0679bd7cf00b5eb21"
   }
  }
 },
 "nbformat": 4,
 "nbformat_minor": 2
}
