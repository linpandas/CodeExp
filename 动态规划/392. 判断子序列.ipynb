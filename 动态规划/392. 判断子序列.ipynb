{
 "cells": [
  {
   "cell_type": "code",
   "execution_count": 1,
   "metadata": {},
   "outputs": [
    {
     "data": {
      "text/plain": [
       "[[0, 0, 0, 0, 0, 0, 0],\n",
       " [0, 1, 1, 1, 1, 1, 1],\n",
       " [0, 0, 0, 0, 0, 0, 2],\n",
       " [0, 0, 0, 1, 1, 1, 1]]"
      ]
     },
     "execution_count": 1,
     "metadata": {},
     "output_type": "execute_result"
    }
   ],
   "source": [
    "s = \"acb\"\n",
    "t = \"ahbgdc\"\n",
    "\n",
    "\n",
    "# 动态规划\n",
    "m, n = len(s), len(t)\n",
    "# dp[i][j]表示以i-1为结尾的字符串s，和以j-1为结尾的字符串t\n",
    "# 相同子序列的长度为dp[i][j]\n",
    "dp = [[0] * (n+1) for _ in range(m+1)]\n",
    "max_length = 0\n",
    "for i in range(1, m+1):\n",
    "    for j in range(1, n+1):\n",
    "        if s[i-1] == t[j-1]:\n",
    "            dp[i][j] = dp[i-1][j-1] + 1\n",
    "            max_length += 1\n",
    "        else:\n",
    "            dp[i][j] = dp[i][j-1]\n",
    "dp"
   ]
  }
 ],
 "metadata": {
  "kernelspec": {
   "display_name": "Python 3.10.6 64-bit",
   "language": "python",
   "name": "python3"
  },
  "language_info": {
   "codemirror_mode": {
    "name": "ipython",
    "version": 3
   },
   "file_extension": ".py",
   "mimetype": "text/x-python",
   "name": "python",
   "nbconvert_exporter": "python",
   "pygments_lexer": "ipython3",
   "version": "3.10.6"
  },
  "orig_nbformat": 4,
  "vscode": {
   "interpreter": {
    "hash": "43e4d72c8ad61331984bc36f87d846bb73452d1c2c0cb0d0679bd7cf00b5eb21"
   }
  }
 },
 "nbformat": 4,
 "nbformat_minor": 2
}
