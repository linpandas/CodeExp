{
 "cells": [
  {
   "cell_type": "code",
   "execution_count": 8,
   "metadata": {},
   "outputs": [
    {
     "name": "stdout",
     "output_type": "stream",
     "text": [
      "[2, 2, 0, 0]\n",
      "[2, 2, 3, 0]\n"
     ]
    },
    {
     "data": {
      "text/plain": [
       "[2, 2, 3, 4]"
      ]
     },
     "execution_count": 8,
     "metadata": {},
     "output_type": "execute_result"
    }
   ],
   "source": [
    "nums = [2,1,1,2]\n",
    "\n",
    "n = len(nums)\n",
    "# if n == 1:\n",
    "#     return nums[0]\n",
    "# if n == 2:\n",
    "#     return max(nums)\n",
    "dp = [0]*n\n",
    "dp[0] = nums[0]\n",
    "dp[1] = max(nums[0], nums[1])\n",
    "\n",
    "for i in range(2, n):\n",
    "    print(dp)\n",
    "    dp[i] = max(dp[i-2]+nums[i], dp[i-1])\n",
    "\n",
    "dp"
   ]
  }
 ],
 "metadata": {
  "kernelspec": {
   "display_name": "Python 3.10.6 64-bit",
   "language": "python",
   "name": "python3"
  },
  "language_info": {
   "codemirror_mode": {
    "name": "ipython",
    "version": 3
   },
   "file_extension": ".py",
   "mimetype": "text/x-python",
   "name": "python",
   "nbconvert_exporter": "python",
   "pygments_lexer": "ipython3",
   "version": "3.10.6"
  },
  "orig_nbformat": 4,
  "vscode": {
   "interpreter": {
    "hash": "43e4d72c8ad61331984bc36f87d846bb73452d1c2c0cb0d0679bd7cf00b5eb21"
   }
  }
 },
 "nbformat": 4,
 "nbformat_minor": 2
}
