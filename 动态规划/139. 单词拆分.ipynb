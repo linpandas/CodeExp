{
 "cells": [
  {
   "cell_type": "code",
   "execution_count": 6,
   "metadata": {},
   "outputs": [
    {
     "name": "stdout",
     "output_type": "stream",
     "text": [
      "[True, False, False, False, False, False, False, False, False]\n",
      "[True, False, False, False, False, False, False, False, False]\n",
      "[True, False, False, False, False, False, False, False, False]\n",
      "[True, False, False, False, False, False, False, False, False]\n",
      "[True, False, False, False, True, False, False, False, False]\n",
      "[True, False, False, False, True, False, False, False, False]\n",
      "[True, False, False, False, True, False, False, False, False]\n",
      "[True, False, False, False, True, False, False, False, False]\n"
     ]
    },
    {
     "data": {
      "text/plain": [
       "[True, False, False, False, True, False, False, False, True]"
      ]
     },
     "execution_count": 6,
     "metadata": {},
     "output_type": "execute_result"
    }
   ],
   "source": [
    "s = \"leetcode\"\n",
    "wordDict = [\"leet\", \"code\"]\n",
    "\n",
    "# wordSet = set(wordDict)\n",
    "dp = [False] * (len(s) + 1) # dp[i]表示字符串的前i个字符是否可以被拆分成单词\n",
    "n = len(s)\n",
    "dp[0] = True\n",
    "\n",
    "for j in range(1, n + 1): # 排列问题，先遍历背包\n",
    "    for i in range(j):\n",
    "        if dp[i] and s[i:j] in wordDict:\n",
    "            dp[j] = True\n",
    "            break\n",
    "\n",
    "dp"
   ]
  }
 ],
 "metadata": {
  "kernelspec": {
   "display_name": "Python 3.10.6 64-bit",
   "language": "python",
   "name": "python3"
  },
  "language_info": {
   "codemirror_mode": {
    "name": "ipython",
    "version": 3
   },
   "file_extension": ".py",
   "mimetype": "text/x-python",
   "name": "python",
   "nbconvert_exporter": "python",
   "pygments_lexer": "ipython3",
   "version": "3.10.6"
  },
  "orig_nbformat": 4,
  "vscode": {
   "interpreter": {
    "hash": "43e4d72c8ad61331984bc36f87d846bb73452d1c2c0cb0d0679bd7cf00b5eb21"
   }
  }
 },
 "nbformat": 4,
 "nbformat_minor": 2
}
