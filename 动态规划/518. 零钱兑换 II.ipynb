{
 "cells": [
  {
   "cell_type": "code",
   "execution_count": 14,
   "metadata": {},
   "outputs": [
    {
     "data": {
      "text/plain": [
       "[1, 1, 2, 2, 3, 4]"
      ]
     },
     "execution_count": 14,
     "metadata": {},
     "output_type": "execute_result"
    }
   ],
   "source": [
    "amount = 5\n",
    "coins = [1, 2, 5]\n",
    "\n",
    "class Solution:\n",
    "    def change(self, amount: int, coins) -> int:\n",
    "        dp = [0] * (amount+1) # 有dp[j]种方法可以凑成总金额j\n",
    "        dp[0] = 1\n",
    "        for i in range(len(coins)):\n",
    "            for j in range(coins[i], amount+1):\n",
    "                # print(dp)\n",
    "                dp[j] += dp[j - coins[i]]\n",
    "        # print(dp)\n",
    "\n",
    "        return dp\n",
    "\n",
    "Solution().change(amount, coins)"
   ]
  },
  {
   "cell_type": "code",
   "execution_count": 1,
   "metadata": {},
   "outputs": [],
   "source": [
    "s = \"\"\n",
    "if s:\n",
    "    print(1)"
   ]
  },
  {
   "cell_type": "code",
   "execution_count": 4,
   "metadata": {},
   "outputs": [
    {
     "ename": "IndexError",
     "evalue": "list index out of range",
     "output_type": "error",
     "traceback": [
      "\u001b[1;31m---------------------------------------------------------------------------\u001b[0m",
      "\u001b[1;31mIndexError\u001b[0m                                Traceback (most recent call last)",
      "\u001b[1;32mc:\\Users\\1\\Desktop\\Study\\PyStudy\\LeetCode\\代码随想录\\动态规划\\518. 零钱兑换 II.ipynb Cell 3\u001b[0m in \u001b[0;36m<cell line: 2>\u001b[1;34m()\u001b[0m\n\u001b[0;32m      <a href='vscode-notebook-cell:/c%3A/Users/1/Desktop/Study/PyStudy/LeetCode/%E4%BB%A3%E7%A0%81%E9%9A%8F%E6%83%B3%E5%BD%95/%E5%8A%A8%E6%80%81%E8%A7%84%E5%88%92/518.%20%E9%9B%B6%E9%92%B1%E5%85%91%E6%8D%A2%20II.ipynb#W2sZmlsZQ%3D%3D?line=0'>1</a>\u001b[0m x \u001b[39m=\u001b[39m [\u001b[39m1\u001b[39m,\u001b[39m2\u001b[39m,\u001b[39m3\u001b[39m]\n\u001b[1;32m----> <a href='vscode-notebook-cell:/c%3A/Users/1/Desktop/Study/PyStudy/LeetCode/%E4%BB%A3%E7%A0%81%E9%9A%8F%E6%83%B3%E5%BD%95/%E5%8A%A8%E6%80%81%E8%A7%84%E5%88%92/518.%20%E9%9B%B6%E9%92%B1%E5%85%91%E6%8D%A2%20II.ipynb#W2sZmlsZQ%3D%3D?line=1'>2</a>\u001b[0m x[\u001b[39m-\u001b[39;49m\u001b[39m4\u001b[39;49m]\n",
      "\u001b[1;31mIndexError\u001b[0m: list index out of range"
     ]
    }
   ],
   "source": [
    "x = [1,2,3]\n",
    "x[-4]"
   ]
  }
 ],
 "metadata": {
  "kernelspec": {
   "display_name": "Python 3.10.6 64-bit",
   "language": "python",
   "name": "python3"
  },
  "language_info": {
   "codemirror_mode": {
    "name": "ipython",
    "version": 3
   },
   "file_extension": ".py",
   "mimetype": "text/x-python",
   "name": "python",
   "nbconvert_exporter": "python",
   "pygments_lexer": "ipython3",
   "version": "3.10.6"
  },
  "orig_nbformat": 4,
  "vscode": {
   "interpreter": {
    "hash": "43e4d72c8ad61331984bc36f87d846bb73452d1c2c0cb0d0679bd7cf00b5eb21"
   }
  }
 },
 "nbformat": 4,
 "nbformat_minor": 2
}
