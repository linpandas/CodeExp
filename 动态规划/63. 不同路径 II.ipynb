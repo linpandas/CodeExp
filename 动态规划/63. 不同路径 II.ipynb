{
 "cells": [
  {
   "cell_type": "code",
   "execution_count": 3,
   "metadata": {},
   "outputs": [
    {
     "data": {
      "text/plain": [
       "[[1, 1], [1, -1]]"
      ]
     },
     "execution_count": 3,
     "metadata": {},
     "output_type": "execute_result"
    }
   ],
   "source": [
    "obstacleGrid = [[0,0],[0,1]]\n",
    "\n",
    "m, n = len(obstacleGrid), len(obstacleGrid[0])\n",
    "for i in range(m):\n",
    "    for j in range(n):\n",
    "        if obstacleGrid[i][j] == 1:\n",
    "            obstacleGrid[i][j] = -1\n",
    "\n",
    "for i in range(m):\n",
    "    if obstacleGrid[i][0] == -1:\n",
    "        for t in range(i+1, m):\n",
    "            obstacleGrid[t][0] = 0\n",
    "        break\n",
    "    obstacleGrid[i][0] = 1\n",
    "\n",
    "for j in range(n):\n",
    "    if obstacleGrid[0][j] == -1:\n",
    "        for t in range(j+1, n):\n",
    "            oobstacleGrid[0][t] = 0\n",
    "        break\n",
    "    obstacleGrid[0][j] = 1\n",
    "\n",
    "for i in range(1, m):\n",
    "    for j in range(1, n):\n",
    "        if obstacleGrid[i][j] == -1:\n",
    "            continue\n",
    "        elif obstacleGrid[i-1][j] == -1 and obstacleGrid[i][j-1] == -1:\n",
    "            obstacleGrid[i][j] = 0\n",
    "        elif obstacleGrid[i-1][j] == -1:\n",
    "            obstacleGrid[i][j] = obstacleGrid[i][j-1]\n",
    "        elif obstacleGrid[i][j-1] == -1:\n",
    "            obstacleGrid[i][j] = obstacleGrid[i-1][j]\n",
    "        else:\n",
    "            obstacleGrid[i][j] = obstacleGrid[i-1][j] + obstacleGrid[i][j-1]\n",
    "\n",
    "obstacleGrid"
   ]
  },
  {
   "cell_type": "code",
   "execution_count": 8,
   "metadata": {},
   "outputs": [
    {
     "name": "stdout",
     "output_type": "stream",
     "text": [
      "[[1, 0, 0], [1, 0, 0], [1, 0, 0]]\n",
      "[[1, 0, 0], [1, 0, 0], [1, 0, 0]]\n"
     ]
    },
    {
     "data": {
      "text/plain": [
       "[[1, 0, 0], [1, 0, 0], [1, 1, 1]]"
      ]
     },
     "execution_count": 8,
     "metadata": {},
     "output_type": "execute_result"
    }
   ],
   "source": [
    "obstacleGrid = [[0,0,0],[0,1,0],[0,0,0]]\n",
    "m, n = len(obstacleGrid), len(obstacleGrid[0])\n",
    "# if obstacleGrid[m-1][n-1] == 1 or obstacleGrid[0][0] == 1:\n",
    "#     return 0\n",
    "\n",
    "dp = [[0]*n for _ in range(m)]\n",
    "\n",
    "for i in range(m):\n",
    "    if dp[i][0] == 1:\n",
    "        break\n",
    "    dp[i][0] = 1\n",
    "\n",
    "for j in range(n):\n",
    "    if dp[0][j] == 1:\n",
    "        break\n",
    "    dp[0][j] = 1\n",
    "\n",
    "\n",
    "for i in range(1, m):\n",
    "    for j in range(1, n):\n",
    "        if obstacleGrid[i][j] == 1:\n",
    "            continue\n",
    "        dp[i][j] = dp[i-1][j] + dp[i][j-1]\n",
    "    \n",
    "dp"
   ]
  }
 ],
 "metadata": {
  "kernelspec": {
   "display_name": "Python 3.10.6 64-bit",
   "language": "python",
   "name": "python3"
  },
  "language_info": {
   "codemirror_mode": {
    "name": "ipython",
    "version": 3
   },
   "file_extension": ".py",
   "mimetype": "text/x-python",
   "name": "python",
   "nbconvert_exporter": "python",
   "pygments_lexer": "ipython3",
   "version": "3.10.6"
  },
  "orig_nbformat": 4,
  "vscode": {
   "interpreter": {
    "hash": "43e4d72c8ad61331984bc36f87d846bb73452d1c2c0cb0d0679bd7cf00b5eb21"
   }
  }
 },
 "nbformat": 4,
 "nbformat_minor": 2
}
