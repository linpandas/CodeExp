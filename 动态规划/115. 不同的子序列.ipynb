{
 "cells": [
  {
   "cell_type": "code",
   "execution_count": 4,
   "metadata": {},
   "outputs": [
    {
     "data": {
      "text/plain": [
       "(3,\n",
       " [[1, 0, 0, 0, 0, 0, 0],\n",
       "  [1, 1, 0, 0, 0, 0, 0],\n",
       "  [1, 1, 1, 0, 0, 0, 0],\n",
       "  [1, 1, 1, 1, 0, 0, 0],\n",
       "  [1, 1, 1, 2, 1, 0, 0],\n",
       "  [1, 1, 1, 3, 3, 0, 0],\n",
       "  [1, 1, 1, 3, 3, 3, 0],\n",
       "  [1, 1, 1, 3, 3, 3, 3]])"
      ]
     },
     "execution_count": 4,
     "metadata": {},
     "output_type": "execute_result"
    }
   ],
   "source": [
    "class Solution:\n",
    "    def numDistinct(self, s: str, t: str) -> int:\n",
    "        # 动态规划\n",
    "        m, n = len(s), len(t)\n",
    "        # dp[i][j]表示在s[:i-1]的子序列中t[:j-1]出现的个数\n",
    "        dp = [[0]*(n+1) for _ in range(m+1)]\n",
    "        # 初始化：当j=0时，得到t的空子串，此时s可以有一种方法得到空串\n",
    "        for i in range(m+1):\n",
    "            dp[i][0] = 1\n",
    "        \n",
    "        for i in range(1, m+1):\n",
    "            for j in range(1, n+1):\n",
    "                if s[i-1] == t[j-1]:\n",
    "                    dp[i][j] = dp[i-1][j-1] + dp[i-1][j]\n",
    "                else:\n",
    "                    dp[i][j] = dp[i-1][j]\n",
    "        \n",
    "        return dp[-1][-1], dp\n",
    "\n",
    "s, t = \"rabbbit\", \"rabbit\"\n",
    "Solution().numDistinct(s, t)"
   ]
  },
  {
   "cell_type": "code",
   "execution_count": 6,
   "metadata": {},
   "outputs": [
    {
     "ename": "IndexError",
     "evalue": "list index out of range",
     "output_type": "error",
     "traceback": [
      "\u001b[1;31m---------------------------------------------------------------------------\u001b[0m",
      "\u001b[1;31mIndexError\u001b[0m                                Traceback (most recent call last)",
      "\u001b[1;32mc:\\Users\\1\\Desktop\\Study\\PyStudy\\LeetCode\\代码随想录\\动态规划\\115. 不同的子序列.ipynb Cell 2\u001b[0m in \u001b[0;36m<cell line: 8>\u001b[1;34m()\u001b[0m\n\u001b[0;32m     <a href='vscode-notebook-cell:/c%3A/Users/1/Desktop/Study/PyStudy/LeetCode/%E4%BB%A3%E7%A0%81%E9%9A%8F%E6%83%B3%E5%BD%95/%E5%8A%A8%E6%80%81%E8%A7%84%E5%88%92/115.%20%E4%B8%8D%E5%90%8C%E7%9A%84%E5%AD%90%E5%BA%8F%E5%88%97.ipynb#W1sZmlsZQ%3D%3D?line=10'>11</a>\u001b[0m             dp[i][j] \u001b[39m=\u001b[39m dp[i\u001b[39m-\u001b[39m\u001b[39m1\u001b[39m][j\u001b[39m-\u001b[39m\u001b[39m1\u001b[39m] \u001b[39m+\u001b[39m \u001b[39m1\u001b[39m\n\u001b[0;32m     <a href='vscode-notebook-cell:/c%3A/Users/1/Desktop/Study/PyStudy/LeetCode/%E4%BB%A3%E7%A0%81%E9%9A%8F%E6%83%B3%E5%BD%95/%E5%8A%A8%E6%80%81%E8%A7%84%E5%88%92/115.%20%E4%B8%8D%E5%90%8C%E7%9A%84%E5%AD%90%E5%BA%8F%E5%88%97.ipynb#W1sZmlsZQ%3D%3D?line=11'>12</a>\u001b[0m         \u001b[39melse\u001b[39;00m:\n\u001b[1;32m---> <a href='vscode-notebook-cell:/c%3A/Users/1/Desktop/Study/PyStudy/LeetCode/%E4%BB%A3%E7%A0%81%E9%9A%8F%E6%83%B3%E5%BD%95/%E5%8A%A8%E6%80%81%E8%A7%84%E5%88%92/115.%20%E4%B8%8D%E5%90%8C%E7%9A%84%E5%AD%90%E5%BA%8F%E5%88%97.ipynb#W1sZmlsZQ%3D%3D?line=12'>13</a>\u001b[0m             dp[i][j] \u001b[39m=\u001b[39m \u001b[39mmax\u001b[39m(dp[i][j\u001b[39m-\u001b[39m\u001b[39m1\u001b[39m], dp[i\u001b[39m-\u001b[39;49m\u001b[39m1\u001b[39;49m][j])\n\u001b[0;32m     <a href='vscode-notebook-cell:/c%3A/Users/1/Desktop/Study/PyStudy/LeetCode/%E4%BB%A3%E7%A0%81%E9%9A%8F%E6%83%B3%E5%BD%95/%E5%8A%A8%E6%80%81%E8%A7%84%E5%88%92/115.%20%E4%B8%8D%E5%90%8C%E7%9A%84%E5%AD%90%E5%BA%8F%E5%88%97.ipynb#W1sZmlsZQ%3D%3D?line=14'>15</a>\u001b[0m dp\n",
      "\u001b[1;31mIndexError\u001b[0m: list index out of range"
     ]
    }
   ],
   "source": [
    "word1 = \"sea\"\n",
    "word2 = \"eat\"\n",
    "\n",
    "# 动态规划\n",
    "# 先找到最长公共子序列的长度，再用两个字符串的总长度减去最长公共长度即可\n",
    "m, n = len(word1), len(word2)\n",
    "dp = [[0]*n for _ in range(m)]\n",
    "for i in range(1, m+1):\n",
    "    for j in range(1, n+1):\n",
    "        if word1[i-1] == word2[j-1]:\n",
    "            dp[i][j] = dp[i-1][j-1] + 1\n",
    "        else:\n",
    "            dp[i][j] = max(dp[i][j-1], dp[i-1][j])\n",
    "    \n",
    "dp"
   ]
  },
  {
   "cell_type": "code",
   "execution_count": 2,
   "metadata": {},
   "outputs": [
    {
     "data": {
      "text/plain": [
       "[3, 2, 1]"
      ]
     },
     "execution_count": 2,
     "metadata": {},
     "output_type": "execute_result"
    }
   ],
   "source": [
    "x = [1,2,3]\n",
    "x.reverse()\n",
    "x"
   ]
  }
 ],
 "metadata": {
  "kernelspec": {
   "display_name": "Python 3.10.6 64-bit",
   "language": "python",
   "name": "python3"
  },
  "language_info": {
   "codemirror_mode": {
    "name": "ipython",
    "version": 3
   },
   "file_extension": ".py",
   "mimetype": "text/x-python",
   "name": "python",
   "nbconvert_exporter": "python",
   "pygments_lexer": "ipython3",
   "version": "3.10.6"
  },
  "orig_nbformat": 4,
  "vscode": {
   "interpreter": {
    "hash": "43e4d72c8ad61331984bc36f87d846bb73452d1c2c0cb0d0679bd7cf00b5eb21"
   }
  }
 },
 "nbformat": 4,
 "nbformat_minor": 2
}
