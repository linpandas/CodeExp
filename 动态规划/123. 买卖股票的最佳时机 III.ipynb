{
 "cells": [
  {
   "cell_type": "code",
   "execution_count": 3,
   "metadata": {},
   "outputs": [
    {
     "data": {
      "text/plain": [
       "[[-3, 0, -3, 0],\n",
       " [-3, 0, -3, 0],\n",
       " [-3, 2, -3, 2],\n",
       " [0, 2, 2, 2],\n",
       " [0, 2, 2, 2],\n",
       " [0, 3, 2, 5],\n",
       " [0, 3, 2, 5],\n",
       " [0, 4, 2, 6]]"
      ]
     },
     "execution_count": 3,
     "metadata": {},
     "output_type": "execute_result"
    }
   ],
   "source": [
    "prices = [3,3,5,0,0,3,1,4]\n",
    "\n",
    "# 动态规划\n",
    "n = len(prices)\n",
    "# dp[i][0]表示第一次持有股票\n",
    "# dp[i][1]表示第一次不持有股票\n",
    "# dp[i][2]表示第二次持有股票\n",
    "# dp[i][3]表示第二次不持有股票\n",
    "dp = [[0]*4 for _ in range(n)]\n",
    "dp[0][0] = -prices[0]\n",
    "dp[0][2] = -prices[0]\n",
    "\n",
    "for i in range(1, n):\n",
    "    dp[i][0] = max(dp[i-1][0], -prices[i])\n",
    "    dp[i][1] = max(dp[i-1][1], dp[i-1][0]+prices[i])\n",
    "    dp[i][2] = max(dp[i-1][2], dp[i-1][1]-prices[i])\n",
    "    dp[i][3] = max(dp[i-1][3], dp[i-1][2]+prices[i])\n",
    "\n",
    "dp"
   ]
  },
  {
   "cell_type": "code",
   "execution_count": null,
   "metadata": {},
   "outputs": [],
   "source": []
  }
 ],
 "metadata": {
  "kernelspec": {
   "display_name": "Python 3.10.6 64-bit",
   "language": "python",
   "name": "python3"
  },
  "language_info": {
   "codemirror_mode": {
    "name": "ipython",
    "version": 3
   },
   "file_extension": ".py",
   "mimetype": "text/x-python",
   "name": "python",
   "nbconvert_exporter": "python",
   "pygments_lexer": "ipython3",
   "version": "3.10.6"
  },
  "orig_nbformat": 4,
  "vscode": {
   "interpreter": {
    "hash": "43e4d72c8ad61331984bc36f87d846bb73452d1c2c0cb0d0679bd7cf00b5eb21"
   }
  }
 },
 "nbformat": 4,
 "nbformat_minor": 2
}
