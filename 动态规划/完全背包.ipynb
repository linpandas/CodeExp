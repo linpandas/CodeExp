{
 "cells": [
  {
   "cell_type": "code",
   "execution_count": 1,
   "metadata": {},
   "outputs": [
    {
     "data": {
      "text/plain": [
       "[0, 15, 30, 45, 60]"
      ]
     },
     "execution_count": 1,
     "metadata": {},
     "output_type": "execute_result"
    }
   ],
   "source": [
    "weight = [1, 3, 4]\n",
    "value = [15, 20, 30]\n",
    "bagWeight = 4\n",
    "\n",
    "dp = [0] * (bagWeight + 1)\n",
    "for i in range(len(value)): # 遍历物品\n",
    "    for j in range(weight[i], bagWeight+1): # 遍历背包容量\n",
    "        dp[j] = max(dp[j], dp[j-weight[i]]+value[i])\n",
    "\n",
    "dp"
   ]
  },
  {
   "cell_type": "code",
   "execution_count": 3,
   "metadata": {},
   "outputs": [
    {
     "data": {
      "text/plain": [
       "60"
      ]
     },
     "execution_count": 3,
     "metadata": {},
     "output_type": "execute_result"
    }
   ],
   "source": [
    "weight = [1, 3, 4]\n",
    "value = [15, 20, 30]\n",
    "bagWeight = 4\n",
    "def complete_bag(weight, value, bagWeight):\n",
    "    dp = [0] * (bagWeight+1)\n",
    "    for i in range(len(weight)):\n",
    "        for j in range(weight[i], bagWeight+1):\n",
    "            dp[j] = max(dp[j], dp[j-weight[i]]+value[i])\n",
    "\n",
    "    return dp[bagWeight]\n",
    "\n",
    "complete_bag(weight, value, bagWeight)"
   ]
  }
 ],
 "metadata": {
  "kernelspec": {
   "display_name": "Python 3.10.6 64-bit",
   "language": "python",
   "name": "python3"
  },
  "language_info": {
   "codemirror_mode": {
    "name": "ipython",
    "version": 3
   },
   "file_extension": ".py",
   "mimetype": "text/x-python",
   "name": "python",
   "nbconvert_exporter": "python",
   "pygments_lexer": "ipython3",
   "version": "3.10.6"
  },
  "orig_nbformat": 4,
  "vscode": {
   "interpreter": {
    "hash": "43e4d72c8ad61331984bc36f87d846bb73452d1c2c0cb0d0679bd7cf00b5eb21"
   }
  }
 },
 "nbformat": 4,
 "nbformat_minor": 2
}
