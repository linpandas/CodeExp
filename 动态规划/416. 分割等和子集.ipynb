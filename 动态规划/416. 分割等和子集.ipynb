{
 "cells": [
  {
   "cell_type": "code",
   "execution_count": 4,
   "metadata": {},
   "outputs": [
    {
     "data": {
      "text/plain": [
       "[[0, 0, 0, 0, 0, 0, 0, 0, 0, 0, 0, 0],\n",
       " [0, 0, 0, 0, 0, 5, 5, 5, 5, 5, 5, 5],\n",
       " [0, 0, 0, 0, 0, 5, 5, 5, 5, 5, 5, 11],\n",
       " [0, 0, 0, 0, 0, 5, 5, 5, 5, 5, 10, 11]]"
      ]
     },
     "execution_count": 4,
     "metadata": {},
     "output_type": "execute_result"
    }
   ],
   "source": [
    "nums = [1,5,11,5]\n",
    "def canPartition(nums):\n",
    "    sum_ = sum(nums)\n",
    "    if sum_ % 2 == 0:\n",
    "        target= sum_ // 2\n",
    "    else:\n",
    "        return False\n",
    "\n",
    "    dp = [[0] * (target+1) for _ in range(len(nums))]\n",
    "    for j in range(nums[0], target+1)\n",
    "    for i in range(1, len(nums)):\n",
    "        for j in range(1, target+1):\n",
    "            if j < nums[i]:\n",
    "                dp[i][j] = dp[i-1][j]\n",
    "            else:\n",
    "                dp[i][j] = max(dp[i-1][j], dp[i-1][j-nums[i]] + nums[i])\n",
    "\n",
    "    return dp\n",
    "\n",
    "canPartition(nums)"
   ]
  },
  {
   "cell_type": "code",
   "execution_count": 8,
   "metadata": {},
   "outputs": [
    {
     "data": {
      "text/plain": [
       "[[0, 1, 1, 1, 1, 1, 1, 1, 1, 1, 1, 1],\n",
       " [0, 1, 1, 1, 1, 5, 6, 6, 6, 6, 6, 6],\n",
       " [0, 1, 1, 1, 1, 5, 6, 6, 6, 6, 6, 11],\n",
       " [0, 1, 1, 1, 1, 5, 6, 6, 6, 6, 10, 11]]"
      ]
     },
     "execution_count": 8,
     "metadata": {},
     "output_type": "execute_result"
    }
   ],
   "source": [
    "nums =[1,5,11,5]\n",
    "def canPartition(nums):\n",
    "    sum_ = sum(nums)\n",
    "    if sum_ % 2 == 0:\n",
    "        target= sum_ // 2\n",
    "    else:\n",
    "        return False\n",
    "\n",
    "    dp = [[0] * (target+1) for _ in range(len(nums))]\n",
    "    for j in range(nums[0], target+1):\n",
    "        dp[0][j] = nums[0]\n",
    "    for i in range(1, len(nums)):\n",
    "        for j in range(target+1):\n",
    "            if j < nums[i]:\n",
    "                dp[i][j] = dp[i-1][j]\n",
    "            else:\n",
    "                dp[i][j] = max(dp[i-1][j], dp[i-1][j-nums[i]] + nums[i])\n",
    "\n",
    "    # if dp[len(nums)-1][target] == target:\n",
    "    #     return True\n",
    "    return dp\n",
    "\n",
    "canPartition(nums)"
   ]
  },
  {
   "cell_type": "code",
   "execution_count": null,
   "metadata": {},
   "outputs": [],
   "source": []
  }
 ],
 "metadata": {
  "kernelspec": {
   "display_name": "Python 3.10.6 64-bit",
   "language": "python",
   "name": "python3"
  },
  "language_info": {
   "codemirror_mode": {
    "name": "ipython",
    "version": 3
   },
   "file_extension": ".py",
   "mimetype": "text/x-python",
   "name": "python",
   "nbconvert_exporter": "python",
   "pygments_lexer": "ipython3",
   "version": "3.10.6"
  },
  "orig_nbformat": 4,
  "vscode": {
   "interpreter": {
    "hash": "43e4d72c8ad61331984bc36f87d846bb73452d1c2c0cb0d0679bd7cf00b5eb21"
   }
  }
 },
 "nbformat": 4,
 "nbformat_minor": 2
}
