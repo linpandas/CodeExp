{
 "cells": [
  {
   "cell_type": "code",
   "execution_count": 6,
   "metadata": {},
   "outputs": [
    {
     "name": "stdout",
     "output_type": "stream",
     "text": [
      "[[-7, 0], [0, 0], [0, 0], [0, 0], [0, 0], [0, 0]]\n",
      "[[-7, 0], [-1, 0], [0, 0], [0, 0], [0, 0], [0, 0]]\n",
      "[[-7, 0], [-1, 0], [-1, 4], [0, 0], [0, 0], [0, 0]]\n",
      "[[-7, 0], [-1, 0], [-1, 4], [-1, 4], [0, 0], [0, 0]]\n",
      "[[-7, 0], [-1, 0], [-1, 4], [-1, 4], [-1, 5], [0, 0]]\n"
     ]
    },
    {
     "data": {
      "text/plain": [
       "[[-7, 0], [-1, 0], [-1, 4], [-1, 4], [-1, 5], [-1, 5]]"
      ]
     },
     "execution_count": 6,
     "metadata": {},
     "output_type": "execute_result"
    }
   ],
   "source": [
    "prices = [7,1,5,3,6,4]\n",
    "# 动态规划\n",
    "n = len(prices)\n",
    "# dp[i][0]表示第i天持有股票所得最多现金\n",
    "# dp[i][1]表示第i天不持有股票所得最多现金\n",
    "dp = [[0, 0] for _ in range(n)]\n",
    "dp[0][0], dp[0][1] = -prices[0], 0\n",
    "for i in range(1, n):\n",
    "    dp[i][0] = max(dp[i-1][0], -prices[i])\n",
    "    dp[i][1] = max(dp[i-1][1], dp[i-1][0] + prices[i])\n",
    "\n",
    "dp"
   ]
  }
 ],
 "metadata": {
  "kernelspec": {
   "display_name": "Python 3.10.6 64-bit",
   "language": "python",
   "name": "python3"
  },
  "language_info": {
   "codemirror_mode": {
    "name": "ipython",
    "version": 3
   },
   "file_extension": ".py",
   "mimetype": "text/x-python",
   "name": "python",
   "nbconvert_exporter": "python",
   "pygments_lexer": "ipython3",
   "version": "3.10.6"
  },
  "orig_nbformat": 4,
  "vscode": {
   "interpreter": {
    "hash": "43e4d72c8ad61331984bc36f87d846bb73452d1c2c0cb0d0679bd7cf00b5eb21"
   }
  }
 },
 "nbformat": 4,
 "nbformat_minor": 2
}
