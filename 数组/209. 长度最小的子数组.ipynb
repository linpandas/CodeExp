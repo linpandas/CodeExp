{
 "cells": [
  {
   "cell_type": "code",
   "execution_count": 4,
   "metadata": {},
   "outputs": [
    {
     "data": {
      "text/plain": [
       "(4, 5, 2)"
      ]
     },
     "execution_count": 4,
     "metadata": {},
     "output_type": "execute_result"
    }
   ],
   "source": [
    "nums, target = [2,3,1,2,4,3], 7\n",
    "\n",
    "l, sum_, minlength = 0, 0, float(\"inf\")\n",
    "\n",
    "if sum(nums) < target:\n",
    "    return 0\n",
    "\n",
    "for r, item in enumerate(nums):\n",
    "    sum_ += item\n",
    "    if sum_ >= target:\n",
    "        while sum_ - nums[l] >= target:\n",
    "            sum_ -= nums[l]\n",
    "            l += 1\n",
    "        minlength = min(minlength, r - l + 1)\n",
    "\n",
    "l, r, minlength"
   ]
  },
  {
   "cell_type": "code",
   "execution_count": null,
   "metadata": {},
   "outputs": [],
   "source": []
  }
 ],
 "metadata": {
  "kernelspec": {
   "display_name": "Python 3.10.6 64-bit",
   "language": "python",
   "name": "python3"
  },
  "language_info": {
   "codemirror_mode": {
    "name": "ipython",
    "version": 3
   },
   "file_extension": ".py",
   "mimetype": "text/x-python",
   "name": "python",
   "nbconvert_exporter": "python",
   "pygments_lexer": "ipython3",
   "version": "3.10.6"
  },
  "orig_nbformat": 4,
  "vscode": {
   "interpreter": {
    "hash": "43e4d72c8ad61331984bc36f87d846bb73452d1c2c0cb0d0679bd7cf00b5eb21"
   }
  }
 },
 "nbformat": 4,
 "nbformat_minor": 2
}
