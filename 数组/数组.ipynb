{
 "cells": [
  {
   "cell_type": "markdown",
   "id": "f0c61df9",
   "metadata": {},
   "source": [
    "### 704. 二分查找\n",
    "\n",
    "给定一个 n 个元素有序的（升序）整型数组 nums 和一个目标值 target  ，写一个函数搜索 nums 中的 target，如果目标值存在返回下标，否则返回 -1。"
   ]
  },
  {
   "cell_type": "code",
   "execution_count": 16,
   "id": "455638ea",
   "metadata": {},
   "outputs": [
    {
     "data": {
      "text/plain": [
       "False"
      ]
     },
     "execution_count": 16,
     "metadata": {},
     "output_type": "execute_result"
    }
   ],
   "source": [
    "nums, target = [-1,0,3,5,9,12], 9\n",
    "l, r = 0, len(nums) - 1\n",
    "flag = False\n",
    "while l <= r:\n",
    "    mid = (r + l) // 2\n",
    "    if nums[mid] == target:\n",
    "        flag = True\n",
    "        break\n",
    "    elif nums[mid] > target:\n",
    "        r = mid - 1\n",
    "    elif nums[mid] < target:\n",
    "        l = mid + 1\n",
    "        \n",
    "flag"
   ]
  },
  {
   "cell_type": "code",
   "execution_count": 14,
   "id": "aa827720",
   "metadata": {},
   "outputs": [
    {
     "data": {
      "text/plain": [
       "4"
      ]
     },
     "execution_count": 14,
     "metadata": {},
     "output_type": "execute_result"
    }
   ],
   "source": [
    "nums, target = [-1,0,3,5,9,12], 9\n",
    "\n",
    "def BS1(nums, target):\n",
    "    # 左闭右闭\n",
    "    l, r = 0, len(nums)-1\n",
    "    while l <= r:\n",
    "        mid = (l + r) // 2\n",
    "        if target == nums[mid]:\n",
    "            return mid\n",
    "        elif target < nums[mid]:\n",
    "            r = mid - 1\n",
    "        else:\n",
    "            l = mid + 1\n",
    "\n",
    "    return -1\n",
    "\n",
    "def BS2(nums, target):\n",
    "    # 左闭右开\n",
    "    l, r = 0, len(nums)\n",
    "    while l < r:\n",
    "        mid = (l + r) // 2\n",
    "        if target < nums[mid]:\n",
    "            r = mid\n",
    "        elif target > nums[mid]:\n",
    "            l = mid + 1\n",
    "        else:\n",
    "            return mid\n",
    "    \n",
    "    return -1\n",
    "\n",
    "BS1(nums, target)\n",
    "BS2(nums, target)"
   ]
  },
  {
   "cell_type": "markdown",
   "id": "172b8a53",
   "metadata": {},
   "source": [
    "**二分法使用条件：1.数组为有序数组；2.数组中无重复元素。**\n",
    "\n",
    "35.搜索插入位置\n",
    "\n",
    "34.在排序数组中查找元素的第一个和最后一个位置\n",
    "\n",
    "69.x 的平方根\n",
    "\n",
    "367.有效的完全平方数"
   ]
  },
  {
   "cell_type": "code",
   "execution_count": 18,
   "id": "2cb4377c",
   "metadata": {},
   "outputs": [
    {
     "data": {
      "text/plain": [
       "[3, 4]"
      ]
     },
     "execution_count": 18,
     "metadata": {},
     "output_type": "execute_result"
    }
   ],
   "source": [
    "nums, target = [5,7,7,8,8,10], 8\n",
    "left, right = -1, -1\n",
    "l, r = 0, len(nums) - 1\n",
    "while l <= r:\n",
    "    mid = (l + r) // 2\n",
    "    if nums[mid] == target:\n",
    "        left, right = mid, mid\n",
    "        while nums[left - 1] == target:\n",
    "            left -= 1\n",
    "        while nums[right + 1] == target:\n",
    "            right += 1\n",
    "        break\n",
    "    elif nums[mid] > target:\n",
    "        r = mid - 1\n",
    "    elif nums[mid] < target:\n",
    "        l = mid + 1\n",
    "        \n",
    "[left, right]"
   ]
  },
  {
   "cell_type": "code",
   "execution_count": 17,
   "id": "6a759a13",
   "metadata": {},
   "outputs": [
    {
     "data": {
      "text/plain": [
       "(5, 5)"
      ]
     },
     "execution_count": 17,
     "metadata": {},
     "output_type": "execute_result"
    }
   ],
   "source": [
    "# 二分寻找边界\n",
    "nums, target = [5,7,7,8,8,10], 10\n",
    "def Rborder(nums, target):\n",
    "    l, r = 0, len(nums) - 1\n",
    "    rborder = -1\n",
    "    while l <= r:\n",
    "        mid = (l + r) // 2\n",
    "        if nums[mid] > target:\n",
    "            r = mid - 1\n",
    "        else:\n",
    "            l = mid + 1\n",
    "            rborder = l - 1\n",
    "    return rborder\n",
    "\n",
    "def Lborder(nums, target):\n",
    "    l, r = 0, len(nums) - 1\n",
    "    lborder = -1\n",
    "    while l <= r:\n",
    "        mid = (l + r) // 2\n",
    "        if nums[mid] < target:\n",
    "            l = mid + 1\n",
    "        else:\n",
    "            r = mid - 1\n",
    "            lborder = r + 1\n",
    "    return lborder\n",
    "lborder, rborder = Lborder(nums, target), Rborder(nums, target)\n",
    "lborder, rborder"
   ]
  },
  {
   "cell_type": "markdown",
   "id": "ba2ea27b",
   "metadata": {},
   "source": [
    "### 27. 移除元素\n",
    "\n",
    "给你一个数组 nums 和一个值 val，你需要 原地 移除所有数值等于 val 的元素，并返回移除后数组的新长度。\n",
    "\n",
    "不要使用额外的数组空间，你必须仅使用 O(1) 额外空间并 原地 修改输入数组。\n",
    "\n",
    "元素的顺序可以改变。你不需要考虑数组中超出新长度后面的元素。"
   ]
  },
  {
   "cell_type": "code",
   "execution_count": 39,
   "id": "f88b8ac8",
   "metadata": {},
   "outputs": [
    {
     "data": {
      "text/plain": [
       "[2, 2]"
      ]
     },
     "execution_count": 39,
     "metadata": {},
     "output_type": "execute_result"
    }
   ],
   "source": [
    "nums, val = [3,2,2,3], 3\n",
    "nums = sorted(nums)\n",
    "l, r = 0, len(nums)\n",
    "def Rborder(nums, target):\n",
    "    l, r = 0, len(nums) - 1\n",
    "    rborder = -1\n",
    "    while l <= r:\n",
    "        mid = (l + r) // 2\n",
    "        if nums[mid] > target:\n",
    "            r = mid - 1\n",
    "        else:\n",
    "            l = mid + 1\n",
    "            rborder = l - 1\n",
    "    return rborder\n",
    "\n",
    "def Lborder(nums, target):\n",
    "    l, r = 0, len(nums) - 1\n",
    "    lborder = -1\n",
    "    while l <= r:\n",
    "        mid = (l + r) // 2\n",
    "        if nums[mid] < target:\n",
    "            l = mid + 1\n",
    "        else:\n",
    "            r = mid - 1\n",
    "            lborder = r + 1\n",
    "    return lborder\n",
    "\n",
    "lborder, rborder = Lborder(nums, val), Rborder(nums, val)\n",
    "del nums[lborder:rborder + 1]\n",
    "nums\n",
    "## 测试：二分寻找左右边界"
   ]
  },
  {
   "cell_type": "code",
   "execution_count": 42,
   "id": "1db66980",
   "metadata": {},
   "outputs": [
    {
     "data": {
      "text/plain": [
       "2"
      ]
     },
     "execution_count": 42,
     "metadata": {},
     "output_type": "execute_result"
    }
   ],
   "source": [
    "nums, val = [3,2,2,3], 3\n",
    "# slowindex, fastindex = 0, 0\n",
    "slowindex = 0\n",
    "for fastindex, item in enumerate(nums):\n",
    "    if item != val:\n",
    "        nums[slowindex] = item\n",
    "        slowindex += 1\n",
    "\n",
    "nums\n",
    "slowindex"
   ]
  },
  {
   "cell_type": "markdown",
   "id": "2b57eb1b",
   "metadata": {},
   "source": [
    "### 26. 删除有序数组中的重复项\n",
    "\n",
    "给你一个 非严格递增排列 的数组 nums ，请你 原地 删除重复出现的元素，使每个元素 只出现一次 ，返回删除后数组的新长度。元素的 相对顺序 应该保持 一致 。然后返回 nums 中唯一元素的个数。\n",
    "\n",
    "考虑 nums 的唯一元素的数量为 k ，你需要做以下事情确保你的题解可以被通过：\n",
    "\n",
    "更改数组 nums ，使 nums 的前 k 个元素包含唯一元素，并按照它们最初在 nums 中出现的顺序排列。nums 的其余元素与 nums 的大小不重要。\n",
    "返回 k 。"
   ]
  },
  {
   "cell_type": "code",
   "execution_count": 48,
   "id": "4681342a",
   "metadata": {},
   "outputs": [
    {
     "data": {
      "text/plain": [
       "5"
      ]
     },
     "execution_count": 48,
     "metadata": {},
     "output_type": "execute_result"
    }
   ],
   "source": [
    "nums = [0,0,1,1,1,2,2,3,3,4]\n",
    "# nums = [1,1,2]\n",
    "\n",
    "a, b = 0, 0\n",
    "flag = nums[0] - 1\n",
    "while b < len(nums):\n",
    "    if nums[b] != flag:\n",
    "        nums[a] = nums[b]\n",
    "        a += 1\n",
    "    flag = nums[b]\n",
    "    b += 1\n",
    "\n",
    "a"
   ]
  },
  {
   "cell_type": "markdown",
   "id": "8699164c",
   "metadata": {},
   "source": [
    "### 844. 比较含退格的字符串\n",
    "\n",
    "给定 s 和 t 两个字符串，当它们分别被输入到空白的文本编辑器后，如果两者相等，返回 true 。# 代表退格字符。\n",
    "\n",
    "注意：如果对空文本输入退格字符，文本继续为空。"
   ]
  },
  {
   "cell_type": "code",
   "execution_count": 76,
   "id": "b9f61312",
   "metadata": {},
   "outputs": [
    {
     "data": {
      "text/plain": [
       "True"
      ]
     },
     "execution_count": 76,
     "metadata": {},
     "output_type": "execute_result"
    }
   ],
   "source": [
    "# s, t = \"ab#c\", \"ad#c\"\n",
    "s, t = \"y#fo##f\", \"y#f#o##f\"\n",
    "\n",
    "def backspaceresult(str):\n",
    "    stack = []\n",
    "    for i, item in enumerate(str):\n",
    "        if item == \"#\":\n",
    "            if stack:\n",
    "                stack.pop()\n",
    "        else:\n",
    "            stack.append(item)\n",
    "\n",
    "        if stack:\n",
    "            if item != \"#\":\n",
    "                stack\n",
    "    \n",
    "    return stack\n",
    "\n",
    "s, t = \"\".join(backspaceresult(s)), \"\".join(backspaceresult(t))\n",
    "\n",
    "s == t"
   ]
  },
  {
   "cell_type": "markdown",
   "id": "7bd4fbb0",
   "metadata": {},
   "source": [
    "### 977. 有序数组的平方\n",
    "\n",
    "给你一个按 非递减顺序 排序的整数数组 nums，返回 每个数字的平方 组成的新数组，要求也按 非递减顺序 排序。"
   ]
  },
  {
   "cell_type": "code",
   "execution_count": 85,
   "id": "ce77f9e1",
   "metadata": {},
   "outputs": [
    {
     "data": {
      "text/plain": [
       "[0, 1, 9, 16, 100]"
      ]
     },
     "execution_count": 85,
     "metadata": {},
     "output_type": "execute_result"
    }
   ],
   "source": [
    "## 暴力破解\n",
    "sorted([x * x for x in nums])"
   ]
  },
  {
   "cell_type": "code",
   "execution_count": 86,
   "id": "5fdbe1d0",
   "metadata": {},
   "outputs": [
    {
     "data": {
      "text/plain": [
       "[0, 1, 9, 16, 100]"
      ]
     },
     "execution_count": 86,
     "metadata": {},
     "output_type": "execute_result"
    }
   ],
   "source": [
    "## 双指针\n",
    "nums = [-4,-1,0,3,10]\n",
    "ans = nums.copy()\n",
    "a, b, i = 0, len(nums) - 1, len(nums) - 1\n",
    "while a <= b:\n",
    "    if nums[a] + nums[b] > 0:\n",
    "        ans[i] = nums[b] * nums[b]\n",
    "        b -= 1\n",
    "        i -= 1\n",
    "    else:\n",
    "        ans[i] = nums[a] * nums[a]\n",
    "        a += 1\n",
    "        i -= 1\n",
    "\n",
    "ans"
   ]
  },
  {
   "cell_type": "markdown",
   "id": "2fc1202e",
   "metadata": {},
   "source": [
    "### 209. 长度最小的子数组\n",
    "\n",
    "给定一个含有 n 个正整数的数组和一个正整数 target 。\n",
    "\n",
    "找出该数组中满足其总和大于等于 target 的长度最小的 连续子数组 [numsl, numsl+1, ..., numsr-1, numsr] ，并返回其长度。如果不存在符合条件的子数组，返回 0 。"
   ]
  },
  {
   "cell_type": "code",
   "execution_count": 14,
   "id": "d7c05b61",
   "metadata": {},
   "outputs": [
    {
     "data": {
      "text/plain": [
       "2"
      ]
     },
     "execution_count": 14,
     "metadata": {},
     "output_type": "execute_result"
    }
   ],
   "source": [
    "nums, target = [2,3,1,2,4,3], 7\n",
    "minlength = len(nums)\n",
    "cur_sum = 0\n",
    "a = 0\n",
    "for b, item in enumerate(nums):\n",
    "    cur_sum += item\n",
    "    if cur_sum >= target:\n",
    "        while cur_sum - nums[a] >= target:\n",
    "            cur_sum -= nums[a]\n",
    "            a += 1\n",
    "        \n",
    "        minlength = min(minlength, b - a + 1)\n",
    "\n",
    "minlength\n"
   ]
  },
  {
   "cell_type": "code",
   "execution_count": 16,
   "metadata": {},
   "outputs": [],
   "source": [
    "nums, target = [2,3,1,2,4,3], 7\n",
    "\n",
    "class Solution:\n",
    "    def minSubArrayLen(self, s: int, nums: list[int]) -> int:\n",
    "        l = len(nums)\n",
    "        left = 0\n",
    "        right = 0\n",
    "        min_len = float('inf')\n",
    "        cur_sum = 0 #当前的累加值\n",
    "        \n",
    "        while right < l:\n",
    "            cur_sum += nums[right]\n",
    "            \n",
    "            while cur_sum >= s: # 当前累加值大于目标值\n",
    "                min_len = min(min_len, right - left + 1)\n",
    "                cur_sum -= nums[left]\n",
    "                left += 1\n",
    "            \n",
    "            right += 1\n",
    "        \n",
    "        return min_len if min_len != float('inf') else 0"
   ]
  },
  {
   "cell_type": "markdown",
   "id": "50b5285e",
   "metadata": {},
   "source": [
    "### 904. 水果成篮\n",
    "\n",
    "你正在探访一家农场，农场从左到右种植了一排果树。这些树用一个整数数组 fruits 表示，其中 fruits[i] 是第 i 棵树上的水果 种类 。\n",
    "\n",
    "你想要尽可能多地收集水果。然而，农场的主人设定了一些严格的规矩，你必须按照要求采摘水果：\n",
    "\n",
    "你只有 两个 篮子，并且每个篮子只能装 单一类型 的水果。每个篮子能够装的水果总量没有限制。\n",
    "你可以选择任意一棵树开始采摘，你必须从 每棵 树（包括开始采摘的树）上 恰好摘一个水果 。采摘的水果应当符合篮子中的水果类型。每采摘一次，你将会向右移动到下一棵树，并继续采摘。\n",
    "一旦你走到某棵树前，但水果不符合篮子的水果类型，那么就必须停止采摘。\n",
    "给你一个整数数组 fruits ，返回你可以收集的水果的 最大 数目。"
   ]
  },
  {
   "cell_type": "code",
   "execution_count": 25,
   "id": "cff3e8bd",
   "metadata": {},
   "outputs": [
    {
     "data": {
      "text/plain": [
       "5"
      ]
     },
     "execution_count": 25,
     "metadata": {},
     "output_type": "execute_result"
    }
   ],
   "source": [
    "fruits = [3,3,3,1,2,1,1,2,3,3,4]\n",
    "\n",
    "from collections import Counter\n",
    "cnt = Counter()\n",
    "a, ans = 0, 0\n",
    "\n",
    "for b, item in enumerate(fruits):\n",
    "    cnt[item] += 1\n",
    "\n",
    "    while len(cnt) > 2:\n",
    "        cnt[fruits[a]] -= 1\n",
    "        if cnt[fruits[a]] == 0:\n",
    "            cnt.pop(fruits[a])\n",
    "        a += 1\n",
    "    ans = max(ans, b - a + 1)\n",
    "\n",
    "ans\n"
   ]
  },
  {
   "cell_type": "code",
   "execution_count": 8,
   "id": "363be5bb",
   "metadata": {},
   "outputs": [
    {
     "data": {
      "text/plain": [
       "[[1, 2, 3], [8, 9, 4], [7, 6, 5]]"
      ]
     },
     "execution_count": 8,
     "metadata": {},
     "output_type": "execute_result"
    }
   ],
   "source": [
    "n = 3\n",
    "l, r = 0, n - 1\n",
    "ans, nums = [[_ for _ in range(n)] for _ in range(n)], [_+1 for _ in range(n**2)]\n",
    "i, j, k= 0, 0, 0\n",
    "while i != n // 2 and j != n // 2:\n",
    "    while j < r:\n",
    "        ans[i][j] = nums[k]\n",
    "        j += 1\n",
    "        k += 1\n",
    "    while i < r:\n",
    "        ans[i][j] = nums[k]\n",
    "        i += 1\n",
    "        k += 1\n",
    "    while j > l:\n",
    "        ans[i][j] = nums[k]\n",
    "        j -= 1\n",
    "        k += 1\n",
    "    while i > l:\n",
    "        ans[i][j] = nums[k]\n",
    "        i -= 1\n",
    "        k += 1\n",
    "    i += 1\n",
    "    j += 1\n",
    "    l, r = l + 1, r - 1\n",
    "\n",
    "if n % 2 == 1:\n",
    "    ans[i][j] = nums[k]\n",
    "\n",
    "ans"
   ]
  },
  {
   "cell_type": "code",
   "execution_count": 28,
   "metadata": {},
   "outputs": [
    {
     "data": {
      "text/plain": [
       "[0, 1, 2, 3, 4]"
      ]
     },
     "execution_count": 28,
     "metadata": {},
     "output_type": "execute_result"
    }
   ],
   "source": []
  },
  {
   "cell_type": "code",
   "execution_count": 4,
   "id": "4ef72406",
   "metadata": {},
   "outputs": [
    {
     "data": {
      "text/plain": [
       "array([0.93333333, 0.8       , 0.8       , 0.72727273, 0.64646465,\n",
       "       0.56565657, 0.56565657, 0.47138047, 0.37710438, 0.28282828,\n",
       "       0.28282828, 0.28282828, 0.        ])"
      ]
     },
     "execution_count": 4,
     "metadata": {},
     "output_type": "execute_result"
    }
   ],
   "source": []
  },
  {
   "cell_type": "code",
   "execution_count": 16,
   "id": "da53873e",
   "metadata": {},
   "outputs": [
    {
     "data": {
      "text/plain": [
       "array([1.        , 0.93333333, 0.8       , 0.73333333, 0.6       ,\n",
       "       0.53333333, 0.46666667, 0.4       , 0.33333333, 0.26666667,\n",
       "       0.2       , 0.13333333, 0.06666667])"
      ]
     },
     "execution_count": 16,
     "metadata": {},
     "output_type": "execute_result"
    }
   ],
   "source": []
  }
 ],
 "metadata": {
  "kernelspec": {
   "display_name": "Python 3.10.6 64-bit",
   "language": "python",
   "name": "python3"
  },
  "language_info": {
   "codemirror_mode": {
    "name": "ipython",
    "version": 3
   },
   "file_extension": ".py",
   "mimetype": "text/x-python",
   "name": "python",
   "nbconvert_exporter": "python",
   "pygments_lexer": "ipython3",
   "version": "3.10.6"
  },
  "vscode": {
   "interpreter": {
    "hash": "43e4d72c8ad61331984bc36f87d846bb73452d1c2c0cb0d0679bd7cf00b5eb21"
   }
  }
 },
 "nbformat": 4,
 "nbformat_minor": 5
}
