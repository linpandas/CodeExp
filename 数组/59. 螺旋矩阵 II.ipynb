{
 "cells": [
  {
   "cell_type": "code",
   "execution_count": 11,
   "metadata": {},
   "outputs": [
    {
     "data": {
      "text/plain": [
       "[[1, 2, 3, 4, 5],\n",
       " [16, 17, 18, 19, 6],\n",
       " [15, 24, 25, 20, 7],\n",
       " [14, 23, 22, 21, 8],\n",
       " [13, 12, 11, 10, 9]]"
      ]
     },
     "execution_count": 11,
     "metadata": {},
     "output_type": "execute_result"
    }
   ],
   "source": [
    "n = 5\n",
    "\n",
    "ans = [[0]*n for _ in range(n)]\n",
    "i, j = 0, 0\n",
    "l, r = 0, n - 1\n",
    "k = 1\n",
    "\n",
    "while i != n // 2 or j != n // 2:\n",
    "    while j < r:\n",
    "        ans[i][j] = k\n",
    "        j += 1\n",
    "        k += 1\n",
    "    while i < r:\n",
    "        ans[i][j] = k\n",
    "        i += 1\n",
    "        k += 1\n",
    "    while j > l:\n",
    "        ans[i][j] = k\n",
    "        j -= 1\n",
    "        k += 1\n",
    "    while i > l:\n",
    "        ans[i][j] = k\n",
    "        i -= 1\n",
    "        k += 1\n",
    "    l, r = l+1, r-1\n",
    "    i += 1\n",
    "    j += 1\n",
    "\n",
    "if n % 2 == 1:\n",
    "    ans[i][j] = k\n",
    "\n",
    "ans"
   ]
  },
  {
   "cell_type": "code",
   "execution_count": null,
   "metadata": {},
   "outputs": [],
   "source": [
    "def insertIntoBST(self, root: Optional[TreeNode], val: int) -> Optional[TreeNode]:\n",
    "    # 迭代法\n",
    "    if not root:\n",
    "        return TreeNode(val)\n",
    "\n",
    "    cur = root\n",
    "    while not cur:\n",
    "        pre = cur\n",
    "        if cur.val > val:\n",
    "            cur = cur.left\n",
    "        else:\n",
    "            cur = cur.right\n",
    "\n",
    "    if pre.val > val:\n",
    "        pre.left = TreeNode(val)\n",
    "    else:\n",
    "        pre.right = TreeNode(val)\n",
    "\n",
    "    return root"
   ]
  }
 ],
 "metadata": {
  "kernelspec": {
   "display_name": "Python 3.10.6 64-bit",
   "language": "python",
   "name": "python3"
  },
  "language_info": {
   "codemirror_mode": {
    "name": "ipython",
    "version": 3
   },
   "file_extension": ".py",
   "mimetype": "text/x-python",
   "name": "python",
   "nbconvert_exporter": "python",
   "pygments_lexer": "ipython3",
   "version": "3.10.6"
  },
  "orig_nbformat": 4,
  "vscode": {
   "interpreter": {
    "hash": "43e4d72c8ad61331984bc36f87d846bb73452d1c2c0cb0d0679bd7cf00b5eb21"
   }
  }
 },
 "nbformat": 4,
 "nbformat_minor": 2
}
