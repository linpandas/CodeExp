{
 "cells": [
  {
   "cell_type": "code",
   "execution_count": 3,
   "metadata": {},
   "outputs": [],
   "source": [
    "class ListNode:\n",
    "    def __init__(self, x):\n",
    "        self.val = x\n",
    "        self.next = None"
   ]
  },
  {
   "cell_type": "code",
   "execution_count": 4,
   "metadata": {},
   "outputs": [
    {
     "data": {
      "text/plain": [
       "False"
      ]
     },
     "execution_count": 4,
     "metadata": {},
     "output_type": "execute_result"
    }
   ],
   "source": [
    "class Solution:\n",
    "    def getIntersectionNode(self, headA, headB):\n",
    "        sizeA, sizeB = 0, 0\n",
    "        curA, curB = headA, headB\n",
    "        while curA.next:\n",
    "            curA = curA.next\n",
    "            sizeA += 1\n",
    "        while curB.next:\n",
    "            curB = curB.next\n",
    "            sizeB += 1\n",
    "        \n",
    "        curA, curB = headA, headB\n",
    "        if sizeA > sizeB:\n",
    "            for _ in range(sizeA - sizeB):\n",
    "                curA = curA.next\n",
    "        else:\n",
    "            for _ in  range(sizeB - sizeA):\n",
    "                curB = curB.next\n",
    "\n",
    "        while curA.next:\n",
    "            if curA == curB:\n",
    "                return curA\n",
    "            curA, curB = curA.next, curB.next\n",
    "\n",
    "        return None"
   ]
  }
 ],
 "metadata": {
  "kernelspec": {
   "display_name": "Python 3.10.6 64-bit",
   "language": "python",
   "name": "python3"
  },
  "language_info": {
   "codemirror_mode": {
    "name": "ipython",
    "version": 3
   },
   "file_extension": ".py",
   "mimetype": "text/x-python",
   "name": "python",
   "nbconvert_exporter": "python",
   "pygments_lexer": "ipython3",
   "version": "3.10.6"
  },
  "orig_nbformat": 4,
  "vscode": {
   "interpreter": {
    "hash": "43e4d72c8ad61331984bc36f87d846bb73452d1c2c0cb0d0679bd7cf00b5eb21"
   }
  }
 },
 "nbformat": 4,
 "nbformat_minor": 2
}
