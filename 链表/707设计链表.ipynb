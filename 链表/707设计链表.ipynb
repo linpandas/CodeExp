{
 "cells": [
  {
   "cell_type": "code",
   "execution_count": null,
   "metadata": {},
   "outputs": [],
   "source": []
  },
  {
   "cell_type": "code",
   "execution_count": 1,
   "metadata": {},
   "outputs": [],
   "source": [
    "class ListNode:\n",
    "    def __init__(self, val=0, next=None):\n",
    "        self.val = val\n",
    "        self.next = next\n",
    "\n",
    "class MyLinkedList:\n",
    "    def __init__(self):\n",
    "        self.dummy_head = ListNode()\n",
    "        self.size = 0\n",
    "\n",
    "    def get(self, index: int) -> int:\n",
    "        if index < 0 or index > self.size - 1:\n",
    "            return -1\n",
    "        \n",
    "        cur = self.dummy_head.next\n",
    "        for i in range(index):\n",
    "            cur = cur.next\n",
    "\n",
    "        return cur.val\n",
    "\n",
    "    def addAtHead(self, val: int) -> None:\n",
    "        temp = ListNode(val=val)\n",
    "        temp.next = self.dummy_head.next\n",
    "        self.dummy_head.next = temp\n",
    "        self.size += 1\n",
    "\n",
    "    def addAtTail(self, val: int) -> None:\n",
    "        cur = self.dummy_head.next\n",
    "        for i in range(self.size):\n",
    "            cur = cur.next\n",
    "\n",
    "        cur.next = ListNode(val, None)\n",
    "        self.size += 1\n",
    "\n",
    "    def addAtIndex(self, index: int, val: int) -> None:\n",
    "        if index < 0 or index > self.size - 1:\n",
    "            return\n",
    "\n",
    "        cur = self.dummy_head\n",
    "        for i in range(index):\n",
    "            cur = cur.next\n",
    "        \n",
    "        cur.next = ListNode(val, cur.next)\n",
    "        self.size += 1\n",
    "\n",
    "    def deleteAtIndex(self, index: int) -> None:\n",
    "        if index < 0 or index > self.size - 1:\n",
    "            return\n",
    "\n",
    "        cur = self.dummy_head\n",
    "        for i in range(index):\n",
    "            cur = cur.next\n",
    "\n",
    "        cur.next = cur.next.next\n",
    "        self.size -= 1"
   ]
  },
  {
   "cell_type": "code",
   "execution_count": 9,
   "metadata": {},
   "outputs": [
    {
     "name": "stdout",
     "output_type": "stream",
     "text": [
      "It's cat.\n"
     ]
    }
   ],
   "source": [
    "## 测试类可变对象\n",
    "\n",
    "class Animal:\n",
    "    def __init__(self, animal):\n",
    "        self.animal = animal\n",
    "\n",
    "    def speak(self):\n",
    "        print(f\"It's {self.animal}.\")\n",
    "\n",
    "a = Animal(\"dog\")\n",
    "b = a\n",
    "b.animal = \"cat\"\n",
    "a.speak()\n"
   ]
  },
  {
   "cell_type": "code",
   "execution_count": 2,
   "metadata": {},
   "outputs": [],
   "source": [
    "class ListNode:\n",
    "    def __init__(self, val=0, next=None):\n",
    "        self.val = val\n",
    "        self.next = next\n",
    "\n",
    "class MyLinkedList:\n",
    "    def __init__(self):\n",
    "        self.dummy_head = ListNode()\n",
    "        self.size = 0\n",
    "\n",
    "    def get(self, index):\n",
    "        if index < 0 or index > self.size-1:\n",
    "            return -1\n",
    "        \n",
    "        cur = self.dummy_head\n",
    "        for i in range(index):\n",
    "            cur = cur.next\n",
    "\n",
    "        return cur.next.val\n",
    "\n",
    "    def addAtHead(self, val):\n",
    "        self.dummy_head.next = ListNode(val, self.dummy_head.next)\n",
    "        self.size += 1\n",
    "\n",
    "    def addAtTail(self, val):\n",
    "        cur = self.dummy_head\n",
    "        while cur:\n",
    "            cur = cur.next\n",
    "        cur.next = ListNode(val)\n",
    "        self.size += 1\n",
    "\n",
    "    def addAtIndex(self, index, val):\n",
    "        if index < 0 or index > self.size-1:\n",
    "            return\n",
    "        cur = self.dummy_head\n",
    "        for i in range(index):\n",
    "            cur = cur.next\n",
    "        \n",
    "        cur.next = ListNode(val, cur.next)\n",
    "        self.size += 1\n",
    "\n",
    "    def deleteAtIndex(self, index):\n",
    "        if index < 0 or index > self.size-1:\n",
    "            return\n",
    "        cur = self.dummy_head\n",
    "        for i in range(index):\n",
    "            cur = cur.next\n",
    "        cur.next = cur.next.next\n",
    "        self.size -= 1"
   ]
  },
  {
   "cell_type": "code",
   "execution_count": null,
   "metadata": {},
   "outputs": [],
   "source": []
  }
 ],
 "metadata": {
  "kernelspec": {
   "display_name": "Python 3.10.6 64-bit",
   "language": "python",
   "name": "python3"
  },
  "language_info": {
   "codemirror_mode": {
    "name": "ipython",
    "version": 3
   },
   "file_extension": ".py",
   "mimetype": "text/x-python",
   "name": "python",
   "nbconvert_exporter": "python",
   "pygments_lexer": "ipython3",
   "version": "3.10.6"
  },
  "orig_nbformat": 4,
  "vscode": {
   "interpreter": {
    "hash": "43e4d72c8ad61331984bc36f87d846bb73452d1c2c0cb0d0679bd7cf00b5eb21"
   }
  }
 },
 "nbformat": 4,
 "nbformat_minor": 2
}
