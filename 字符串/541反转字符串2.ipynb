{
 "cells": [
  {
   "cell_type": "code",
   "execution_count": 30,
   "metadata": {},
   "outputs": [
    {
     "data": {
      "text/plain": [
       "'dcba'"
      ]
     },
     "execution_count": 30,
     "metadata": {},
     "output_type": "execute_result"
    }
   ],
   "source": [
    "import math\n",
    "s, k = \"abcdefg\", 2\n",
    "s, k = \"abcd\", 2\n",
    "s, k = \"abcd\", 4\n",
    "\n",
    "s = list(s)\n",
    "a, b = 0, 2*k\n",
    "n = math.ceil(len(s) / (2*k))\n",
    "\n",
    "def reverse(s):\n",
    "    i, j = 0, len(s)-1\n",
    "    while i < j:\n",
    "        s[i], s[j] = s[j], s[i]\n",
    "        i, j = i+1, j-1\n",
    "    \n",
    "    return s\n",
    "\n",
    "for i in range(n):\n",
    "    try:\n",
    "        s[a:a+k] = reverse(s[a:a+k])\n",
    "    except:\n",
    "        s[a:] = reverse(s[a:])\n",
    "\n",
    "    a, b = b, b+2*k\n",
    "\n",
    "\"\".join(s)"
   ]
  },
  {
   "cell_type": "code",
   "execution_count": 32,
   "metadata": {},
   "outputs": [
    {
     "data": {
      "text/plain": [
       "'bacdfeg'"
      ]
     },
     "execution_count": 32,
     "metadata": {},
     "output_type": "execute_result"
    }
   ],
   "source": [
    "import math\n",
    "s, k = \"abcdefg\", 2\n",
    "# s, k = \"abcd\", 2\n",
    "# s, k = \"abcd\", 4\n",
    "\n",
    "s = list(s)\n",
    "def reverse(s):\n",
    "    i, j = 0, len(s)-1\n",
    "    while i < j:\n",
    "        s[i], s[j] = s[j], s[i]\n",
    "        i, j = i+1, j-1\n",
    "    \n",
    "    return s\n",
    "\n",
    "a = 0\n",
    "while a < len(s):\n",
    "    try:\n",
    "        s[a:a+k] = reverse(s[a:a+k])\n",
    "    except:\n",
    "        s[a:] = reverse(s[a:])\n",
    "    \n",
    "    a += 2*k\n",
    "\n",
    "\"\".join(s)"
   ]
  }
 ],
 "metadata": {
  "kernelspec": {
   "display_name": "Python 3.10.6 64-bit",
   "language": "python",
   "name": "python3"
  },
  "language_info": {
   "codemirror_mode": {
    "name": "ipython",
    "version": 3
   },
   "file_extension": ".py",
   "mimetype": "text/x-python",
   "name": "python",
   "nbconvert_exporter": "python",
   "pygments_lexer": "ipython3",
   "version": "3.10.6"
  },
  "orig_nbformat": 4,
  "vscode": {
   "interpreter": {
    "hash": "43e4d72c8ad61331984bc36f87d846bb73452d1c2c0cb0d0679bd7cf00b5eb21"
   }
  }
 },
 "nbformat": 4,
 "nbformat_minor": 2
}
