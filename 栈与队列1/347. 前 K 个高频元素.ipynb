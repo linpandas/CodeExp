{
 "cells": [
  {
   "cell_type": "code",
   "execution_count": 16,
   "metadata": {},
   "outputs": [
    {
     "data": {
      "text/plain": [
       "[1, 2]"
      ]
     },
     "execution_count": 16,
     "metadata": {},
     "output_type": "execute_result"
    }
   ],
   "source": [
    "import heapq\n",
    "nums, k = [1,1,1,2,2,3], 2\n",
    "\n",
    "from collections import Counter\n",
    "hashmap = {}\n",
    "for i in nums:\n",
    "    hashmap[i] = hashmap.get(i, 0) + 1\n",
    "pri_que = [] # 构建小顶堆\n",
    "\n",
    "for key, freq in hashmap.items():\n",
    "    heapq.heappush(pri_que, (freq, key))\n",
    "    \n",
    "    if len(pri_que) > k:\n",
    "        heapq.heappop(pri_que)\n",
    "\n",
    "result = [0] * k\n",
    "for i in range(k-1, -1, -1):\n",
    "    result[i] = heapq.heappop(pri_que)[1]\n",
    "\n",
    "result"
   ]
  },
  {
   "cell_type": "code",
   "execution_count": 4,
   "metadata": {},
   "outputs": [
    {
     "data": {
      "text/plain": [
       "[2]"
      ]
     },
     "execution_count": 4,
     "metadata": {},
     "output_type": "execute_result"
    }
   ],
   "source": [
    "stock = [2,5,7,4]\n",
    "cnt = 1\n",
    "import heapq\n",
    "heap = []\n",
    "stock = [-x for x in stock]\n",
    "\n",
    "for x in stock:\n",
    "    heapq.heappush(heap, x)\n",
    "\n",
    "    if len(heap) > cnt:\n",
    "        heapq.heappop(heap)\n",
    "\n",
    "result = [0]*cnt\n",
    "for i in range(cnt):\n",
    "    result[i] = -heapq.heappop(heap)\n",
    "\n",
    "result\n"
   ]
  },
  {
   "cell_type": "code",
   "execution_count": 5,
   "metadata": {},
   "outputs": [
    {
     "data": {
      "text/plain": [
       "[2, 1]"
      ]
     },
     "execution_count": 5,
     "metadata": {},
     "output_type": "execute_result"
    }
   ],
   "source": [
    "import heapq\n",
    "from collections import Counter\n",
    "nums = [1,1,1,2,2,3]\n",
    "k = 2\n",
    "hashmap = Counter(nums)\n",
    "pri_heap = []\n",
    "for key, freq in hashmap.items():\n",
    "    heapq.heappush(pri_heap, (freq, key))\n",
    "\n",
    "    if len(pri_heap) > k:\n",
    "        heapq.heappop(pri_heap)\n",
    "    \n",
    "[i[1] for i in pri_heap]"
   ]
  },
  {
   "cell_type": "code",
   "execution_count": 16,
   "metadata": {},
   "outputs": [
    {
     "data": {
      "text/plain": [
       "[]"
      ]
     },
     "execution_count": 16,
     "metadata": {},
     "output_type": "execute_result"
    }
   ],
   "source": [
    "nums = [1,2,2,3,3,3,4,5,5,5]\n",
    "nums = [0,0,0]\n",
    "nums.sort()\n",
    "\n",
    "pre = None\n",
    "result = []\n",
    "nums.sort()\n",
    "for cur in nums:\n",
    "    if not pre:\n",
    "        count = 1\n",
    "    elif pre == cur:\n",
    "        count += 1\n",
    "    else:\n",
    "        count = 1\n",
    "    pre = cur\n",
    "\n",
    "    if count > int(len(nums)/3) and cur not in result:\n",
    "        result.append(cur)\n",
    "\n",
    "result"
   ]
  },
  {
   "cell_type": "code",
   "execution_count": null,
   "metadata": {},
   "outputs": [],
   "source": []
  }
 ],
 "metadata": {
  "kernelspec": {
   "display_name": "Python 3.10.6 64-bit",
   "language": "python",
   "name": "python3"
  },
  "language_info": {
   "codemirror_mode": {
    "name": "ipython",
    "version": 3
   },
   "file_extension": ".py",
   "mimetype": "text/x-python",
   "name": "python",
   "nbconvert_exporter": "python",
   "pygments_lexer": "ipython3",
   "version": "3.10.6"
  },
  "orig_nbformat": 4,
  "vscode": {
   "interpreter": {
    "hash": "43e4d72c8ad61331984bc36f87d846bb73452d1c2c0cb0d0679bd7cf00b5eb21"
   }
  }
 },
 "nbformat": 4,
 "nbformat_minor": 2
}
