{
 "cells": [
  {
   "cell_type": "code",
   "execution_count": 11,
   "metadata": {},
   "outputs": [
    {
     "data": {
      "text/plain": [
       "[3, 3, 5, 5, 6, 7]"
      ]
     },
     "execution_count": 11,
     "metadata": {},
     "output_type": "execute_result"
    }
   ],
   "source": [
    "nums, k = [1,3,-1,-3,5,3,6,7], 3\n",
    "\n",
    "from collections import deque\n",
    "queue = deque()\n",
    "result = []\n",
    "for i in range(k):\n",
    "    while queue and nums[i] > queue[-1]:\n",
    "        queue.pop()\n",
    "    queue.append(i)\n",
    "\n",
    "result.append(nums[queue[0]])\n",
    "for i in range(k, len(nums)):\n",
    "    while queue and nums[i] > queue[-1]:\n",
    "        queue.pop()\n",
    "    queue.append(i)\n",
    "    \n",
    "    if i - k == queue[0]:\n",
    "        queue.popleft()\n",
    "\n",
    "    result.append(nums[queue[0]])\n",
    "\n",
    "result"
   ]
  },
  {
   "cell_type": "code",
   "execution_count": 16,
   "metadata": {},
   "outputs": [
    {
     "data": {
      "text/plain": [
       "[3, 3, 5, 5, 6, 7]"
      ]
     },
     "execution_count": 16,
     "metadata": {},
     "output_type": "execute_result"
    }
   ],
   "source": [
    "nums, k = [1,3,-1,-3,5,3,6,7], 3\n",
    "\n",
    "class Solution:\n",
    "    def maxSlidingWindow(self, nums, k: int):\n",
    "        from collections import deque\n",
    "        queue = deque()\n",
    "        result = []\n",
    "        for i in range(k):\n",
    "            while queue and nums[i] > queue[-1]:\n",
    "                queue.pop()\n",
    "            queue.append(nums[i])\n",
    "        result.append(queue[0])\n",
    "\n",
    "        for i in range(k, len(nums)):\n",
    "            while queue and nums[i] > queue[-1]:\n",
    "                queue.pop()\n",
    "            queue.append(nums[i])\n",
    "\n",
    "            if nums[i-k] == queue[0]:\n",
    "                queue.popleft()\n",
    "            result.append(queue[0])\n",
    "\n",
    "        return result\n",
    "\n",
    "Solution().maxSlidingWindow(nums, k)"
   ]
  },
  {
   "cell_type": "code",
   "execution_count": 8,
   "metadata": {},
   "outputs": [
    {
     "data": {
      "text/plain": [
       "[3, 3, 5, 5, 6, 7]"
      ]
     },
     "execution_count": 8,
     "metadata": {},
     "output_type": "execute_result"
    }
   ],
   "source": [
    "nums, k = [1,3,-1,-3,5,3,6,7], 3\n",
    "\n",
    "class Solution:\n",
    "    def maxSlidingWindow(self, nums, k: int):\n",
    "        from collections import deque\n",
    "        queue = deque()\n",
    "        result = []\n",
    "        for i in range(k):\n",
    "            while queue and nums[i] > queue[-1]:\n",
    "                queue.pop()\n",
    "            queue.append(nums[i])\n",
    "        result.append(queue[0])\n",
    "\n",
    "        for i in range(k, len(nums)):\n",
    "            while queue and nums[i] > queue[-1]:\n",
    "                queue.pop()\n",
    "            queue.append(nums[i])\n",
    "\n",
    "            if nums[i-k] == queue[0]:\n",
    "                queue.popleft()\n",
    "            result.append(queue[0])\n",
    "        \n",
    "        return result\n",
    "            \n",
    "\n",
    "Solution().maxSlidingWindow(nums, k)"
   ]
  },
  {
   "cell_type": "code",
   "execution_count": 1,
   "metadata": {},
   "outputs": [
    {
     "name": "stdout",
     "output_type": "stream",
     "text": [
      "[(1, 'b'), (5, 'a'), (3, 'c')]\n"
     ]
    }
   ],
   "source": []
  }
 ],
 "metadata": {
  "kernelspec": {
   "display_name": "Python 3.10.6 64-bit",
   "language": "python",
   "name": "python3"
  },
  "language_info": {
   "codemirror_mode": {
    "name": "ipython",
    "version": 3
   },
   "file_extension": ".py",
   "mimetype": "text/x-python",
   "name": "python",
   "nbconvert_exporter": "python",
   "pygments_lexer": "ipython3",
   "version": "3.10.6"
  },
  "orig_nbformat": 4,
  "vscode": {
   "interpreter": {
    "hash": "43e4d72c8ad61331984bc36f87d846bb73452d1c2c0cb0d0679bd7cf00b5eb21"
   }
  }
 },
 "nbformat": 4,
 "nbformat_minor": 2
}
