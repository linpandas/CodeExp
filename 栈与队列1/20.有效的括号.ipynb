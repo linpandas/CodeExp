{
 "cells": [
  {
   "cell_type": "code",
   "execution_count": 19,
   "metadata": {},
   "outputs": [
    {
     "data": {
      "text/plain": [
       "False"
      ]
     },
     "execution_count": 19,
     "metadata": {},
     "output_type": "execute_result"
    }
   ],
   "source": [
    "s = \"()[]{}\"\n",
    "# s = \"(]\"\n",
    "# s = \"](\"\n",
    "\n",
    "def match(x, y):\n",
    "    return \"([{\".find(x) == \")]}\".find(y)\n",
    "\n",
    "def isValid(s):\n",
    "    if s[0] in \")]}\":\n",
    "        return False\n",
    "    stack = []\n",
    "    for i in s:\n",
    "        if i in \"([{\":\n",
    "            stack.append(i)\n",
    "        else:\n",
    "            if stack:\n",
    "                return False\n",
    "            if match(i, stack[-1]):\n",
    "                stack.pop()\n",
    "            else:\n",
    "                return False\n",
    "\n",
    "    return not stack\n",
    "\n",
    "isValid(s)"
   ]
  },
  {
   "cell_type": "code",
   "execution_count": 43,
   "metadata": {},
   "outputs": [
    {
     "data": {
      "text/plain": [
       "True"
      ]
     },
     "execution_count": 43,
     "metadata": {},
     "output_type": "execute_result"
    }
   ],
   "source": [
    "class Solution:\n",
    "    def isValid(self, s: str) -> bool:\n",
    "        stack = []\n",
    "        match = {\")\":\"(\", \"]\":\"[\", \"}\":\"{\"}\n",
    "        for item in s:\n",
    "            if item in match.values():\n",
    "                stack.append(item)\n",
    "            elif not stack or stack[-1] != match[item]:\n",
    "                return False\n",
    "            else:\n",
    "                stack.pop()\n",
    "        \n",
    "        return not stack\n",
    "\n",
    "# s = \"()[]{}\"\n",
    "# s = \"(]\"\n",
    "# s = \"](\"\n",
    "s = \"()\"\n",
    "Solution().isValid(s)"
   ]
  },
  {
   "cell_type": "code",
   "execution_count": 46,
   "metadata": {},
   "outputs": [
    {
     "data": {
      "text/plain": [
       "True"
      ]
     },
     "execution_count": 46,
     "metadata": {},
     "output_type": "execute_result"
    }
   ],
   "source": [
    "class Solution:\n",
    "    def isValid(self, s: str) -> bool:\n",
    "        stack = []\n",
    "        dic = {\")\":\"(\", \"]\":\"[\", \"}\":\"{\"}\n",
    "        \n",
    "        for item in s:\n",
    "            if item in dic.values():\n",
    "                stack.append(item)\n",
    "            elif not stack or stack[-1] != dic[item]:\n",
    "                return False\n",
    "            else:\n",
    "                stack.pop()\n",
    "\n",
    "        return not stack\n",
    "\n",
    "s = \"()\"\n",
    "Solution().isValid(s)"
   ]
  },
  {
   "cell_type": "code",
   "execution_count": 42,
   "metadata": {},
   "outputs": [
    {
     "data": {
      "text/plain": [
       "'('"
      ]
     },
     "execution_count": 42,
     "metadata": {},
     "output_type": "execute_result"
    }
   ],
   "source": [
    "dic = {\")\":\"(\", \"]\":\"[\", \"}\":\"{\"}\n",
    "dic[\")\"]"
   ]
  }
 ],
 "metadata": {
  "kernelspec": {
   "display_name": "Python 3.10.6 64-bit",
   "language": "python",
   "name": "python3"
  },
  "language_info": {
   "codemirror_mode": {
    "name": "ipython",
    "version": 3
   },
   "file_extension": ".py",
   "mimetype": "text/x-python",
   "name": "python",
   "nbconvert_exporter": "python",
   "pygments_lexer": "ipython3",
   "version": "3.10.6"
  },
  "orig_nbformat": 4,
  "vscode": {
   "interpreter": {
    "hash": "43e4d72c8ad61331984bc36f87d846bb73452d1c2c0cb0d0679bd7cf00b5eb21"
   }
  }
 },
 "nbformat": 4,
 "nbformat_minor": 2
}
