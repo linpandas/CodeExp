{
 "cells": [
  {
   "cell_type": "code",
   "execution_count": 17,
   "metadata": {},
   "outputs": [
    {
     "data": {
      "text/plain": [
       "6"
      ]
     },
     "execution_count": 17,
     "metadata": {},
     "output_type": "execute_result"
    }
   ],
   "source": [
    "tokens = [\"2\",\"1\",\"+\",\"3\",\"*\"]\n",
    "tokens = [\"4\",\"13\",\"5\",\"/\",\"+\"]\n",
    "stack = []\n",
    "\n",
    "for i in tokens:\n",
    "    if i in \"+-*/\":\n",
    "        s, t = stack.pop(), stack.pop()\n",
    "        stack.append(str(int(eval(t+i+s))))\n",
    "    else:\n",
    "        stack.append(i)\n",
    "\n",
    "eval(stack.pop())"
   ]
  },
  {
   "cell_type": "code",
   "execution_count": 30,
   "metadata": {},
   "outputs": [
    {
     "data": {
      "text/plain": [
       "6"
      ]
     },
     "execution_count": 30,
     "metadata": {},
     "output_type": "execute_result"
    }
   ],
   "source": [
    "tokens = [\"2\",\"1\",\"+\",\"3\",\"*\"]\n",
    "tokens = [\"4\",\"13\",\"5\",\"/\",\"+\"]\n",
    "stack = []\n",
    "\n",
    "from operator import add, sub, mul\n",
    "op_map = {\"+\": add, \"-\": sub, \"*\": mul, \"/\": lambda x, y: int(x/y)}\n",
    "\n",
    "for i in tokens:\n",
    "    if i in \"+-*/\":\n",
    "        s, t = stack.pop(), stack.pop()\n",
    "        stack.append(op_map[i](t, s))\n",
    "    else:\n",
    "        stack.append(int(i))\n",
    "\n",
    "stack.pop()"
   ]
  },
  {
   "cell_type": "code",
   "execution_count": null,
   "metadata": {},
   "outputs": [],
   "source": []
  }
 ],
 "metadata": {
  "kernelspec": {
   "display_name": "Python 3.10.6 64-bit",
   "language": "python",
   "name": "python3"
  },
  "language_info": {
   "name": "python",
   "version": "3.10.6"
  },
  "orig_nbformat": 4,
  "vscode": {
   "interpreter": {
    "hash": "43e4d72c8ad61331984bc36f87d846bb73452d1c2c0cb0d0679bd7cf00b5eb21"
   }
  }
 },
 "nbformat": 4,
 "nbformat_minor": 2
}
