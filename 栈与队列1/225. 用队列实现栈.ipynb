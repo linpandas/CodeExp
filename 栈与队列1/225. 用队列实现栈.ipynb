{
 "cells": [
  {
   "cell_type": "code",
   "execution_count": 9,
   "metadata": {},
   "outputs": [],
   "source": [
    "class MyStack:\n",
    "\n",
    "    def __init__(self):\n",
    "        from collections import deque\n",
    "        self.queue1 = deque()\n",
    "        self.queue2 = deque()\n",
    "        self.count = 0\n",
    "\n",
    "    def push(self, x: int) -> None:\n",
    "        if self.queue1:\n",
    "            self.queue1.append(x)\n",
    "        else:\n",
    "            self.queue2.append(x)\n",
    "        self.count += 1\n",
    "\n",
    "    def pop(self) -> int:\n",
    "        if self.queue1:\n",
    "            for _ in range(self.count-1):\n",
    "                self.queue2.append(self.queue1.popleft())\n",
    "            self.count -= 1\n",
    "            return self.queue1.popleft()\n",
    "        elif self.queue2:\n",
    "            for _ in range(self.count-1):\n",
    "                self.queue1.append(self.queue2.popleft())\n",
    "            self.count -= 1\n",
    "            return self.queue2.popleft()\n",
    "            \n",
    "    def top(self) -> int:\n",
    "        if self.queue1:\n",
    "            for _ in range(self.count-1):\n",
    "                self.queue2.append(self.queue1.popleft())\n",
    "            top = self.queue1.popleft()\n",
    "            self.queue2.append(top)\n",
    "        elif self.queue2:\n",
    "            for _ in range(self.count-1):\n",
    "                self.queue1.append(self.queue2.popleft())\n",
    "            top = self.queue2.popleft()\n",
    "            self.queue1.append(top)\n",
    "        \n",
    "        return top\n",
    "\n",
    "    def empty(self) -> bool:\n",
    "        return not (self.queue1 or self.queue2)"
   ]
  },
  {
   "cell_type": "code",
   "execution_count": 14,
   "metadata": {},
   "outputs": [
    {
     "data": {
      "text/plain": [
       "True"
      ]
     },
     "execution_count": 14,
     "metadata": {},
     "output_type": "execute_result"
    }
   ],
   "source": [
    "obj = MyStack()\n",
    "obj.push(\"x\")\n",
    "obj.push(\"1\")\n",
    "# obj.queue2\n",
    "param_2 = obj.pop()\n",
    "param_3 = obj.top()\n",
    "param_3\n",
    "param_4 = obj.empty()\n",
    "param_4\n",
    "obj.pop()\n",
    "obj.empty()"
   ]
  },
  {
   "cell_type": "code",
   "execution_count": null,
   "metadata": {},
   "outputs": [],
   "source": []
  }
 ],
 "metadata": {
  "kernelspec": {
   "display_name": "Python 3.10.6 64-bit",
   "language": "python",
   "name": "python3"
  },
  "language_info": {
   "codemirror_mode": {
    "name": "ipython",
    "version": 3
   },
   "file_extension": ".py",
   "mimetype": "text/x-python",
   "name": "python",
   "nbconvert_exporter": "python",
   "pygments_lexer": "ipython3",
   "version": "3.10.6"
  },
  "orig_nbformat": 4,
  "vscode": {
   "interpreter": {
    "hash": "43e4d72c8ad61331984bc36f87d846bb73452d1c2c0cb0d0679bd7cf00b5eb21"
   }
  }
 },
 "nbformat": 4,
 "nbformat_minor": 2
}
