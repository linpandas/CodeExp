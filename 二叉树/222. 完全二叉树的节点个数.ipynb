{
 "cells": [
  {
   "cell_type": "code",
   "execution_count": 8,
   "metadata": {},
   "outputs": [],
   "source": [
    "# Definition for a binary tree node.\n",
    "class TreeNode:\n",
    "    def __init__(self, val=0, left=None, right=None):\n",
    "        self.val = val\n",
    "        self.left = left\n",
    "        self.right = right"
   ]
  },
  {
   "cell_type": "code",
   "execution_count": 9,
   "metadata": {},
   "outputs": [],
   "source": [
    "root = TreeNode(1)\n",
    "root.left = TreeNode(2)\n",
    "root.right = TreeNode(3)\n",
    "root.left.left = TreeNode(4)\n",
    "root.left.right = TreeNode(5)\n",
    "root.right.left = TreeNode(6)"
   ]
  },
  {
   "cell_type": "code",
   "execution_count": null,
   "metadata": {},
   "outputs": [],
   "source": [
    "class Solution:\n",
    "    def countNodes(self, root) -> int:\n",
    "        # 利用完全二叉树的性质\n",
    "        if not root:\n",
    "            return 0\n",
    "\n",
    "        left = root.left\n",
    "        right = root.right\n",
    "        leftDepth = 1\n",
    "        rightDepth = 1\n",
    "\n",
    "        while left:\n",
    "            left = left.left\n",
    "            leftDepth += 1\n",
    "        while right:\n",
    "            right = right.right\n",
    "            rightDepth += 1\n",
    "        \n",
    "        if leftDepth == rightDepth:\n",
    "            return (2 ** leftDepth) - 1\n",
    "\n",
    "        # return self.countNodes(root.left) + self.countNodes(root.right) + 1\n",
    "        return self.countNodes(root)\n",
    "\n",
    "Solution().countNodes(root)"
   ]
  }
 ],
 "metadata": {
  "kernelspec": {
   "display_name": "Python 3.10.6 64-bit",
   "language": "python",
   "name": "python3"
  },
  "language_info": {
   "codemirror_mode": {
    "name": "ipython",
    "version": 3
   },
   "file_extension": ".py",
   "mimetype": "text/x-python",
   "name": "python",
   "nbconvert_exporter": "python",
   "pygments_lexer": "ipython3",
   "version": "3.10.6"
  },
  "orig_nbformat": 4,
  "vscode": {
   "interpreter": {
    "hash": "43e4d72c8ad61331984bc36f87d846bb73452d1c2c0cb0d0679bd7cf00b5eb21"
   }
  }
 },
 "nbformat": 4,
 "nbformat_minor": 2
}
