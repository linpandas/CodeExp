{
 "cells": [
  {
   "cell_type": "code",
   "execution_count": 1,
   "metadata": {},
   "outputs": [],
   "source": [
    "# Definition for a binary tree node.\n",
    "class TreeNode:\n",
    "    def __init__(self, val=0, left=None, right=None):\n",
    "        self.val = val\n",
    "        self.left = left\n",
    "        self.right = right"
   ]
  },
  {
   "cell_type": "code",
   "execution_count": 2,
   "metadata": {},
   "outputs": [],
   "source": [
    "root = TreeNode(2)\n",
    "root.left = TreeNode(1)\n",
    "root.right = TreeNode(3)"
   ]
  },
  {
   "cell_type": "code",
   "execution_count": 4,
   "metadata": {},
   "outputs": [
    {
     "data": {
      "text/plain": [
       "1"
      ]
     },
     "execution_count": 4,
     "metadata": {},
     "output_type": "execute_result"
    }
   ],
   "source": [
    "class Solution:   \n",
    "    def findBottomLeftValue(self, root) -> int:\n",
    "        # 递归法（前中后序都可以）\n",
    "        self.max_depth = float(\"-inf\")\n",
    "        self.result = None\n",
    "        self.traversal(root, 0)\n",
    "\n",
    "        return self.result\n",
    "\n",
    "    def traversal(self, node, depth):\n",
    "        if not node.left and not node.right:\n",
    "            if depth > self.max_depth:\n",
    "                self.result = node.val\n",
    "                self.max_depth = depth\n",
    "\n",
    "                return\n",
    "        \n",
    "        if node.left:\n",
    "            depth += 1\n",
    "            self.traversal(node.left, depth)\n",
    "            depth -= 1\n",
    "        if node.right:\n",
    "            depth += 1\n",
    "            self.traversal(node.right, depth)\n",
    "            depth -= 1\n",
    "\n",
    "Solution().findBottomLeftValue(root)"
   ]
  }
 ],
 "metadata": {
  "kernelspec": {
   "display_name": "Python 3.10.6 64-bit",
   "language": "python",
   "name": "python3"
  },
  "language_info": {
   "codemirror_mode": {
    "name": "ipython",
    "version": 3
   },
   "file_extension": ".py",
   "mimetype": "text/x-python",
   "name": "python",
   "nbconvert_exporter": "python",
   "pygments_lexer": "ipython3",
   "version": "3.10.6"
  },
  "orig_nbformat": 4,
  "vscode": {
   "interpreter": {
    "hash": "43e4d72c8ad61331984bc36f87d846bb73452d1c2c0cb0d0679bd7cf00b5eb21"
   }
  }
 },
 "nbformat": 4,
 "nbformat_minor": 2
}
