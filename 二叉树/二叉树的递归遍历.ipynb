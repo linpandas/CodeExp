{
 "cells": [
  {
   "cell_type": "code",
   "execution_count": 4,
   "metadata": {},
   "outputs": [],
   "source": [
    "# Definition for a binary tree node.\n",
    "class TreeNode:\n",
    "    def __init__(self, val=0, left=None, right=None):\n",
    "        self.val = val\n",
    "        self.left = left\n",
    "        self.right = right"
   ]
  },
  {
   "cell_type": "code",
   "execution_count": 5,
   "metadata": {},
   "outputs": [],
   "source": [
    "root = TreeNode(1)\n",
    "root.right = TreeNode(2)\n",
    "root.right.left = TreeNode(3)"
   ]
  },
  {
   "cell_type": "code",
   "execution_count": 6,
   "metadata": {},
   "outputs": [
    {
     "name": "stdout",
     "output_type": "stream",
     "text": [
      "[1, 2, 3]\n",
      "[1, 3, 2]\n"
     ]
    }
   ],
   "source": [
    "## 递归法\n",
    "class Solution:\n",
    "    def preorderTraversal(self, root) -> list[int]:\n",
    "        ## 前序遍历\n",
    "\n",
    "        if not root:\n",
    "            return []\n",
    "\n",
    "        left = self.preorderTraversal(root.left)\n",
    "        right = self.preorderTraversal(root.right)\n",
    "\n",
    "        return [root.val] + left + right\n",
    "\n",
    "    def inorderTraversal(self, root):\n",
    "        ## 中序遍历\n",
    "        \n",
    "        if not root:\n",
    "            return []\n",
    "\n",
    "        left = self.inorderTraversal(root.left)\n",
    "        right = self.inorderTraversal(root.right)\n",
    "\n",
    "        return left + [root.val] + right\n",
    "\n",
    "x = Solution()\n",
    "print(x.preorderTraversal(root))\n",
    "print(x.inorderTraversal(root))"
   ]
  },
  {
   "cell_type": "code",
   "execution_count": 26,
   "metadata": {},
   "outputs": [
    {
     "name": "stdout",
     "output_type": "stream",
     "text": [
      "[1, 2, 3]\n",
      "[3, 2, 1]\n",
      "[1, 3, 2]\n"
     ]
    }
   ],
   "source": [
    "## 迭代法\n",
    "class Solution:\n",
    "    def preorderTraversal(self, root) -> list[int]:\n",
    "        if not root:\n",
    "            return []\n",
    "        stack = [root]\n",
    "        result = []\n",
    "        while stack:\n",
    "            node = stack.pop()\n",
    "            # 中结点\n",
    "            result.append(node.val)\n",
    "            # 右孩子先入栈\n",
    "            if node.right:\n",
    "                stack.append(node.right)\n",
    "            # 左孩子后入栈\n",
    "            if node.left:\n",
    "                stack.append(node.left)\n",
    "        \n",
    "        return result\n",
    "\n",
    "    def postorderTraversal(self, root) -> list[int]:\n",
    "        if not root:\n",
    "            return []\n",
    "\n",
    "        stack = [root]\n",
    "        result = []\n",
    "\n",
    "        while stack:\n",
    "            node = stack.pop()\n",
    "            # 中结点\n",
    "            result.append(node.val)\n",
    "            # 左孩子先入栈\n",
    "            if node.left:\n",
    "                stack.append(node.left)\n",
    "            # 右孩子后入栈\n",
    "            if node.right:\n",
    "                stack.append(node.right)\n",
    "        \n",
    "        result.reverse()\n",
    "        return result\n",
    "\n",
    "    def inorderTraversal(self, root) -> list[int]:\n",
    "        if not root:\n",
    "            return []\n",
    "\n",
    "        stack = []\n",
    "        result = []\n",
    "        cur = root\n",
    "\n",
    "        while cur or stack:\n",
    "            # 先访问最底层的左子树结点\n",
    "            if cur:\n",
    "                stack.append(cur)\n",
    "                cur = cur.left\n",
    "            # 到达最左结点后处理栈顶结点\n",
    "            else:\n",
    "                cur = stack.pop()\n",
    "                result.append(cur.val)\n",
    "                cur = cur.right\n",
    "        \n",
    "        return result\n",
    "\n",
    "x = Solution()\n",
    "print(x.preorderTraversal(root))\n",
    "print(x.postorderTraversal(root))\n",
    "print(x.inorderTraversal(root))"
   ]
  },
  {
   "cell_type": "code",
   "execution_count": 3,
   "metadata": {},
   "outputs": [
    {
     "data": {
      "text/plain": [
       "True"
      ]
     },
     "execution_count": 3,
     "metadata": {},
     "output_type": "execute_result"
    }
   ],
   "source": [
    "def f1():\n",
    "    return None\n",
    "\n",
    "def f2():\n",
    "    return\n",
    "\n",
    "f1() == f2()"
   ]
  }
 ],
 "metadata": {
  "kernelspec": {
   "display_name": "Python 3.10.6 64-bit",
   "language": "python",
   "name": "python3"
  },
  "language_info": {
   "codemirror_mode": {
    "name": "ipython",
    "version": 3
   },
   "file_extension": ".py",
   "mimetype": "text/x-python",
   "name": "python",
   "nbconvert_exporter": "python",
   "pygments_lexer": "ipython3",
   "version": "3.10.6"
  },
  "orig_nbformat": 4,
  "vscode": {
   "interpreter": {
    "hash": "43e4d72c8ad61331984bc36f87d846bb73452d1c2c0cb0d0679bd7cf00b5eb21"
   }
  }
 },
 "nbformat": 4,
 "nbformat_minor": 2
}
