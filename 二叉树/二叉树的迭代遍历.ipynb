{
 "cells": [
  {
   "cell_type": "code",
   "execution_count": 2,
   "metadata": {},
   "outputs": [],
   "source": [
    "# Definition for a binary tree node.\n",
    "class TreeNode:\n",
    "    def __init__(self, val=0, left=None, right=None):\n",
    "        self.val = val\n",
    "        self.left = left\n",
    "        self.right = right"
   ]
  },
  {
   "cell_type": "code",
   "execution_count": 3,
   "metadata": {},
   "outputs": [],
   "source": [
    "root = TreeNode(1)\n",
    "root.right = TreeNode(2)\n",
    "root.right.left = TreeNode(3)"
   ]
  },
  {
   "cell_type": "code",
   "execution_count": 5,
   "metadata": {},
   "outputs": [
    {
     "name": "stdout",
     "output_type": "stream",
     "text": [
      "前序遍历：[1, 2, 3]\n",
      "后序遍历： [3, 2, 1]\n",
      "中序遍历： [1, 3, 2]\n"
     ]
    }
   ],
   "source": [
    "## 迭代法\n",
    "class Solution:\n",
    "    def preorderTraversal(self, root) -> list[int]:\n",
    "        # 前序遍历\n",
    "        stack = [root]\n",
    "        result = []\n",
    "\n",
    "        while stack:\n",
    "            node = stack.pop()\n",
    "            result.append(node.val)\n",
    "\n",
    "            # 栈先进后出，前序遍历（中左右），为了让left先弹出，需要先把right加入栈里\n",
    "            if node.right:\n",
    "                stack.append(node.right)\n",
    "            if node.left:\n",
    "                stack.append(node.left)\n",
    "\n",
    "        return result\n",
    "\n",
    "    def postorderTraversal(self, root) -> list[int]:\n",
    "        # 后序遍历\n",
    "        stack = [root]\n",
    "        result = []\n",
    "\n",
    "        while stack:\n",
    "            node = stack.pop()\n",
    "            result.append(node.val)\n",
    "\n",
    "            # 前序遍历（中左右），后序遍历（左右中）\n",
    "            # 中左右——中右左——左右中\n",
    "            if node.left:\n",
    "                stack.append(node.left)\n",
    "            if node.right:\n",
    "                stack.append(node.right)\n",
    "        \n",
    "        return result[::-1]\n",
    "\n",
    "    def inorderTraversal(self, root) -> list[int]:\n",
    "        # 中序遍历\n",
    "        # \n",
    "        if not root:\n",
    "            return root\n",
    "\n",
    "        stack = []\n",
    "        result = []\n",
    "        cur = root\n",
    "\n",
    "        while cur or stack:\n",
    "            if cur:\n",
    "                stack.append(cur)\n",
    "                cur = cur.left\n",
    "            else:\n",
    "                cur = stack.pop()\n",
    "                result.append(cur.val)\n",
    "                cur = cur.right\n",
    "\n",
    "        return result\n",
    "\n",
    "\n",
    "print(f\"前序遍历：{Solution().preorderTraversal(root)}\")\n",
    "print(f\"后序遍历： {Solution().postorderTraversal(root)}\")\n",
    "print(f\"中序遍历： {Solution().inorderTraversal(root)}\")"
   ]
  },
  {
   "cell_type": "code",
   "execution_count": 3,
   "metadata": {},
   "outputs": [
    {
     "data": {
      "text/plain": [
       "'ba'"
      ]
     },
     "execution_count": 3,
     "metadata": {},
     "output_type": "execute_result"
    }
   ],
   "source": [
    "s = \"ab\"\n",
    "s[0:2][::-1]"
   ]
  }
 ],
 "metadata": {
  "kernelspec": {
   "display_name": "Python 3.10.6 64-bit",
   "language": "python",
   "name": "python3"
  },
  "language_info": {
   "codemirror_mode": {
    "name": "ipython",
    "version": 3
   },
   "file_extension": ".py",
   "mimetype": "text/x-python",
   "name": "python",
   "nbconvert_exporter": "python",
   "pygments_lexer": "ipython3",
   "version": "3.10.6"
  },
  "orig_nbformat": 4,
  "vscode": {
   "interpreter": {
    "hash": "43e4d72c8ad61331984bc36f87d846bb73452d1c2c0cb0d0679bd7cf00b5eb21"
   }
  }
 },
 "nbformat": 4,
 "nbformat_minor": 2
}
