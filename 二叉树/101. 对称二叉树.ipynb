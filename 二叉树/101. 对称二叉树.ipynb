{
 "cells": [
  {
   "cell_type": "code",
   "execution_count": 2,
   "metadata": {},
   "outputs": [],
   "source": [
    "# Definition for a binary tree node.\n",
    "class TreeNode:\n",
    "    def __init__(self, val=0, left=None, right=None):\n",
    "        self.val = val\n",
    "        self.left = left\n",
    "        self.right = right"
   ]
  },
  {
   "cell_type": "code",
   "execution_count": 26,
   "metadata": {},
   "outputs": [],
   "source": [
    "root = TreeNode(1)\n",
    "root.left = TreeNode(2)\n",
    "root.right = TreeNode(2)\n",
    "# root.left.left = TreeNode(3)\n",
    "root.left.right = TreeNode(3)\n",
    "# root.right.left = TreeNode(4)\n",
    "root.right.right = TreeNode(3)"
   ]
  },
  {
   "cell_type": "code",
   "execution_count": 27,
   "metadata": {},
   "outputs": [
    {
     "data": {
      "text/plain": [
       "False"
      ]
     },
     "execution_count": 27,
     "metadata": {},
     "output_type": "execute_result"
    }
   ],
   "source": [
    "class Solution:\n",
    "    def isSymmetric(self, root) -> bool:\n",
    "        # 递归法\n",
    "        if not root:\n",
    "            return root\n",
    "        return self.compare(root.left, root.right)\n",
    "    \n",
    "    def compare(self, left, right):\n",
    "        if not left and right:\n",
    "            return False\n",
    "        elif left and not right:\n",
    "            return False\n",
    "        elif not left and not right:\n",
    "            return True\n",
    "        elif left.val != right.val:\n",
    "            return False\n",
    "        \n",
    "        outside = self.compare(left.left, right.right)\n",
    "        inside = self.compare(left.right, right.left)\n",
    "\n",
    "        return outside and inside\n",
    "\n",
    "Solution().isSymmetric(root)"
   ]
  },
  {
   "cell_type": "code",
   "execution_count": null,
   "metadata": {},
   "outputs": [],
   "source": []
  }
 ],
 "metadata": {
  "kernelspec": {
   "display_name": "Python 3.10.6 64-bit",
   "language": "python",
   "name": "python3"
  },
  "language_info": {
   "codemirror_mode": {
    "name": "ipython",
    "version": 3
   },
   "file_extension": ".py",
   "mimetype": "text/x-python",
   "name": "python",
   "nbconvert_exporter": "python",
   "pygments_lexer": "ipython3",
   "version": "3.10.6"
  },
  "orig_nbformat": 4,
  "vscode": {
   "interpreter": {
    "hash": "43e4d72c8ad61331984bc36f87d846bb73452d1c2c0cb0d0679bd7cf00b5eb21"
   }
  }
 },
 "nbformat": 4,
 "nbformat_minor": 2
}
