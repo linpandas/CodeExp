{
 "cells": [
  {
   "cell_type": "code",
   "execution_count": 15,
   "metadata": {},
   "outputs": [
    {
     "data": {
      "text/plain": [
       "[9, 7, 8]"
      ]
     },
     "execution_count": 15,
     "metadata": {},
     "output_type": "execute_result"
    }
   ],
   "source": [
    "s = \"ababcbacadefegdehijhklij\"\n",
    "\n",
    "index = {}\n",
    "used = set()\n",
    "result = []\n",
    "for i in range(len(s)-1,-1,-1):\n",
    "    if s[i] not in used:\n",
    "        index[s[i]] = i\n",
    "\n",
    "    used.add(s[i])\n",
    "\n",
    "n = 0\n",
    "max_index = float(\"-inf\")\n",
    "for i in range(len(s)):\n",
    "    n += 1\n",
    "    if i == max_index:\n",
    "        result.append(n)\n",
    "        n = 0\n",
    "    max_index = max(max_index, index[s[i]])\n",
    "\n",
    "result"
   ]
  },
  {
   "cell_type": "code",
   "execution_count": 18,
   "metadata": {},
   "outputs": [
    {
     "data": {
      "text/plain": [
       "[2, 5, 20]"
      ]
     },
     "execution_count": 18,
     "metadata": {},
     "output_type": "execute_result"
    }
   ],
   "source": [
    "a = [2, 5, 3, 4, 20]\n",
    "l, r = 2, 3\n",
    "\n",
    "def detect(a, l, r):\n",
    "    return a[:l] + a[r+1:]\n",
    "detect(a, l, r)"
   ]
  },
  {
   "cell_type": "code",
   "execution_count": 30,
   "metadata": {},
   "outputs": [
    {
     "data": {
      "text/plain": [
       "True"
      ]
     },
     "execution_count": 30,
     "metadata": {},
     "output_type": "execute_result"
    }
   ],
   "source": [
    "a = [2, 5, 3, 4, 20]\n",
    "l, r = 2, 3\n",
    "k = 2\n",
    "def detect(a, l, r, k):\n",
    "    prod = 1\n",
    "    for i in a[:l] + a[r+1:]:\n",
    "        prod *= i\n",
    "    zero_count = str(prod).count(\"0\")\n",
    "    return zero_count == k\n",
    "detect(a, l, r, k)"
   ]
  },
  {
   "cell_type": "code",
   "execution_count": 41,
   "metadata": {},
   "outputs": [
    {
     "data": {
      "text/plain": [
       "True"
      ]
     },
     "execution_count": 41,
     "metadata": {},
     "output_type": "execute_result"
    }
   ],
   "source": [
    "import math\n",
    "a = [2, 5, 3, 4, 20]\n",
    "k = 2\n",
    "path = [3, 4]\n",
    "production = math.prod(a)\n",
    "def detect(production, path, k):\n",
    "    for i in path:\n",
    "        production /= i\n",
    "    zero_count = str(production).count(\"0\")\n",
    "    return zero_count >= k\n",
    "detect(production, path, k)"
   ]
  },
  {
   "cell_type": "code",
   "execution_count": 52,
   "metadata": {},
   "outputs": [
    {
     "data": {
      "text/plain": [
       "[[], [2], [2, 3], [2, 3, 4], [2, 4], [3], [3, 4], [4]]"
      ]
     },
     "execution_count": 52,
     "metadata": {},
     "output_type": "execute_result"
    }
   ],
   "source": [
    "import math\n",
    "result = []\n",
    "a = [2, 5, 3, 4, 20]\n",
    "k = 2\n",
    "production = math.prod(a)\n",
    "def detect(prod, path, k):\n",
    "    for i in path:\n",
    "        prod /= i\n",
    "    zero_count = str(int(prod)).count(\"0\")\n",
    "    return zero_count >= k\n",
    "\n",
    "def backtracking(a, k, production, startIndex, path, result):\n",
    "    if detect(production, path, k):\n",
    "        result.append(path.copy())\n",
    "    \n",
    "    for i in range(startIndex, len(a)):\n",
    "        path.append(a[startIndex:i+1])\n",
    "        backtracking(a, k, production, i+1, path, result)\n",
    "        path.pop()\n",
    "\n",
    "backtracking(a, k, production, 0, [], result)\n",
    "result"
   ]
  },
  {
   "cell_type": "code",
   "execution_count": 53,
   "metadata": {},
   "outputs": [
    {
     "data": {
      "text/plain": [
       "400.0"
      ]
     },
     "execution_count": 53,
     "metadata": {},
     "output_type": "execute_result"
    }
   ],
   "source": [
    "a = [2, 5, 3, 4, 20]\n",
    "path =  [2, 3]\n",
    "def detect(production, path, k):\n",
    "    for i in path:\n",
    "        production /= i\n",
    "    zero_count = str(production).count(\"0\")\n",
    "    return production\n",
    "detect(production, path, k)"
   ]
  },
  {
   "cell_type": "code",
   "execution_count": 56,
   "metadata": {},
   "outputs": [
    {
     "data": {
      "text/plain": [
       "2"
      ]
     },
     "execution_count": 56,
     "metadata": {},
     "output_type": "execute_result"
    }
   ],
   "source": [
    "def getFactor2(n):\n",
    "    count = 0\n",
    "    while n % 2 == 0:\n",
    "        count += 1\n",
    "        n /=2\n",
    "    \n",
    "    return count\n",
    "\n",
    "getFactor2(20)"
   ]
  },
  {
   "cell_type": "code",
   "execution_count": 7,
   "metadata": {},
   "outputs": [
    {
     "data": {
      "text/plain": [
       "1"
      ]
     },
     "execution_count": 7,
     "metadata": {},
     "output_type": "execute_result"
    }
   ],
   "source": [
    "s = \" \"\n",
    "l, r = 0, 0\n",
    "maxCount = 0\n",
    "for r in range(len(s)):\n",
    "    if s[r] in s[l:r+1]:\n",
    "        maxCount = max(maxCount, r-l+1)\n",
    "        while s[r] in s[l:r]:\n",
    "            l += 1\n",
    "\n",
    "maxCount"
   ]
  },
  {
   "cell_type": "code",
   "execution_count": 5,
   "metadata": {},
   "outputs": [
    {
     "data": {
      "text/plain": [
       "0"
      ]
     },
     "execution_count": 5,
     "metadata": {},
     "output_type": "execute_result"
    }
   ],
   "source": []
  }
 ],
 "metadata": {
  "kernelspec": {
   "display_name": "Python 3.10.6 64-bit",
   "language": "python",
   "name": "python3"
  },
  "language_info": {
   "codemirror_mode": {
    "name": "ipython",
    "version": 3
   },
   "file_extension": ".py",
   "mimetype": "text/x-python",
   "name": "python",
   "nbconvert_exporter": "python",
   "pygments_lexer": "ipython3",
   "version": "3.10.6"
  },
  "orig_nbformat": 4,
  "vscode": {
   "interpreter": {
    "hash": "43e4d72c8ad61331984bc36f87d846bb73452d1c2c0cb0d0679bd7cf00b5eb21"
   }
  }
 },
 "nbformat": 4,
 "nbformat_minor": 2
}
