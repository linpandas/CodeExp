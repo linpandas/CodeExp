{
 "cells": [
  {
   "cell_type": "code",
   "execution_count": 2,
   "metadata": {},
   "outputs": [
    {
     "name": "stdout",
     "output_type": "stream",
     "text": [
      "[1, 2, 3, 1, 1, 1, 1]\n",
      "[1, 2, 3, 1, 3, 2, 1]\n"
     ]
    }
   ],
   "source": [
    "ratings = [1,2,87,87,87,2,1]\n",
    "\n",
    "candyVec = [1] * len(ratings)\n",
    "\n",
    "# 右孩子大于左孩子\n",
    "for i in range(1, len(ratings)):\n",
    "    if ratings[i] > ratings[i-1]:\n",
    "        candyVec[i] = candyVec[i-1] + 1\n",
    "print(candyVec)\n",
    "# 左孩子大于右孩子\n",
    "for i in range(len(ratings)-2, -1, -1):\n",
    "    if ratings[i] > ratings[i+1]:\n",
    "        candyVec[i] = max(candyVec[i+1] + 1, candyVec[i])\n",
    "print(candyVec)"
   ]
  },
  {
   "cell_type": "code",
   "execution_count": 5,
   "metadata": {},
   "outputs": [
    {
     "name": "stdout",
     "output_type": "stream",
     "text": [
      "[1, 2, 3, 1, 1, 1, 1]\n",
      "[1, 2, 3, 1, 3, 2, 1]\n"
     ]
    }
   ],
   "source": [
    "ratings = [1,2,87,87,87,2,1]\n",
    "\n",
    "candyVec = [1] * len(ratings)\n",
    "# 右孩子大于左孩子\n",
    "for i in range(len(ratings) - 1):\n",
    "    if ratings[i+1] > ratings[i]:\n",
    "        candyVec[i+1] = candyVec[i] + 1\n",
    "print(candyVec)\n",
    "for i in range(len(ratings)-1, 0, -1):\n",
    "    if ratings[i-1] > ratings[i]:\n",
    "        candyVec[i-1] = max(candyVec[i]+1, candyVec[i-1])\n",
    "print(candyVec)"
   ]
  }
 ],
 "metadata": {
  "kernelspec": {
   "display_name": "Python 3.10.6 64-bit",
   "language": "python",
   "name": "python3"
  },
  "language_info": {
   "codemirror_mode": {
    "name": "ipython",
    "version": 3
   },
   "file_extension": ".py",
   "mimetype": "text/x-python",
   "name": "python",
   "nbconvert_exporter": "python",
   "pygments_lexer": "ipython3",
   "version": "3.10.6"
  },
  "orig_nbformat": 4,
  "vscode": {
   "interpreter": {
    "hash": "43e4d72c8ad61331984bc36f87d846bb73452d1c2c0cb0d0679bd7cf00b5eb21"
   }
  }
 },
 "nbformat": 4,
 "nbformat_minor": 2
}
