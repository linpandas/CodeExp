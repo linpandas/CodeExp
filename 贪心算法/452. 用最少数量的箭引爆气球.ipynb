{
 "cells": [
  {
   "cell_type": "code",
   "execution_count": 7,
   "metadata": {},
   "outputs": [
    {
     "data": {
      "text/plain": [
       "2"
      ]
     },
     "execution_count": 7,
     "metadata": {},
     "output_type": "execute_result"
    }
   ],
   "source": [
    "points = [[10,16],[2,8],[1,6],[7,12]]\n",
    "\n",
    "points.sort(key=lambda x: x[0])\n",
    "result = 1\n",
    "l, r = points[0][0], points[0][1]\n",
    "for p in points:\n",
    "    if p[0] > r:\n",
    "        result += 1\n",
    "        l, r = p[0], p[1]\n",
    "    else:\n",
    "        r = min(r, p[1])\n",
    "        l = max(l, p[0])\n",
    "\n",
    "result"
   ]
  },
  {
   "cell_type": "code",
   "execution_count": 1,
   "metadata": {},
   "outputs": [
    {
     "data": {
      "text/plain": [
       "2"
      ]
     },
     "execution_count": 1,
     "metadata": {},
     "output_type": "execute_result"
    }
   ],
   "source": [
    "points = [[10,16],[2,8],[1,6],[7,12]]\n",
    "\n",
    "points.sort(key=lambda x: x[0])\n",
    "result = 1\n",
    "r = points[0][1]\n",
    "for p in points:\n",
    "    if p[0] > r:\n",
    "        result += 1\n",
    "        r = p[1]\n",
    "    else:\n",
    "        r = min(r, p[1])\n",
    "\n",
    "result"
   ]
  },
  {
   "cell_type": "code",
   "execution_count": 8,
   "metadata": {},
   "outputs": [
    {
     "data": {
      "text/plain": [
       "[4, 5, 7, 8]"
      ]
     },
     "execution_count": 8,
     "metadata": {},
     "output_type": "execute_result"
    }
   ],
   "source": [
    "x = [\n",
    "    [1, 2, 3],\n",
    "    [4, 5, 6],\n",
    "    [7, 8, 9]\n",
    "]\n",
    "\n",
    "def get_sub(x, i, j, k):\n",
    "    l = []\n",
    "    for _ in range(k):\n",
    "        l += x[i+_][j:j+k]\n",
    "    return l\n",
    "\n",
    "i, j = 1, 0\n",
    "get_sub(x, i, j, 2)"
   ]
  }
 ],
 "metadata": {
  "kernelspec": {
   "display_name": "Python 3.10.6 64-bit",
   "language": "python",
   "name": "python3"
  },
  "language_info": {
   "codemirror_mode": {
    "name": "ipython",
    "version": 3
   },
   "file_extension": ".py",
   "mimetype": "text/x-python",
   "name": "python",
   "nbconvert_exporter": "python",
   "pygments_lexer": "ipython3",
   "version": "3.10.6"
  },
  "orig_nbformat": 4,
  "vscode": {
   "interpreter": {
    "hash": "43e4d72c8ad61331984bc36f87d846bb73452d1c2c0cb0d0679bd7cf00b5eb21"
   }
  }
 },
 "nbformat": 4,
 "nbformat_minor": 2
}
