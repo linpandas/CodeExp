{
 "cells": [
  {
   "cell_type": "code",
   "execution_count": 1,
   "metadata": {},
   "outputs": [
    {
     "data": {
      "text/plain": [
       "False"
      ]
     },
     "execution_count": 1,
     "metadata": {},
     "output_type": "execute_result"
    }
   ],
   "source": [
    "# 二分查找\n",
    "nums, target = [-1,0,3,5,9,12],  2\n",
    "\n",
    "l, r = 0, len(nums) - 1\n",
    "flag = False\n",
    "while l <= r:\n",
    "    mid = (l + r) // 2\n",
    "    if nums[mid] == target:\n",
    "        flag = True\n",
    "        break\n",
    "    elif nums[mid] < target:\n",
    "        l = mid + 1\n",
    "    elif nums[mid] > target:\n",
    "        r = mid - 1\n",
    "\n",
    "flag\n"
   ]
  },
  {
   "cell_type": "code",
   "execution_count": 20,
   "metadata": {},
   "outputs": [
    {
     "data": {
      "text/plain": [
       "(2, [2, 2])"
      ]
     },
     "execution_count": 20,
     "metadata": {},
     "output_type": "execute_result"
    }
   ],
   "source": [
    "# 移除元素\n",
    "nums, val = [3,2,2,3], 3\n",
    "slow = 0\n",
    "for fast in range(len(nums)):\n",
    "    if nums[fast] != val:\n",
    "        nums[slow] = nums[fast]\n",
    "        slow += 1\n",
    "\n",
    "fast - slow+1, nums[:slow]"
   ]
  },
  {
   "cell_type": "code",
   "execution_count": 24,
   "metadata": {},
   "outputs": [
    {
     "data": {
      "text/plain": [
       "[0, 1, 9, 16, 100]"
      ]
     },
     "execution_count": 24,
     "metadata": {},
     "output_type": "execute_result"
    }
   ],
   "source": [
    "# 有序数组的平方\n",
    "nums = [-4,-1,0,3,10]\n",
    "a, b, i = 0, len(nums) - 1, len(nums) - 1\n",
    "ans = nums.copy()\n",
    "\n",
    "while a <= b:\n",
    "    if abs(nums[a]) < abs(nums[b]):\n",
    "        ans[i] = nums[b]**2\n",
    "        i -= 1\n",
    "        b -= 1\n",
    "    else:\n",
    "        ans[i] = nums[a]**2\n",
    "        i -= 1\n",
    "        a += 1\n",
    "\n",
    "ans"
   ]
  },
  {
   "cell_type": "code",
   "execution_count": 40,
   "metadata": {},
   "outputs": [
    {
     "data": {
      "text/plain": [
       "2"
      ]
     },
     "execution_count": 40,
     "metadata": {},
     "output_type": "execute_result"
    }
   ],
   "source": [
    "# 长度最小的子数组\n",
    "\n",
    "nums, target = [2,3,1,2,4,3], 7\n",
    "a, min_length = 0, len(nums)\n",
    "cur_sum = 0\n",
    "\n",
    "for b, item in enumerate(nums):\n",
    "    cur_sum += item\n",
    "    if cur_sum > target:\n",
    "        while cur_sum - nums[a] >= target:\n",
    "            cur_sum -= nums[a]\n",
    "            a += 1\n",
    "\n",
    "            min_length = min(min_length, b-a+1)\n",
    "\n",
    "min_length"
   ]
  },
  {
   "cell_type": "code",
   "execution_count": 53,
   "metadata": {},
   "outputs": [
    {
     "data": {
      "text/plain": [
       "[[1, 2, 3, 4, 5],\n",
       " [16, 17, 18, 19, 6],\n",
       " [15, 24, 25, 20, 7],\n",
       " [14, 23, 22, 21, 8],\n",
       " [13, 12, 11, 10, 9]]"
      ]
     },
     "execution_count": 53,
     "metadata": {},
     "output_type": "execute_result"
    }
   ],
   "source": [
    "n = 5\n",
    "ans, nums = [[0 for _ in range(n)] for _ in range(n)], [i+1 for i in range(n**2)]\n",
    "l, r = 0, n - 1\n",
    "i, j, k = 0, 0, 0\n",
    "while i != n//2 and j != n//2:\n",
    "    while j < r:\n",
    "        ans[i][j] = nums[k]\n",
    "        j += 1\n",
    "        k += 1\n",
    "    while i < r:\n",
    "        ans[i][j] = nums[k]\n",
    "        i += 1\n",
    "        k += 1\n",
    "    while j > l:\n",
    "        ans[i][j] = nums[k]\n",
    "        j -= 1\n",
    "        k += 1\n",
    "    while i > l:\n",
    "        ans[i][j] = nums[k]\n",
    "        i -= 1\n",
    "        k += 1\n",
    "    \n",
    "    i += 1\n",
    "    j += 1\n",
    "    l, r = l+1, r-1\n",
    "\n",
    "if n % 2 == 1:\n",
    "    ans[n//2][n//2] = nums[k]\n",
    "\n",
    "ans\n"
   ]
  },
  {
   "cell_type": "code",
   "execution_count": 1,
   "metadata": {},
   "outputs": [
    {
     "data": {
      "text/plain": [
       "1"
      ]
     },
     "execution_count": 1,
     "metadata": {},
     "output_type": "execute_result"
    }
   ],
   "source": [
    "5%2"
   ]
  },
  {
   "cell_type": "code",
   "execution_count": null,
   "metadata": {},
   "outputs": [],
   "source": []
  },
  {
   "cell_type": "code",
   "execution_count": null,
   "metadata": {},
   "outputs": [],
   "source": []
  },
  {
   "cell_type": "code",
   "execution_count": null,
   "metadata": {},
   "outputs": [],
   "source": []
  }
 ],
 "metadata": {
  "kernelspec": {
   "display_name": "Python 3.10.6 64-bit",
   "language": "python",
   "name": "python3"
  },
  "language_info": {
   "codemirror_mode": {
    "name": "ipython",
    "version": 3
   },
   "file_extension": ".py",
   "mimetype": "text/x-python",
   "name": "python",
   "nbconvert_exporter": "python",
   "pygments_lexer": "ipython3",
   "version": "3.12.3"
  },
  "orig_nbformat": 4,
  "vscode": {
   "interpreter": {
    "hash": "43e4d72c8ad61331984bc36f87d846bb73452d1c2c0cb0d0679bd7cf00b5eb21"
   }
  }
 },
 "nbformat": 4,
 "nbformat_minor": 2
}
