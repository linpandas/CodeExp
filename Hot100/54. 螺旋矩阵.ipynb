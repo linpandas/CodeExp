{
 "cells": [
  {
   "cell_type": "code",
   "execution_count": 13,
   "metadata": {},
   "outputs": [
    {
     "data": {
      "text/plain": [
       "[1, 2, 3, 4, 8, 12, 11, 10, 9, 5, 6, 7]"
      ]
     },
     "execution_count": 13,
     "metadata": {},
     "output_type": "execute_result"
    }
   ],
   "source": [
    "matrix = [[1,2,3,4],[5,6,7,8],[9,10,11,12]]\n",
    "\n",
    "result = []\n",
    "l, r, t, b = 0, len(matrix[0])-1, 0, len(matrix)-1 # 闭区间\n",
    "while True:\n",
    "    for j in range(l, r+1):\n",
    "        result.append(matrix[t][j])\n",
    "    t += 1\n",
    "    if t > b:\n",
    "        break\n",
    "    for i in range(t, b+1):\n",
    "        result.append(matrix[i][r])\n",
    "    r -= 1\n",
    "    if r < l:\n",
    "        break\n",
    "    for j in range(r, l-1, -1):\n",
    "        result.append(matrix[b][j])\n",
    "    b -= 1\n",
    "    if b < t:\n",
    "        break\n",
    "    for i in range(b, t-1, -1):\n",
    "        result.append(matrix[i][l])\n",
    "    l += 1\n",
    "    if l > r:\n",
    "        break\n",
    "result"
   ]
  },
  {
   "cell_type": "code",
   "execution_count": 7,
   "metadata": {},
   "outputs": [
    {
     "data": {
      "text/plain": [
       "(3, 2)"
      ]
     },
     "execution_count": 7,
     "metadata": {},
     "output_type": "execute_result"
    }
   ],
   "source": []
  }
 ],
 "metadata": {
  "kernelspec": {
   "display_name": "Python 3.10.6 64-bit",
   "language": "python",
   "name": "python3"
  },
  "language_info": {
   "codemirror_mode": {
    "name": "ipython",
    "version": 3
   },
   "file_extension": ".py",
   "mimetype": "text/x-python",
   "name": "python",
   "nbconvert_exporter": "python",
   "pygments_lexer": "ipython3",
   "version": "3.10.6"
  },
  "orig_nbformat": 4,
  "vscode": {
   "interpreter": {
    "hash": "43e4d72c8ad61331984bc36f87d846bb73452d1c2c0cb0d0679bd7cf00b5eb21"
   }
  }
 },
 "nbformat": 4,
 "nbformat_minor": 2
}
