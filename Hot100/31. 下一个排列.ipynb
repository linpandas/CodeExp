{
 "cells": [
  {
   "cell_type": "code",
   "execution_count": 4,
   "metadata": {},
   "outputs": [
    {
     "data": {
      "text/plain": [
       "(1, 2, [1, 2, 3])"
      ]
     },
     "execution_count": 4,
     "metadata": {},
     "output_type": "execute_result"
    }
   ],
   "source": [
    "nums = [1,2,3]\n",
    "\n",
    "i, j = len(nums) - 2, len(nums) - 1\n",
    "k = len(nums) - 1\n",
    "while i >= 0 and nums[i] >= nums[j]:\n",
    "    i -= 1\n",
    "    j -= 1\n",
    "# if i >= 0:\n",
    "#     while nums[i] >= nums[j]:\n",
    "#         k -= 1\n",
    "#     nums[i], nums[k] = nums[k], nums[i]\n",
    "#     nums[j:] = nums[j::-1]\n",
    "# else:\n",
    "#     nums = nums[::-1]\n",
    "\n",
    "i, j, nums\n"
   ]
  },
  {
   "cell_type": "code",
   "execution_count": 26,
   "metadata": {},
   "outputs": [
    {
     "name": "stdout",
     "output_type": "stream",
     "text": [
      "l: -1, nums[l]: 3\n",
      "r: 2, nums[r]: 3\n",
      "nums: [1, 2, 3]\n"
     ]
    }
   ],
   "source": [
    "nums = [1,2,3]\n",
    "nums = [1, 2, 3, 8, 5, 7, 6, 4]\n",
    "nums = [3, 2, 1]\n",
    "\n",
    "l, r = len(nums) - 2, len(nums) - 1\n",
    "while l >= 0 and nums[l] >= nums[l+1]:\n",
    "    l -= 1\n",
    "if l >= 0:\n",
    "    while nums[l] >= nums[r]:\n",
    "        r -= 1\n",
    "    nums[l], nums[r] = nums[r], nums[l]\n",
    "    nums[l+1:] = nums[-1:l:-1]\n",
    "else:\n",
    "    nums[:] = nums[::-1]\n",
    "print(f\"l: {l}, nums[l]: {nums[l]}\")\n",
    "print(f\"r: {r}, nums[r]: {nums[r]}\")\n",
    "print(f\"nums: {nums}\")"
   ]
  },
  {
   "cell_type": "code",
   "execution_count": 28,
   "metadata": {},
   "outputs": [
    {
     "data": {
      "text/plain": [
       "[1, 2, 3]"
      ]
     },
     "execution_count": 28,
     "metadata": {},
     "output_type": "execute_result"
    }
   ],
   "source": [
    "nums = [1,2,3]\n",
    "nums[:]"
   ]
  }
 ],
 "metadata": {
  "kernelspec": {
   "display_name": "Python 3.10.6 64-bit",
   "language": "python",
   "name": "python3"
  },
  "language_info": {
   "codemirror_mode": {
    "name": "ipython",
    "version": 3
   },
   "file_extension": ".py",
   "mimetype": "text/x-python",
   "name": "python",
   "nbconvert_exporter": "python",
   "pygments_lexer": "ipython3",
   "version": "3.10.6"
  },
  "orig_nbformat": 4,
  "vscode": {
   "interpreter": {
    "hash": "43e4d72c8ad61331984bc36f87d846bb73452d1c2c0cb0d0679bd7cf00b5eb21"
   }
  }
 },
 "nbformat": 4,
 "nbformat_minor": 2
}
