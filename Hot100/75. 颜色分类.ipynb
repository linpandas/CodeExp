{
 "cells": [
  {
   "cell_type": "code",
   "execution_count": 1,
   "metadata": {},
   "outputs": [
    {
     "data": {
      "text/plain": [
       "[2, 0, 1, 1, 0, 2]"
      ]
     },
     "execution_count": 1,
     "metadata": {},
     "output_type": "execute_result"
    }
   ],
   "source": [
    "nums = [2,0,2,1,1,0]\n",
    "\n",
    "l, r = 0, len(nums) - 1\n",
    "i = 0\n",
    "while i < r:\n",
    "    if i == 0:\n",
    "        nums[l], nums[i] = nums[i], nums[l]\n",
    "        l += 1\n",
    "        i += 1\n",
    "    elif i == 1:\n",
    "        i += 1\n",
    "    else:\n",
    "        nums[i], nums[r] = nums[r], nums[i]\n",
    "        r -= 1\n",
    "\n",
    "nums"
   ]
  }
 ],
 "metadata": {
  "kernelspec": {
   "display_name": "Python 3.10.6 64-bit",
   "language": "python",
   "name": "python3"
  },
  "language_info": {
   "codemirror_mode": {
    "name": "ipython",
    "version": 3
   },
   "file_extension": ".py",
   "mimetype": "text/x-python",
   "name": "python",
   "nbconvert_exporter": "python",
   "pygments_lexer": "ipython3",
   "version": "3.10.6"
  },
  "orig_nbformat": 4,
  "vscode": {
   "interpreter": {
    "hash": "43e4d72c8ad61331984bc36f87d846bb73452d1c2c0cb0d0679bd7cf00b5eb21"
   }
  }
 },
 "nbformat": 4,
 "nbformat_minor": 2
}
