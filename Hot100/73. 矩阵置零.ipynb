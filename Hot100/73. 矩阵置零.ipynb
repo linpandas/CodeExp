{
 "cells": [
  {
   "cell_type": "code",
   "execution_count": 11,
   "metadata": {},
   "outputs": [
    {
     "data": {
      "text/plain": [
       "[[0, 0, 0, 0], [0, 4, 5, 0], [0, 3, 1, 0]]"
      ]
     },
     "execution_count": 11,
     "metadata": {},
     "output_type": "execute_result"
    }
   ],
   "source": [
    "# matrix = [[1,1,1],[1,0,1],[1,1,1]]\n",
    "matrix = [[0,1,2,0],[3,4,5,2],[1,3,1,5]]\n",
    "m, n = len(matrix), len(matrix[0])\n",
    "\n",
    "rowSet = set()\n",
    "colSet = set()\n",
    "\n",
    "for i in range(m):\n",
    "    for j in range(n):\n",
    "        if matrix[i][j] == 0:\n",
    "            rowSet.add(i)\n",
    "            colSet.add(j)\n",
    "    if i in rowSet:\n",
    "        matrix[i] = [0] * n\n",
    "for j in colSet:\n",
    "    for i in range(m):\n",
    "            matrix[i][j] = 0\n",
    "\n",
    "# matrix[1][:] = [0] * n\n",
    "matrix\n"
   ]
  },
  {
   "cell_type": "code",
   "execution_count": null,
   "metadata": {},
   "outputs": [],
   "source": []
  }
 ],
 "metadata": {
  "kernelspec": {
   "display_name": "Python 3.10.6 64-bit",
   "language": "python",
   "name": "python3"
  },
  "language_info": {
   "codemirror_mode": {
    "name": "ipython",
    "version": 3
   },
   "file_extension": ".py",
   "mimetype": "text/x-python",
   "name": "python",
   "nbconvert_exporter": "python",
   "pygments_lexer": "ipython3",
   "version": "3.10.6"
  },
  "orig_nbformat": 4,
  "vscode": {
   "interpreter": {
    "hash": "43e4d72c8ad61331984bc36f87d846bb73452d1c2c0cb0d0679bd7cf00b5eb21"
   }
  }
 },
 "nbformat": 4,
 "nbformat_minor": 2
}
