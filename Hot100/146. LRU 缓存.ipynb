{
 "cells": [
  {
   "cell_type": "code",
   "execution_count": 15,
   "metadata": {},
   "outputs": [],
   "source": [
    "class Node:\n",
    "    __slots__ = \"prev\", \"next\", \"key\", \"value\"\n",
    "    def __init__(self, key=0, value=0):\n",
    "        self.key = key\n",
    "        self.value = value\n",
    "\n",
    "class LRUCache:\n",
    "\n",
    "    def __init__(self, capacity: int):\n",
    "        self.capacity = capacity\n",
    "        self.dummy = Node()\n",
    "        self.dummy.prev = self.dummy\n",
    "        self.dummy.next = self.dummy\n",
    "        self.key_to_node = dict()\n",
    "    \n",
    "    def get_node(self, key: int):\n",
    "        if key not in self.key_to_node:\n",
    "            return None\n",
    "        node = self.key_to_node[key]\n",
    "        self.remove(node)\n",
    "        self.push_front(node)\n",
    "        return node\n",
    "\n",
    "    def get(self, key: int) -> int:\n",
    "        node = self.get_node(key)\n",
    "        return node.value if node else -1\n",
    "\n",
    "    def put(self, key: int, value: int) -> None:\n",
    "        node = self.get_node(key)\n",
    "        if node:\n",
    "            node.value = value\n",
    "            return\n",
    "        self.key_to_node[key] = node = Node(key, value)\n",
    "        self.push_front(node)\n",
    "        if len(self.key_to_node) > self.capacity:\n",
    "            back_node = self.dummy.prev\n",
    "            del self.key_to_node[back_node.key]\n",
    "            self.remove(back_node)\n",
    "    \n",
    "    def remove(self, x: Node) -> None:\n",
    "        x.prev.next = x.next\n",
    "        x.next.prev = x.prev\n",
    "    \n",
    "    def push_front(self, x):\n",
    "        x.prev = self.dummy\n",
    "        x.next = self.dummy.next\n",
    "        x.next.prev = x\n",
    "        x.prev.next = x"
   ]
  },
  {
   "cell_type": "code",
   "execution_count": 20,
   "metadata": {},
   "outputs": [
    {
     "data": {
      "text/plain": [
       "4"
      ]
     },
     "execution_count": 20,
     "metadata": {},
     "output_type": "execute_result"
    }
   ],
   "source": [
    "lRUCache = LRUCache(2)\n",
    "lRUCache.put(1, 1)\n",
    "lRUCache.put(2, 2)\n",
    "lRUCache.get(1)\n",
    "lRUCache.put(3, 3)\n",
    "lRUCache.get(2)\n",
    "lRUCache.put(4, 4)\n",
    "lRUCache.get(1)\n",
    "lRUCache.get(3)\n",
    "lRUCache.get(4)"
   ]
  },
  {
   "cell_type": "code",
   "execution_count": null,
   "metadata": {},
   "outputs": [],
   "source": []
  }
 ],
 "metadata": {
  "kernelspec": {
   "display_name": "Python 3.10.6 64-bit",
   "language": "python",
   "name": "python3"
  },
  "language_info": {
   "codemirror_mode": {
    "name": "ipython",
    "version": 3
   },
   "file_extension": ".py",
   "mimetype": "text/x-python",
   "name": "python",
   "nbconvert_exporter": "python",
   "pygments_lexer": "ipython3",
   "version": "3.10.6"
  },
  "orig_nbformat": 4,
  "vscode": {
   "interpreter": {
    "hash": "43e4d72c8ad61331984bc36f87d846bb73452d1c2c0cb0d0679bd7cf00b5eb21"
   }
  }
 },
 "nbformat": 4,
 "nbformat_minor": 2
}
