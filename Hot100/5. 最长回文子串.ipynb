{
 "cells": [
  {
   "cell_type": "code",
   "execution_count": 6,
   "metadata": {},
   "outputs": [
    {
     "name": "stdout",
     "output_type": "stream",
     "text": [
      "aba\n"
     ]
    },
    {
     "data": {
      "text/plain": [
       "[[1, 0], [0, 1]]"
      ]
     },
     "execution_count": 6,
     "metadata": {},
     "output_type": "execute_result"
    }
   ],
   "source": [
    "s = \"babad\"\n",
    "s = \"ac\"\n",
    "\n",
    "dp = [[0]*len(s) for _ in range(len(s))]\n",
    "for i in range(len(s)):\n",
    "    dp[i][i] = 1\n",
    "max_length = 0\n",
    "for i in range(len(s)-1, -1, -1):\n",
    "    for j in range(i+1, len(s)):\n",
    "        if s[i] == s[j]:\n",
    "            dp[i][j] = dp[i+1][j-1] + 2\n",
    "            if dp[i][j] > max_length:\n",
    "                max_length = dp[i][j]\n",
    "                result = s[i:j+1]\n",
    "\n",
    "print(result)\n",
    "dp"
   ]
  },
  {
   "cell_type": "code",
   "execution_count": 11,
   "metadata": {},
   "outputs": [
    {
     "name": "stdout",
     "output_type": "stream",
     "text": [
      "bab\n",
      "[[True, False], [False, True]]\n"
     ]
    }
   ],
   "source": [
    "s = \"babad\"\n",
    "s = \"ac\"\n",
    "n = len(s)\n",
    "dp = [[False]*n for _ in range(n)]\n",
    "for i in range(n):\n",
    "    dp[i][i] = True\n",
    "max_length = 0\n",
    "for i in range(n-1, -1, -1):\n",
    "    for j in range(i, n):\n",
    "        if s[i] == s[j]:\n",
    "            if j-i <= 1:\n",
    "                dp[i][j] = True\n",
    "                if j-i > max_length:\n",
    "                    result = s[i:j+1]\n",
    "            elif s[i+1] == s[j-1]:\n",
    "                dp[i][j] = True\n",
    "                if j-i > max_length:\n",
    "                    result = s[i:j+1]\n",
    "\n",
    "print(result)\n",
    "print(dp)"
   ]
  }
 ],
 "metadata": {
  "kernelspec": {
   "display_name": "Python 3.10.6 64-bit",
   "language": "python",
   "name": "python3"
  },
  "language_info": {
   "codemirror_mode": {
    "name": "ipython",
    "version": 3
   },
   "file_extension": ".py",
   "mimetype": "text/x-python",
   "name": "python",
   "nbconvert_exporter": "python",
   "pygments_lexer": "ipython3",
   "version": "3.10.6"
  },
  "orig_nbformat": 4,
  "vscode": {
   "interpreter": {
    "hash": "43e4d72c8ad61331984bc36f87d846bb73452d1c2c0cb0d0679bd7cf00b5eb21"
   }
  }
 },
 "nbformat": 4,
 "nbformat_minor": 2
}
