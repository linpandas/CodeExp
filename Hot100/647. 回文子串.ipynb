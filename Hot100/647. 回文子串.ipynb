{
 "cells": [
  {
   "cell_type": "code",
   "execution_count": 10,
   "metadata": {},
   "outputs": [
    {
     "name": "stdout",
     "output_type": "stream",
     "text": [
      "a\n",
      "a\n",
      "aa\n",
      "a\n",
      "aa\n",
      "aaa\n"
     ]
    }
   ],
   "source": [
    "s = \"abc\"\n",
    "s = \"aaa\"\n",
    "# 动态规划\n",
    "# dp[i][j]表示区间范围[i,j]的子串是否是回文子串\n",
    "dp = [[False]*len(s) for _ in range(len(s))]\n",
    "result = 0\n",
    "for i in range(len(s)-1, -1, -1):\n",
    "    for j in range(i, len(s)):\n",
    "        if s[i] == s[j]:\n",
    "            if j - i <= 1:\n",
    "                print(s[i:j+1])\n",
    "                result += 1\n",
    "                dp[i][j] = True\n",
    "            elif dp[i+1][j-1]:\n",
    "                print(s[i:j+1])\n",
    "                result += 1\n",
    "                dp[i][j] = True\n"
   ]
  }
 ],
 "metadata": {
  "kernelspec": {
   "display_name": "Python 3.10.6 64-bit",
   "language": "python",
   "name": "python3"
  },
  "language_info": {
   "codemirror_mode": {
    "name": "ipython",
    "version": 3
   },
   "file_extension": ".py",
   "mimetype": "text/x-python",
   "name": "python",
   "nbconvert_exporter": "python",
   "pygments_lexer": "ipython3",
   "version": "3.10.6"
  },
  "orig_nbformat": 4,
  "vscode": {
   "interpreter": {
    "hash": "43e4d72c8ad61331984bc36f87d846bb73452d1c2c0cb0d0679bd7cf00b5eb21"
   }
  }
 },
 "nbformat": 4,
 "nbformat_minor": 2
}
