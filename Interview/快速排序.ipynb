{
 "cells": [
  {
   "cell_type": "markdown",
   "metadata": {},
   "source": [
    "### 快速排序"
   ]
  },
  {
   "cell_type": "code",
   "execution_count": 27,
   "metadata": {},
   "outputs": [
    {
     "data": {
      "text/plain": [
       "[17, 20, 26, 31, 44, 54, 55, 77, 93]"
      ]
     },
     "execution_count": 27,
     "metadata": {},
     "output_type": "execute_result"
    }
   ],
   "source": [
    "def quick_sort(nums, start, end):\n",
    "    if start >= end:\n",
    "        return\n",
    "    pivot = nums[start]\n",
    "    left, right = start, end\n",
    "    while left < right:\n",
    "        while left < right and nums[right] >= pivot:\n",
    "            right -= 1\n",
    "        nums[left] = nums[right]\n",
    "        while left < right and nums[left] <= pivot:\n",
    "            left += 1\n",
    "        nums[right] = nums[left]\n",
    "    nums[left] = pivot\n",
    "    quick_sort(nums, start, left-1)\n",
    "    quick_sort(nums, left+1, end)\n",
    "\n",
    "nums = [54, 26, 93, 17, 77, 31, 44, 55, 20]\n",
    "quick_sort(nums, 0, len(nums)-1)\n",
    "nums"
   ]
  },
  {
   "cell_type": "markdown",
   "metadata": {},
   "source": [
    "### 快排应用：TopK切分"
   ]
  },
  {
   "cell_type": "code",
   "execution_count": 28,
   "metadata": {},
   "outputs": [],
   "source": [
    "def partition(nums, start, end):\n",
    "    # 一次切分后，找到切分点的下标\n",
    "    pivot = nums[start]\n",
    "    left, right = start, end\n",
    "    while left < right:\n",
    "        while left < right and nums[right] > pivot:\n",
    "            right -= 1\n",
    "        nums[left] = nums[right]\n",
    "        while left < right and nums[left] < pivot:\n",
    "            left += 1\n",
    "        nums[right] = nums[left]\n",
    "    nums[left] = pivot\n",
    "    return left # 返回pivot的下标"
   ]
  },
  {
   "cell_type": "code",
   "execution_count": 29,
   "metadata": {},
   "outputs": [
    {
     "data": {
      "text/plain": [
       "[17, 20, 26, 31, 44, 54, 55, 77, 93]"
      ]
     },
     "execution_count": 29,
     "metadata": {},
     "output_type": "execute_result"
    }
   ],
   "source": [
    "# 基于partition的快排\n",
    "def quick_sort(nums, start, end):\n",
    "    if start >= end:\n",
    "        return\n",
    "    index = partition(nums, start, end)\n",
    "    quick_sort(nums, start, index-1)\n",
    "    quick_sort(nums, index+1, end)\n",
    "\n",
    "nums = [54, 26, 93, 17, 77, 31, 44, 55, 20]\n",
    "quick_sort(nums, 0, len(nums)-1)\n",
    "nums"
   ]
  },
  {
   "cell_type": "code",
   "execution_count": 30,
   "metadata": {},
   "outputs": [
    {
     "data": {
      "text/plain": [
       "[17, 20, 31, 26, 44, 54, 77, 55, 93]"
      ]
     },
     "execution_count": 30,
     "metadata": {},
     "output_type": "execute_result"
    }
   ],
   "source": [
    "# 找到k，k左侧是比alist[k]小的数，k右侧是比alist[k]大的数。\n",
    "def topk_split(nums, k, start, end):\n",
    "    if start >= end:\n",
    "        return\n",
    "    index = partition(nums, start, end)\n",
    "    if index == k:\n",
    "        return\n",
    "    elif index < k:\n",
    "        topk_split(nums, k, index+1, end)\n",
    "    else:\n",
    "        topk_split(nums, k, start, index-1)\n",
    "\n",
    "nums = [54, 26, 93, 17, 77, 31, 44, 55, 20]\n",
    "topk_split(nums, 4, 0, len(nums)-1)\n",
    "nums"
   ]
  },
  {
   "cell_type": "code",
   "execution_count": 32,
   "metadata": {},
   "outputs": [
    {
     "data": {
      "text/plain": [
       "[17, 20, 31, 26]"
      ]
     },
     "execution_count": 32,
     "metadata": {},
     "output_type": "execute_result"
    }
   ],
   "source": [
    "# 获得前k小的数\n",
    "def topk_smalls(nums, k):\n",
    "    topk_split(nums, k, 0, len(nums)-1)\n",
    "    return nums[:k]\n",
    "\n",
    "nums = [54, 26, 93, 17, 77, 31, 44, 55, 20]\n",
    "topk_smalls(nums, 4)"
   ]
  },
  {
   "cell_type": "code",
   "execution_count": 35,
   "metadata": {},
   "outputs": [
    {
     "data": {
      "text/plain": [
       "44"
      ]
     },
     "execution_count": 35,
     "metadata": {},
     "output_type": "execute_result"
    }
   ],
   "source": [
    "# 获得第k小的数\n",
    "def topk_small(nums, k):\n",
    "    topk_split(nums, k, 0, len(nums)-1)\n",
    "    return nums[k]\n",
    "\n",
    "nums = [54, 26, 93, 17, 77, 31, 44, 55, 20]\n",
    "topk_small(nums, 4)"
   ]
  },
  {
   "cell_type": "code",
   "execution_count": 36,
   "metadata": {},
   "outputs": [
    {
     "data": {
      "text/plain": [
       "[54, 77, 55, 93]"
      ]
     },
     "execution_count": 36,
     "metadata": {},
     "output_type": "execute_result"
    }
   ],
   "source": [
    "# 获得前k大的数\n",
    "def topk_larges(nums, k):\n",
    "    topk_split(nums, len(nums)-k, 0, len(nums)-1)\n",
    "    return nums[len(nums)-k:]\n",
    "\n",
    "nums = [54, 26, 93, 17, 77, 31, 44, 55, 20]\n",
    "topk_larges(nums, 4)"
   ]
  },
  {
   "cell_type": "code",
   "execution_count": 38,
   "metadata": {},
   "outputs": [
    {
     "data": {
      "text/plain": [
       "54"
      ]
     },
     "execution_count": 38,
     "metadata": {},
     "output_type": "execute_result"
    }
   ],
   "source": [
    "# 获得第k大的数\n",
    "def topk_large(nums, k):\n",
    "    topk_split(nums, len(nums)-k, 0, len(nums)-1)\n",
    "    return nums[len(nums)-k]\n",
    "\n",
    "nums = [54, 26, 93, 17, 77, 31, 44, 55, 20]\n",
    "topk_large(nums, 4)"
   ]
  }
 ],
 "metadata": {
  "kernelspec": {
   "display_name": "Python 3.10.6 64-bit",
   "language": "python",
   "name": "python3"
  },
  "language_info": {
   "codemirror_mode": {
    "name": "ipython",
    "version": 3
   },
   "file_extension": ".py",
   "mimetype": "text/x-python",
   "name": "python",
   "nbconvert_exporter": "python",
   "pygments_lexer": "ipython3",
   "version": "3.10.6"
  },
  "orig_nbformat": 4,
  "vscode": {
   "interpreter": {
    "hash": "43e4d72c8ad61331984bc36f87d846bb73452d1c2c0cb0d0679bd7cf00b5eb21"
   }
  }
 },
 "nbformat": 4,
 "nbformat_minor": 2
}
