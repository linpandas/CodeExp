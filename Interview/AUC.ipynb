{
 "cells": [
  {
   "cell_type": "markdown",
   "metadata": {},
   "source": [
    "AUC为正样本得分大于负样本得分的概率\n",
    "\n",
    "$$AUC=\\frac{\\sum I(p_{positive},p_{negative})}{P\\times N}$$\n",
    "\n",
    "当$p_{positive}>p_{negative}$时，$I(.)=1$；当$p_{positive}=p_{negative}$时，$I(.)=0.5$；当$p_{positive}<p_{negative}$时，$I(.)=1$；"
   ]
  },
  {
   "cell_type": "code",
   "execution_count": 2,
   "metadata": {},
   "outputs": [
    {
     "data": {
      "text/plain": [
       "0.75"
      ]
     },
     "execution_count": 2,
     "metadata": {},
     "output_type": "execute_result"
    }
   ],
   "source": [
    "import numpy as np\n",
    "y_true =  [0,   0,   1,   1,   0,   1,   0,   1,   1,   1]\n",
    "y_score = [0.1, 0.4, 0.6, 0.6, 0.7, 0.7, 0.8, 0.8, 0.9, 0.9]\n",
    "\n",
    "paired = list(zip(y_true, y_score))\n",
    "probs = []\n",
    "pos_samples = [x for x in paired if x[0]==1]\n",
    "neg_samples = [x for x in paired if x[0]==0]\n",
    "for pos in pos_samples:\n",
    "    for neg in neg_samples:\n",
    "        if pos[1] > neg[1]:\n",
    "            probs.append(1)\n",
    "        elif pos[1] < neg[1]:\n",
    "            probs.append(0)\n",
    "        else:\n",
    "            probs.append(0.5)\n",
    "\n",
    "np.mean(probs)"
   ]
  },
  {
   "cell_type": "markdown",
   "metadata": {},
   "source": [
    "$$AUC=\\frac{\\sum_{i\\in positive}rank_i-M(M+1)/2}{M\\times N}$$"
   ]
  },
  {
   "cell_type": "code",
   "execution_count": 14,
   "metadata": {},
   "outputs": [
    {
     "data": {
      "text/plain": [
       "0.7916666666666666"
      ]
     },
     "execution_count": 14,
     "metadata": {},
     "output_type": "execute_result"
    }
   ],
   "source": [
    "y_true =  [0,   0,   1,   1,   0,   1,   0,   1,   1,   1]\n",
    "y_score = [0.1, 0.4, 0.6, 0.6, 0.7, 0.7, 0.8, 0.8, 0.9, 0.9]\n",
    "\n",
    "paired = sorted(zip(y_true, y_score), key=lambda x: x[1])\n",
    "rank = []\n",
    "for r, pair in enumerate(paired, start=1):\n",
    "    if pair[0] == 1:\n",
    "        rank.append(r)\n",
    "\n",
    "M = sum(y_true)\n",
    "N = len(y_true) - M\n",
    "\n",
    "# 这里并没有处理相同时选择avg，但在数据量较大时，可以忽略不计\n",
    "(sum(rank) - (M * (M+1))/2) / (M*N)"
   ]
  },
  {
   "cell_type": "code",
   "execution_count": 3,
   "metadata": {},
   "outputs": [
    {
     "data": {
      "text/plain": [
       "deque([(1, 2)])"
      ]
     },
     "execution_count": 3,
     "metadata": {},
     "output_type": "execute_result"
    }
   ],
   "source": [
    "from collections import deque\n",
    "queue = deque()\n",
    "queue.append((1,2))\n",
    "queue"
   ]
  },
  {
   "cell_type": "code",
   "execution_count": 4,
   "metadata": {},
   "outputs": [
    {
     "data": {
      "text/plain": [
       "deque([(1, 2)])"
      ]
     },
     "execution_count": 4,
     "metadata": {},
     "output_type": "execute_result"
    }
   ],
   "source": [
    "queue = deque([(1, 2)])\n",
    "queue"
   ]
  },
  {
   "cell_type": "code",
   "execution_count": 6,
   "metadata": {},
   "outputs": [
    {
     "data": {
      "text/plain": [
       "5"
      ]
     },
     "execution_count": 6,
     "metadata": {},
     "output_type": "execute_result"
    }
   ],
   "source": []
  }
 ],
 "metadata": {
  "kernelspec": {
   "display_name": "Python 3.10.6 64-bit",
   "language": "python",
   "name": "python3"
  },
  "language_info": {
   "codemirror_mode": {
    "name": "ipython",
    "version": 3
   },
   "file_extension": ".py",
   "mimetype": "text/x-python",
   "name": "python",
   "nbconvert_exporter": "python",
   "pygments_lexer": "ipython3",
   "version": "3.12.3"
  },
  "orig_nbformat": 4,
  "vscode": {
   "interpreter": {
    "hash": "43e4d72c8ad61331984bc36f87d846bb73452d1c2c0cb0d0679bd7cf00b5eb21"
   }
  }
 },
 "nbformat": 4,
 "nbformat_minor": 2
}
