{
 "cells": [
  {
   "cell_type": "code",
   "execution_count": null,
   "metadata": {},
   "outputs": [],
   "source": [
    "给定一个字符串 s，找到 s 中最长的回文子串。你可以假设 s 的最大长度为1000。\n",
    "示例 1：\n",
    "输入: \"babad\" 输出: \"bab\" 注意: \"aba\"也是一个有效答案。 \n",
    "示例 2：\n",
    "输入: \"cbbd\" 输出: \"bb\""
   ]
  },
  {
   "cell_type": "code",
   "execution_count": 6,
   "metadata": {},
   "outputs": [
    {
     "data": {
      "text/plain": [
       "'aba'"
      ]
     },
     "execution_count": 6,
     "metadata": {},
     "output_type": "execute_result"
    }
   ],
   "source": [
    "s = \"babad\"\n",
    "# s = \"cbbd\"\n",
    "n = len(s)\n",
    "dp = [[False]*n for _ in range(n)] # dp[i][j]为s[i,j]是否为回文子串\n",
    "start, max_length = 0, 0\n",
    "for i in range(n-1, -1, -1):\n",
    "    for j in range(i, n):\n",
    "        if s[i] == s[j]:\n",
    "            if j - i <= 1:\n",
    "                dp[i][j] = True\n",
    "                cur_length = j - i + 1\n",
    "            elif dp[i+1][j-1]:\n",
    "                dp[i][j] = True\n",
    "                cur_length = j - i + 1\n",
    "        if dp[i][j] and  cur_length > max_length:\n",
    "            max_length = cur_length\n",
    "            start = i\n",
    "\n",
    "s[start:start+max_length]"
   ]
  },
  {
   "cell_type": "code",
   "execution_count": 3,
   "metadata": {},
   "outputs": [
    {
     "data": {
      "text/plain": [
       "False"
      ]
     },
     "execution_count": 3,
     "metadata": {},
     "output_type": "execute_result"
    }
   ],
   "source": [
    "s = \"ADOBECODEBANC\"\n",
    "t = \"ABC\"\n",
    "\n",
    "t in s[0:6]"
   ]
  },
  {
   "cell_type": "code",
   "execution_count": 7,
   "metadata": {},
   "outputs": [
    {
     "data": {
      "text/plain": [
       "True"
      ]
     },
     "execution_count": 7,
     "metadata": {},
     "output_type": "execute_result"
    }
   ],
   "source": [
    "from collections import Counter\n",
    "s = \"ADOBECODEBANC\"\n",
    "s = \"ABDC\"\n",
    "t = \"ABC\"\n",
    "cs = Counter(s)\n",
    "ct = Counter(t)\n",
    "\n",
    "cs > ct"
   ]
  },
  {
   "cell_type": "code",
   "execution_count": 7,
   "metadata": {},
   "outputs": [
    {
     "data": {
      "text/plain": [
       "'abcca'"
      ]
     },
     "execution_count": 7,
     "metadata": {},
     "output_type": "execute_result"
    }
   ],
   "source": [
    "s = \"abc  c a\"\n",
    "s = list(s)\n",
    "l = 0\n",
    "for r in range(len(s)):\n",
    "    if s[r] != \" \":\n",
    "        s[l], s[r] = s[r], s[l]\n",
    "        l += 1\n",
    "\n",
    "while s[r] == \" \":\n",
    "    s.pop()\n",
    "    r -= 1\n",
    "\n",
    "\"\".join(s)"
   ]
  }
 ],
 "metadata": {
  "kernelspec": {
   "display_name": "Python 3.10.6 64-bit",
   "language": "python",
   "name": "python3"
  },
  "language_info": {
   "codemirror_mode": {
    "name": "ipython",
    "version": 3
   },
   "file_extension": ".py",
   "mimetype": "text/x-python",
   "name": "python",
   "nbconvert_exporter": "python",
   "pygments_lexer": "ipython3",
   "version": "3.10.6"
  },
  "orig_nbformat": 4,
  "vscode": {
   "interpreter": {
    "hash": "43e4d72c8ad61331984bc36f87d846bb73452d1c2c0cb0d0679bd7cf00b5eb21"
   }
  }
 },
 "nbformat": 4,
 "nbformat_minor": 2
}
