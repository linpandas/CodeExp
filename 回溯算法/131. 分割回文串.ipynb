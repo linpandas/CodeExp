{
 "cells": [
  {
   "cell_type": "code",
   "execution_count": 11,
   "metadata": {},
   "outputs": [
    {
     "data": {
      "text/plain": [
       "[['a', 'a', 'b'], ['aa', 'b']]"
      ]
     },
     "execution_count": 11,
     "metadata": {},
     "output_type": "execute_result"
    }
   ],
   "source": [
    "s = \"aab\"\n",
    "\n",
    "class Solution:\n",
    "    def partition(self, s: str):\n",
    "        result = []\n",
    "        self.backtracking(s, 0, [], result)\n",
    "        return result\n",
    "\n",
    "    def backtracking(self, s, startIndex, path, result):\n",
    "        if startIndex == len(s):\n",
    "            result.append(path.copy())\n",
    "            return\n",
    "\n",
    "        for i in range(startIndex, len(s)):\n",
    "            if self.isPalindrome(s, startIndex, i):\n",
    "                path.append(s[startIndex:i+1])\n",
    "                self.backtracking(s, i+1, path, result)\n",
    "                path.pop()\n",
    "\n",
    "    def isPalindrome(self, s, l, r):\n",
    "        while l < r:\n",
    "            if s[l] != s[r]:\n",
    "                return False\n",
    "            l, r = l+1, r-1\n",
    "        return True\n",
    "\n",
    "Solution().partition(s)"
   ]
  },
  {
   "cell_type": "code",
   "execution_count": 43,
   "metadata": {},
   "outputs": [
    {
     "data": {
      "text/plain": [
       "[]"
      ]
     },
     "execution_count": 43,
     "metadata": {},
     "output_type": "execute_result"
    }
   ],
   "source": [
    "s = \"aabb\"\n",
    "class Solution:\n",
    "    def partition(self, s: str):\n",
    "        result = []\n",
    "        self.backtracking(s, 0, [], result)\n",
    "        return result\n",
    "\n",
    "    def backtracking(self, s, startIndex, path, result):\n",
    "        if startIndex == len(s):\n",
    "            result.append(path.copy())\n",
    "            return\n",
    "\n",
    "        for i in range(startIndex, len(s)):\n",
    "            if s[startIndex:i+1] == s[i:startIndex-1:-1]:\n",
    "            # if s[startIndex:i+1] == s[startIndex:i+1][::-1]:\n",
    "                path.append(s[startIndex:i+1])\n",
    "                self.backtracking(s, i+1, path, result)\n",
    "                path.pop()\n",
    "\n",
    "Solution().partition(s)"
   ]
  },
  {
   "cell_type": "code",
   "execution_count": 49,
   "metadata": {},
   "outputs": [
    {
     "data": {
      "text/plain": [
       "12"
      ]
     },
     "execution_count": 49,
     "metadata": {},
     "output_type": "execute_result"
    }
   ],
   "source": [
    "int(\"012\")"
   ]
  }
 ],
 "metadata": {
  "kernelspec": {
   "display_name": "Python 3.10.6 64-bit",
   "language": "python",
   "name": "python3"
  },
  "language_info": {
   "codemirror_mode": {
    "name": "ipython",
    "version": 3
   },
   "file_extension": ".py",
   "mimetype": "text/x-python",
   "name": "python",
   "nbconvert_exporter": "python",
   "pygments_lexer": "ipython3",
   "version": "3.10.6"
  },
  "orig_nbformat": 4,
  "vscode": {
   "interpreter": {
    "hash": "43e4d72c8ad61331984bc36f87d846bb73452d1c2c0cb0d0679bd7cf00b5eb21"
   }
  }
 },
 "nbformat": 4,
 "nbformat_minor": 2
}
