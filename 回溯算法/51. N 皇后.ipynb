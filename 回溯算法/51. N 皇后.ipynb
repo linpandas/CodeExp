{
 "cells": [
  {
   "cell_type": "code",
   "execution_count": 7,
   "metadata": {},
   "outputs": [
    {
     "data": {
      "text/plain": [
       "[['.Q..', '...Q', 'Q...', '..Q.'], ['..Q.', 'Q...', '...Q', '.Q..']]"
      ]
     },
     "execution_count": 7,
     "metadata": {},
     "output_type": "execute_result"
    }
   ],
   "source": [
    "n = 4\n",
    "class Solution:\n",
    "    def solveNQueens(self, n):\n",
    "        chessboard = [\".\"*n for _ in range(n)]\n",
    "        result = []\n",
    "        self.backtracking(n, 0, chessboard, result)\n",
    "        return result\n",
    "\n",
    "    def backtracking(self, n, row, chessboard, result):\n",
    "        if row == n:\n",
    "            result.append(chessboard.copy())\n",
    "            return\n",
    "\n",
    "        for col in range(n):\n",
    "            if self.isValid(chessboard, row, col):\n",
    "                chessboard[row] = chessboard[row][:col] + \"Q\" + chessboard[row][col+1:]\n",
    "                self.backtracking(n, row+1, chessboard, result)\n",
    "                chessboard[row] = chessboard[row][:col] + \".\" + chessboard[row][col+1:]\n",
    "\n",
    "\n",
    "    def isValid(self, chessboard, row, col):\n",
    "        for i in range(row): # 检查列\n",
    "            if chessboard[i][col] == \"Q\":\n",
    "                return False\n",
    "\n",
    "        # # 每一行只存在一个皇后，可以不用检查行\n",
    "        # for j in range(col): # 检查行\n",
    "        #     if chessboard[row][j] == \"Q\":\n",
    "        #         return False\n",
    "        \n",
    "        i, j = row-1, col-1\n",
    "        while i >= 0 and j >= 0: # 检查45度角\n",
    "            if chessboard[i][j] == \"Q\":\n",
    "                return False\n",
    "            i -= 1\n",
    "            j -= 1\n",
    "        \n",
    "        i, j = row-1, col+1\n",
    "        while i >= 0 and j < len(chessboard):\n",
    "            if chessboard[i][j] == \"Q\":\n",
    "                return False\n",
    "            i -= 1\n",
    "            j += 1\n",
    "        \n",
    "        return True\n",
    "\n",
    "result = Solution().solveNQueens(n)\n",
    "result"
   ]
  },
  {
   "cell_type": "code",
   "execution_count": 10,
   "metadata": {},
   "outputs": [],
   "source": [
    "x = [[\"\".join(row) for row in solution] for solution in result]"
   ]
  },
  {
   "cell_type": "code",
   "execution_count": 14,
   "metadata": {},
   "outputs": [
    {
     "data": {
      "text/plain": [
       "[['.Q..', '...Q', 'Q...', '..Q.'], ['..Q.', 'Q...', '...Q', '.Q..']]"
      ]
     },
     "execution_count": 14,
     "metadata": {},
     "output_type": "execute_result"
    }
   ],
   "source": [
    "n = 4\n",
    "class Solution:\n",
    "    def solveNQueens(self, n: int):\n",
    "        chessboard = [\".\"*n for _ in range(n)]\n",
    "        result = []\n",
    "        self.backtracking(n, 0, chessboard, result)\n",
    "        return result\n",
    "\n",
    "    def backtracking(self, n, row, chessboard, result):\n",
    "        if row == n:\n",
    "            result.append(chessboard.copy())\n",
    "            return\n",
    "\n",
    "        for col in range(n):\n",
    "            if self.isValid(chessboard, row, col):\n",
    "                chessboard[row] = chessboard[row][:col] + \"Q\" + chessboard[row][col+1:]\n",
    "                self.backtracking(n, row+1, chessboard, result)\n",
    "                chessboard[row] = chessboard[row][:col] + \".\" + chessboard[row][col+1:]\n",
    "\n",
    "    def isValid(self, chessboard, row, col):\n",
    "        # 检查列\n",
    "        for i in range(row):\n",
    "            if chessboard[i][col] == \"Q\":\n",
    "                return False\n",
    "\n",
    "        # 检查45度角\n",
    "        i, j = row-1, col-1\n",
    "        while i >= 0 and j >= 0:\n",
    "            if chessboard[i][j] == \"Q\":\n",
    "                return False\n",
    "            i -= 1\n",
    "            j -= 1\n",
    "\n",
    "        # 检查135度角\n",
    "        i, j = row-1, col+1\n",
    "        while i >= 0 and j < len(chessboard):\n",
    "            if chessboard[i][j] == \"Q\":\n",
    "                return False\n",
    "            i -= 1\n",
    "            j += 1\n",
    "\n",
    "        return True\n",
    "\n",
    "Solution().solveNQueens(n)"
   ]
  },
  {
   "cell_type": "code",
   "execution_count": 18,
   "metadata": {},
   "outputs": [
    {
     "data": {
      "text/plain": [
       "1"
      ]
     },
     "execution_count": 18,
     "metadata": {},
     "output_type": "execute_result"
    }
   ],
   "source": [
    "3//3"
   ]
  },
  {
   "cell_type": "code",
   "execution_count": null,
   "metadata": {},
   "outputs": [],
   "source": []
  }
 ],
 "metadata": {
  "kernelspec": {
   "display_name": "Python 3.10.6 64-bit",
   "language": "python",
   "name": "python3"
  },
  "language_info": {
   "codemirror_mode": {
    "name": "ipython",
    "version": 3
   },
   "file_extension": ".py",
   "mimetype": "text/x-python",
   "name": "python",
   "nbconvert_exporter": "python",
   "pygments_lexer": "ipython3",
   "version": "3.10.6"
  },
  "orig_nbformat": 4,
  "vscode": {
   "interpreter": {
    "hash": "43e4d72c8ad61331984bc36f87d846bb73452d1c2c0cb0d0679bd7cf00b5eb21"
   }
  }
 },
 "nbformat": 4,
 "nbformat_minor": 2
}
