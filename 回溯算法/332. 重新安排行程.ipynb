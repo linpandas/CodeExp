{
 "cells": [
  {
   "cell_type": "code",
   "execution_count": 1,
   "metadata": {},
   "outputs": [],
   "source": [
    "from collections import defaultdict\n",
    "tickets = [[\"MUC\",\"LHR\"],[\"JFK\",\"MUC\"],[\"SFO\",\"SJC\"],[\"LHR\",\"SFO\"]]\n",
    "\n",
    "class Solution:\n",
    "    def findItinerary(self, tickets):\n",
    "        targets = defaultdict(list)\n",
    "        for ticket in tickets:\n",
    "            targets[ticket[0]].append(ticket[1])\n",
    "        \n",
    "        for airport in targets:\n",
    "            targets[airport].sort()\n",
    "\n",
    "        path = [\"JFK\"]\n",
    "        self.backtracking(targets, path, len(tickets))\n",
    "        return path\n",
    "\n",
    "    def backtracking(self, targets, path, ticketNum):\n",
    "        if len(path) == ticketNum+1:\n",
    "            return True\n",
    "\n",
    "        airport = path[-1]\n",
    "        destinations = targets[airport]\n",
    "        for i, dest in enumerate(destinations):\n",
    "            targets[airport].pop(i)\n",
    "            path.append(dest)\n",
    "            if self.backtracking(targets, path, ticketNum):\n",
    "                return True\n",
    "            targets[airport].insert(i, dest)\n",
    "            path.pop()\n",
    "        return False"
   ]
  },
  {
   "cell_type": "code",
   "execution_count": 6,
   "metadata": {},
   "outputs": [],
   "source": [
    "tickets = [[\"MUC\",\"LHR\"],[\"JFK\",\"MUC\"],[\"SFO\",\"SJC\"],[\"LHR\",\"SFO\"]]\n",
    "targets = defaultdict(list)\n",
    "for ticket in tickets:\n",
    "    targets[ticket[0]].append(ticket[1])\n",
    "\n",
    "for airport in targets:\n",
    "    targets[airport].sort()\n",
    "\n"
   ]
  },
  {
   "cell_type": "code",
   "execution_count": 15,
   "metadata": {},
   "outputs": [
    {
     "ename": "KeyboardInterrupt",
     "evalue": "",
     "output_type": "error",
     "traceback": [
      "\u001b[1;31m---------------------------------------------------------------------------\u001b[0m",
      "\u001b[1;31mKeyboardInterrupt\u001b[0m                         Traceback (most recent call last)",
      "\u001b[1;32mc:\\Users\\1\\Desktop\\Study\\PyStudy\\LeetCode\\代码随想录\\回溯算法\\332. 重新安排行程.ipynb Cell 3\u001b[0m in \u001b[0;36m<cell line: 28>\u001b[1;34m()\u001b[0m\n\u001b[0;32m     <a href='vscode-notebook-cell:/c%3A/Users/1/Desktop/Study/PyStudy/LeetCode/%E4%BB%A3%E7%A0%81%E9%9A%8F%E6%83%B3%E5%BD%95/%E5%9B%9E%E6%BA%AF%E7%AE%97%E6%B3%95/332.%20%E9%87%8D%E6%96%B0%E5%AE%89%E6%8E%92%E8%A1%8C%E7%A8%8B.ipynb#W2sZmlsZQ%3D%3D?line=24'>25</a>\u001b[0m             \u001b[39mif\u001b[39;00m state:\n\u001b[0;32m     <a href='vscode-notebook-cell:/c%3A/Users/1/Desktop/Study/PyStudy/LeetCode/%E4%BB%A3%E7%A0%81%E9%9A%8F%E6%83%B3%E5%BD%95/%E5%9B%9E%E6%BA%AF%E7%AE%97%E6%B3%95/332.%20%E9%87%8D%E6%96%B0%E5%AE%89%E6%8E%92%E8%A1%8C%E7%A8%8B.ipynb#W2sZmlsZQ%3D%3D?line=25'>26</a>\u001b[0m                 \u001b[39mreturn\u001b[39;00m \u001b[39mTrue\u001b[39;00m\n\u001b[1;32m---> <a href='vscode-notebook-cell:/c%3A/Users/1/Desktop/Study/PyStudy/LeetCode/%E4%BB%A3%E7%A0%81%E9%9A%8F%E6%83%B3%E5%BD%95/%E5%9B%9E%E6%BA%AF%E7%AE%97%E6%B3%95/332.%20%E9%87%8D%E6%96%B0%E5%AE%89%E6%8E%92%E8%A1%8C%E7%A8%8B.ipynb#W2sZmlsZQ%3D%3D?line=27'>28</a>\u001b[0m Solution()\u001b[39m.\u001b[39;49mfindItinerary(tickets)\n",
      "\u001b[1;32mc:\\Users\\1\\Desktop\\Study\\PyStudy\\LeetCode\\代码随想录\\回溯算法\\332. 重新安排行程.ipynb Cell 3\u001b[0m in \u001b[0;36mSolution.findItinerary\u001b[1;34m(self, tickets)\u001b[0m\n\u001b[0;32m      <a href='vscode-notebook-cell:/c%3A/Users/1/Desktop/Study/PyStudy/LeetCode/%E4%BB%A3%E7%A0%81%E9%9A%8F%E6%83%B3%E5%BD%95/%E5%9B%9E%E6%BA%AF%E7%AE%97%E6%B3%95/332.%20%E9%87%8D%E6%96%B0%E5%AE%89%E6%8E%92%E8%A1%8C%E7%A8%8B.ipynb#W2sZmlsZQ%3D%3D?line=6'>7</a>\u001b[0m used \u001b[39m=\u001b[39m [\u001b[39mFalse\u001b[39;00m] \u001b[39m*\u001b[39m \u001b[39mlen\u001b[39m(tickets)\n\u001b[0;32m      <a href='vscode-notebook-cell:/c%3A/Users/1/Desktop/Study/PyStudy/LeetCode/%E4%BB%A3%E7%A0%81%E9%9A%8F%E6%83%B3%E5%BD%95/%E5%9B%9E%E6%BA%AF%E7%AE%97%E6%B3%95/332.%20%E9%87%8D%E6%96%B0%E5%AE%89%E6%8E%92%E8%A1%8C%E7%A8%8B.ipynb#W2sZmlsZQ%3D%3D?line=7'>8</a>\u001b[0m tickets\u001b[39m.\u001b[39msort()\n\u001b[1;32m----> <a href='vscode-notebook-cell:/c%3A/Users/1/Desktop/Study/PyStudy/LeetCode/%E4%BB%A3%E7%A0%81%E9%9A%8F%E6%83%B3%E5%BD%95/%E5%9B%9E%E6%BA%AF%E7%AE%97%E6%B3%95/332.%20%E9%87%8D%E6%96%B0%E5%AE%89%E6%8E%92%E8%A1%8C%E7%A8%8B.ipynb#W2sZmlsZQ%3D%3D?line=8'>9</a>\u001b[0m \u001b[39mself\u001b[39;49m\u001b[39m.\u001b[39;49mbacktracking(tickets, used, \u001b[39m\"\u001b[39;49m\u001b[39mJFK\u001b[39;49m\u001b[39m\"\u001b[39;49m, [\u001b[39m\"\u001b[39;49m\u001b[39mJFK\u001b[39;49m\u001b[39m\"\u001b[39;49m], result)\n\u001b[0;32m     <a href='vscode-notebook-cell:/c%3A/Users/1/Desktop/Study/PyStudy/LeetCode/%E4%BB%A3%E7%A0%81%E9%9A%8F%E6%83%B3%E5%BD%95/%E5%9B%9E%E6%BA%AF%E7%AE%97%E6%B3%95/332.%20%E9%87%8D%E6%96%B0%E5%AE%89%E6%8E%92%E8%A1%8C%E7%A8%8B.ipynb#W2sZmlsZQ%3D%3D?line=9'>10</a>\u001b[0m \u001b[39mreturn\u001b[39;00m result[\u001b[39m0\u001b[39m]\n",
      "\u001b[1;32mc:\\Users\\1\\Desktop\\Study\\PyStudy\\LeetCode\\代码随想录\\回溯算法\\332. 重新安排行程.ipynb Cell 3\u001b[0m in \u001b[0;36mSolution.backtracking\u001b[1;34m(self, tickets, used, cur, path, result)\u001b[0m\n\u001b[0;32m     <a href='vscode-notebook-cell:/c%3A/Users/1/Desktop/Study/PyStudy/LeetCode/%E4%BB%A3%E7%A0%81%E9%9A%8F%E6%83%B3%E5%BD%95/%E5%9B%9E%E6%BA%AF%E7%AE%97%E6%B3%95/332.%20%E9%87%8D%E6%96%B0%E5%AE%89%E6%8E%92%E8%A1%8C%E7%A8%8B.ipynb#W2sZmlsZQ%3D%3D?line=19'>20</a>\u001b[0m used[i] \u001b[39m=\u001b[39m \u001b[39mTrue\u001b[39;00m\n\u001b[0;32m     <a href='vscode-notebook-cell:/c%3A/Users/1/Desktop/Study/PyStudy/LeetCode/%E4%BB%A3%E7%A0%81%E9%9A%8F%E6%83%B3%E5%BD%95/%E5%9B%9E%E6%BA%AF%E7%AE%97%E6%B3%95/332.%20%E9%87%8D%E6%96%B0%E5%AE%89%E6%8E%92%E8%A1%8C%E7%A8%8B.ipynb#W2sZmlsZQ%3D%3D?line=20'>21</a>\u001b[0m path\u001b[39m.\u001b[39mappend(ticket[\u001b[39m1\u001b[39m])\n\u001b[1;32m---> <a href='vscode-notebook-cell:/c%3A/Users/1/Desktop/Study/PyStudy/LeetCode/%E4%BB%A3%E7%A0%81%E9%9A%8F%E6%83%B3%E5%BD%95/%E5%9B%9E%E6%BA%AF%E7%AE%97%E6%B3%95/332.%20%E9%87%8D%E6%96%B0%E5%AE%89%E6%8E%92%E8%A1%8C%E7%A8%8B.ipynb#W2sZmlsZQ%3D%3D?line=21'>22</a>\u001b[0m state \u001b[39m=\u001b[39m \u001b[39mself\u001b[39;49m\u001b[39m.\u001b[39;49mbacktracking(tickets, used, ticket[\u001b[39m1\u001b[39;49m], path, result)\n\u001b[0;32m     <a href='vscode-notebook-cell:/c%3A/Users/1/Desktop/Study/PyStudy/LeetCode/%E4%BB%A3%E7%A0%81%E9%9A%8F%E6%83%B3%E5%BD%95/%E5%9B%9E%E6%BA%AF%E7%AE%97%E6%B3%95/332.%20%E9%87%8D%E6%96%B0%E5%AE%89%E6%8E%92%E8%A1%8C%E7%A8%8B.ipynb#W2sZmlsZQ%3D%3D?line=22'>23</a>\u001b[0m used[i] \u001b[39m=\u001b[39m \u001b[39mFalse\u001b[39;00m\n\u001b[0;32m     <a href='vscode-notebook-cell:/c%3A/Users/1/Desktop/Study/PyStudy/LeetCode/%E4%BB%A3%E7%A0%81%E9%9A%8F%E6%83%B3%E5%BD%95/%E5%9B%9E%E6%BA%AF%E7%AE%97%E6%B3%95/332.%20%E9%87%8D%E6%96%B0%E5%AE%89%E6%8E%92%E8%A1%8C%E7%A8%8B.ipynb#W2sZmlsZQ%3D%3D?line=23'>24</a>\u001b[0m path\u001b[39m.\u001b[39mpop()\n",
      "\u001b[1;32mc:\\Users\\1\\Desktop\\Study\\PyStudy\\LeetCode\\代码随想录\\回溯算法\\332. 重新安排行程.ipynb Cell 3\u001b[0m in \u001b[0;36mSolution.backtracking\u001b[1;34m(self, tickets, used, cur, path, result)\u001b[0m\n\u001b[0;32m     <a href='vscode-notebook-cell:/c%3A/Users/1/Desktop/Study/PyStudy/LeetCode/%E4%BB%A3%E7%A0%81%E9%9A%8F%E6%83%B3%E5%BD%95/%E5%9B%9E%E6%BA%AF%E7%AE%97%E6%B3%95/332.%20%E9%87%8D%E6%96%B0%E5%AE%89%E6%8E%92%E8%A1%8C%E7%A8%8B.ipynb#W2sZmlsZQ%3D%3D?line=19'>20</a>\u001b[0m used[i] \u001b[39m=\u001b[39m \u001b[39mTrue\u001b[39;00m\n\u001b[0;32m     <a href='vscode-notebook-cell:/c%3A/Users/1/Desktop/Study/PyStudy/LeetCode/%E4%BB%A3%E7%A0%81%E9%9A%8F%E6%83%B3%E5%BD%95/%E5%9B%9E%E6%BA%AF%E7%AE%97%E6%B3%95/332.%20%E9%87%8D%E6%96%B0%E5%AE%89%E6%8E%92%E8%A1%8C%E7%A8%8B.ipynb#W2sZmlsZQ%3D%3D?line=20'>21</a>\u001b[0m path\u001b[39m.\u001b[39mappend(ticket[\u001b[39m1\u001b[39m])\n\u001b[1;32m---> <a href='vscode-notebook-cell:/c%3A/Users/1/Desktop/Study/PyStudy/LeetCode/%E4%BB%A3%E7%A0%81%E9%9A%8F%E6%83%B3%E5%BD%95/%E5%9B%9E%E6%BA%AF%E7%AE%97%E6%B3%95/332.%20%E9%87%8D%E6%96%B0%E5%AE%89%E6%8E%92%E8%A1%8C%E7%A8%8B.ipynb#W2sZmlsZQ%3D%3D?line=21'>22</a>\u001b[0m state \u001b[39m=\u001b[39m \u001b[39mself\u001b[39;49m\u001b[39m.\u001b[39;49mbacktracking(tickets, used, ticket[\u001b[39m1\u001b[39;49m], path, result)\n\u001b[0;32m     <a href='vscode-notebook-cell:/c%3A/Users/1/Desktop/Study/PyStudy/LeetCode/%E4%BB%A3%E7%A0%81%E9%9A%8F%E6%83%B3%E5%BD%95/%E5%9B%9E%E6%BA%AF%E7%AE%97%E6%B3%95/332.%20%E9%87%8D%E6%96%B0%E5%AE%89%E6%8E%92%E8%A1%8C%E7%A8%8B.ipynb#W2sZmlsZQ%3D%3D?line=22'>23</a>\u001b[0m used[i] \u001b[39m=\u001b[39m \u001b[39mFalse\u001b[39;00m\n\u001b[0;32m     <a href='vscode-notebook-cell:/c%3A/Users/1/Desktop/Study/PyStudy/LeetCode/%E4%BB%A3%E7%A0%81%E9%9A%8F%E6%83%B3%E5%BD%95/%E5%9B%9E%E6%BA%AF%E7%AE%97%E6%B3%95/332.%20%E9%87%8D%E6%96%B0%E5%AE%89%E6%8E%92%E8%A1%8C%E7%A8%8B.ipynb#W2sZmlsZQ%3D%3D?line=23'>24</a>\u001b[0m path\u001b[39m.\u001b[39mpop()\n",
      "    \u001b[1;31m[... skipping similar frames: Solution.backtracking at line 22 (72 times)]\u001b[0m\n",
      "\u001b[1;32mc:\\Users\\1\\Desktop\\Study\\PyStudy\\LeetCode\\代码随想录\\回溯算法\\332. 重新安排行程.ipynb Cell 3\u001b[0m in \u001b[0;36mSolution.backtracking\u001b[1;34m(self, tickets, used, cur, path, result)\u001b[0m\n\u001b[0;32m     <a href='vscode-notebook-cell:/c%3A/Users/1/Desktop/Study/PyStudy/LeetCode/%E4%BB%A3%E7%A0%81%E9%9A%8F%E6%83%B3%E5%BD%95/%E5%9B%9E%E6%BA%AF%E7%AE%97%E6%B3%95/332.%20%E9%87%8D%E6%96%B0%E5%AE%89%E6%8E%92%E8%A1%8C%E7%A8%8B.ipynb#W2sZmlsZQ%3D%3D?line=19'>20</a>\u001b[0m used[i] \u001b[39m=\u001b[39m \u001b[39mTrue\u001b[39;00m\n\u001b[0;32m     <a href='vscode-notebook-cell:/c%3A/Users/1/Desktop/Study/PyStudy/LeetCode/%E4%BB%A3%E7%A0%81%E9%9A%8F%E6%83%B3%E5%BD%95/%E5%9B%9E%E6%BA%AF%E7%AE%97%E6%B3%95/332.%20%E9%87%8D%E6%96%B0%E5%AE%89%E6%8E%92%E8%A1%8C%E7%A8%8B.ipynb#W2sZmlsZQ%3D%3D?line=20'>21</a>\u001b[0m path\u001b[39m.\u001b[39mappend(ticket[\u001b[39m1\u001b[39m])\n\u001b[1;32m---> <a href='vscode-notebook-cell:/c%3A/Users/1/Desktop/Study/PyStudy/LeetCode/%E4%BB%A3%E7%A0%81%E9%9A%8F%E6%83%B3%E5%BD%95/%E5%9B%9E%E6%BA%AF%E7%AE%97%E6%B3%95/332.%20%E9%87%8D%E6%96%B0%E5%AE%89%E6%8E%92%E8%A1%8C%E7%A8%8B.ipynb#W2sZmlsZQ%3D%3D?line=21'>22</a>\u001b[0m state \u001b[39m=\u001b[39m \u001b[39mself\u001b[39;49m\u001b[39m.\u001b[39;49mbacktracking(tickets, used, ticket[\u001b[39m1\u001b[39;49m], path, result)\n\u001b[0;32m     <a href='vscode-notebook-cell:/c%3A/Users/1/Desktop/Study/PyStudy/LeetCode/%E4%BB%A3%E7%A0%81%E9%9A%8F%E6%83%B3%E5%BD%95/%E5%9B%9E%E6%BA%AF%E7%AE%97%E6%B3%95/332.%20%E9%87%8D%E6%96%B0%E5%AE%89%E6%8E%92%E8%A1%8C%E7%A8%8B.ipynb#W2sZmlsZQ%3D%3D?line=22'>23</a>\u001b[0m used[i] \u001b[39m=\u001b[39m \u001b[39mFalse\u001b[39;00m\n\u001b[0;32m     <a href='vscode-notebook-cell:/c%3A/Users/1/Desktop/Study/PyStudy/LeetCode/%E4%BB%A3%E7%A0%81%E9%9A%8F%E6%83%B3%E5%BD%95/%E5%9B%9E%E6%BA%AF%E7%AE%97%E6%B3%95/332.%20%E9%87%8D%E6%96%B0%E5%AE%89%E6%8E%92%E8%A1%8C%E7%A8%8B.ipynb#W2sZmlsZQ%3D%3D?line=23'>24</a>\u001b[0m path\u001b[39m.\u001b[39mpop()\n",
      "\u001b[1;32mc:\\Users\\1\\Desktop\\Study\\PyStudy\\LeetCode\\代码随想录\\回溯算法\\332. 重新安排行程.ipynb Cell 3\u001b[0m in \u001b[0;36mSolution.backtracking\u001b[1;34m(self, tickets, used, cur, path, result)\u001b[0m\n\u001b[0;32m     <a href='vscode-notebook-cell:/c%3A/Users/1/Desktop/Study/PyStudy/LeetCode/%E4%BB%A3%E7%A0%81%E9%9A%8F%E6%83%B3%E5%BD%95/%E5%9B%9E%E6%BA%AF%E7%AE%97%E6%B3%95/332.%20%E9%87%8D%E6%96%B0%E5%AE%89%E6%8E%92%E8%A1%8C%E7%A8%8B.ipynb#W2sZmlsZQ%3D%3D?line=16'>17</a>\u001b[0m \u001b[39mfor\u001b[39;00m i, ticket \u001b[39min\u001b[39;00m \u001b[39menumerate\u001b[39m(tickets):\n\u001b[0;32m     <a href='vscode-notebook-cell:/c%3A/Users/1/Desktop/Study/PyStudy/LeetCode/%E4%BB%A3%E7%A0%81%E9%9A%8F%E6%83%B3%E5%BD%95/%E5%9B%9E%E6%BA%AF%E7%AE%97%E6%B3%95/332.%20%E9%87%8D%E6%96%B0%E5%AE%89%E6%8E%92%E8%A1%8C%E7%A8%8B.ipynb#W2sZmlsZQ%3D%3D?line=17'>18</a>\u001b[0m     \u001b[39mif\u001b[39;00m ticket[\u001b[39m0\u001b[39m] \u001b[39m!=\u001b[39m cur \u001b[39mor\u001b[39;00m used[i]:\n\u001b[1;32m---> <a href='vscode-notebook-cell:/c%3A/Users/1/Desktop/Study/PyStudy/LeetCode/%E4%BB%A3%E7%A0%81%E9%9A%8F%E6%83%B3%E5%BD%95/%E5%9B%9E%E6%BA%AF%E7%AE%97%E6%B3%95/332.%20%E9%87%8D%E6%96%B0%E5%AE%89%E6%8E%92%E8%A1%8C%E7%A8%8B.ipynb#W2sZmlsZQ%3D%3D?line=18'>19</a>\u001b[0m         \u001b[39mcontinue\u001b[39;00m\n\u001b[0;32m     <a href='vscode-notebook-cell:/c%3A/Users/1/Desktop/Study/PyStudy/LeetCode/%E4%BB%A3%E7%A0%81%E9%9A%8F%E6%83%B3%E5%BD%95/%E5%9B%9E%E6%BA%AF%E7%AE%97%E6%B3%95/332.%20%E9%87%8D%E6%96%B0%E5%AE%89%E6%8E%92%E8%A1%8C%E7%A8%8B.ipynb#W2sZmlsZQ%3D%3D?line=19'>20</a>\u001b[0m     used[i] \u001b[39m=\u001b[39m \u001b[39mTrue\u001b[39;00m\n\u001b[0;32m     <a href='vscode-notebook-cell:/c%3A/Users/1/Desktop/Study/PyStudy/LeetCode/%E4%BB%A3%E7%A0%81%E9%9A%8F%E6%83%B3%E5%BD%95/%E5%9B%9E%E6%BA%AF%E7%AE%97%E6%B3%95/332.%20%E9%87%8D%E6%96%B0%E5%AE%89%E6%8E%92%E8%A1%8C%E7%A8%8B.ipynb#W2sZmlsZQ%3D%3D?line=20'>21</a>\u001b[0m     path\u001b[39m.\u001b[39mappend(ticket[\u001b[39m1\u001b[39m])\n",
      "\u001b[1;31mKeyboardInterrupt\u001b[0m: "
     ]
    }
   ],
   "source": [
    "# tickets = [[\"MUC\",\"LHR\"],[\"JFK\",\"MUC\"],[\"SFO\",\"SJC\"],[\"LHR\",\"SFO\"]]\n",
    "# tickets = [[\"JFK\",\"SFO\"],[\"JFK\",\"ATL\"],[\"SFO\",\"ATL\"],[\"ATL\",\"JFK\"],[\"ATL\",\"SFO\"]]\n",
    "tickets = [[\"JFK\",\"SFO\"],[\"JFK\",\"ATL\"],[\"SFO\",\"JFK\"],[\"ATL\",\"AAA\"],[\"AAA\",\"BBB\"],[\"BBB\",\"ATL\"],[\"ATL\",\"AAA\"],[\"AAA\",\"BBB\"],[\"BBB\",\"ATL\"],[\"ATL\",\"AAA\"],[\"AAA\",\"BBB\"],[\"BBB\",\"ATL\"],[\"ATL\",\"AAA\"],[\"AAA\",\"BBB\"],[\"BBB\",\"ATL\"],[\"ATL\",\"AAA\"],[\"AAA\",\"BBB\"],[\"BBB\",\"ATL\"],[\"ATL\",\"AAA\"],[\"AAA\",\"BBB\"],[\"BBB\",\"ATL\"],[\"ATL\",\"AAA\"],[\"AAA\",\"BBB\"],[\"BBB\",\"ATL\"],[\"ATL\",\"AAA\"],[\"AAA\",\"BBB\"],[\"BBB\",\"ATL\"],[\"ATL\",\"AAA\"],[\"AAA\",\"BBB\"],[\"BBB\",\"ATL\"],[\"ATL\",\"AAA\"],[\"AAA\",\"BBB\"],[\"BBB\",\"ATL\"],[\"ATL\",\"AAA\"],[\"AAA\",\"BBB\"],[\"BBB\",\"ATL\"],[\"ATL\",\"AAA\"],[\"AAA\",\"BBB\"],[\"BBB\",\"ATL\"],[\"ATL\",\"AAA\"],[\"AAA\",\"BBB\"],[\"BBB\",\"ATL\"],[\"ATL\",\"AAA\"],[\"AAA\",\"BBB\"],[\"BBB\",\"ATL\"],[\"ATL\",\"AAA\"],[\"AAA\",\"BBB\"],[\"BBB\",\"ATL\"],[\"ATL\",\"AAA\"],[\"AAA\",\"BBB\"],[\"BBB\",\"ATL\"],[\"ATL\",\"AAA\"],[\"AAA\",\"BBB\"],[\"BBB\",\"ATL\"],[\"ATL\",\"AAA\"],[\"AAA\",\"BBB\"],[\"BBB\",\"ATL\"],[\"ATL\",\"AAA\"],[\"AAA\",\"BBB\"],[\"BBB\",\"ATL\"],[\"ATL\",\"AAA\"],[\"AAA\",\"BBB\"],[\"BBB\",\"ATL\"],[\"ATL\",\"AAA\"],[\"AAA\",\"BBB\"],[\"BBB\",\"ATL\"],[\"ATL\",\"AAA\"],[\"AAA\",\"BBB\"],[\"BBB\",\"ATL\"],[\"ATL\",\"AAA\"],[\"AAA\",\"BBB\"],[\"BBB\",\"ATL\"],[\"ATL\",\"AAA\"],[\"AAA\",\"BBB\"],[\"BBB\",\"ATL\"],[\"ATL\",\"AAA\"],[\"AAA\",\"BBB\"],[\"BBB\",\"ATL\"],[\"ATL\",\"AAA\"],[\"AAA\",\"BBB\"],[\"BBB\",\"ATL\"]]\n",
    "class Solution:\n",
    "    def findItinerary(self, tickets):\n",
    "        result = []\n",
    "        used = [False] * len(tickets)\n",
    "        tickets.sort()\n",
    "        self.backtracking(tickets, used, \"JFK\", [\"JFK\"], result)\n",
    "        return result[0]\n",
    "\n",
    "    def backtracking(self, tickets, used, cur, path, result):\n",
    "        if len(path) == len(tickets) + 1:\n",
    "            result.append(path.copy())\n",
    "            return True\n",
    "\n",
    "        for i, ticket in enumerate(tickets):\n",
    "            if ticket[0] != cur or used[i]:\n",
    "                continue\n",
    "            used[i] = True\n",
    "            path.append(ticket[1])\n",
    "            state = self.backtracking(tickets, used, ticket[1], path, result)\n",
    "            used[i] = False\n",
    "            path.pop()\n",
    "            if state:\n",
    "                return True\n",
    "\n",
    "Solution().findItinerary(tickets)"
   ]
  },
  {
   "cell_type": "code",
   "execution_count": null,
   "metadata": {},
   "outputs": [],
   "source": []
  }
 ],
 "metadata": {
  "kernelspec": {
   "display_name": "Python 3.10.6 64-bit",
   "language": "python",
   "name": "python3"
  },
  "language_info": {
   "codemirror_mode": {
    "name": "ipython",
    "version": 3
   },
   "file_extension": ".py",
   "mimetype": "text/x-python",
   "name": "python",
   "nbconvert_exporter": "python",
   "pygments_lexer": "ipython3",
   "version": "3.10.6"
  },
  "orig_nbformat": 4,
  "vscode": {
   "interpreter": {
    "hash": "43e4d72c8ad61331984bc36f87d846bb73452d1c2c0cb0d0679bd7cf00b5eb21"
   }
  }
 },
 "nbformat": 4,
 "nbformat_minor": 2
}
