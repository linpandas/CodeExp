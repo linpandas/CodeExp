{
 "cells": [
  {
   "cell_type": "code",
   "execution_count": 12,
   "metadata": {},
   "outputs": [
    {
     "data": {
      "text/plain": [
       "[[1, 2], [1, 3], [1, 4], [2, 3], [2, 4], [3, 4]]"
      ]
     },
     "execution_count": 12,
     "metadata": {},
     "output_type": "execute_result"
    }
   ],
   "source": [
    "n, k = 4, 2\n",
    "class Solution:\n",
    "    def combine(self, n: int, k: int):\n",
    "        result = []\n",
    "        self.backtracking(n, k, 1, [], result)\n",
    "        return result\n",
    "\n",
    "    def backtracking(self, n, k, startIndex, path, result):\n",
    "        if len(path) == k:\n",
    "            result.append(path.copy())\n",
    "            return\n",
    "\n",
    "        for i in range(startIndex, n+1):\n",
    "            path.append(i)\n",
    "            self.backtracking(n, k, i+1, path, result)\n",
    "            path.pop()\n",
    "\n",
    "Solution().combine(n, k)\n"
   ]
  },
  {
   "cell_type": "code",
   "execution_count": 19,
   "metadata": {},
   "outputs": [
    {
     "data": {
      "text/plain": [
       "[[1, 2], [1, 3], [2, 3]]"
      ]
     },
     "execution_count": 19,
     "metadata": {},
     "output_type": "execute_result"
    }
   ],
   "source": [
    "from typing import List\n",
    "n, k = 4, 2\n",
    "class Solution:\n",
    "    def combine(self, n: int, k: int) -> List[List[int]]:\n",
    "        # 剪枝优化\n",
    "        result = []\n",
    "        self.backtracking(n, k, 1, [], result)\n",
    "        return result\n",
    "\n",
    "    def backtracking(self, n, k, starIndex, path, result):\n",
    "        if len(path) == k:\n",
    "            result.append(path[:])\n",
    "            return\n",
    "\n",
    "        for i in range(starIndex, n-(k-len(path))+):\n",
    "            path.append(i)\n",
    "            self.backtracking(n, k, i+1, path, result)\n",
    "            path.pop()\n",
    "\n",
    "Solution().combine(n, k)"
   ]
  },
  {
   "cell_type": "code",
   "execution_count": null,
   "metadata": {},
   "outputs": [],
   "source": []
  }
 ],
 "metadata": {
  "kernelspec": {
   "display_name": "Python 3.10.6 64-bit",
   "language": "python",
   "name": "python3"
  },
  "language_info": {
   "codemirror_mode": {
    "name": "ipython",
    "version": 3
   },
   "file_extension": ".py",
   "mimetype": "text/x-python",
   "name": "python",
   "nbconvert_exporter": "python",
   "pygments_lexer": "ipython3",
   "version": "3.10.6"
  },
  "orig_nbformat": 4,
  "vscode": {
   "interpreter": {
    "hash": "43e4d72c8ad61331984bc36f87d846bb73452d1c2c0cb0d0679bd7cf00b5eb21"
   }
  }
 },
 "nbformat": 4,
 "nbformat_minor": 2
}
